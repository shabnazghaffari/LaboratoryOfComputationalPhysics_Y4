{
  "cells": [
    {
      "cell_type": "markdown",
      "metadata": {
        "id": "view-in-github",
        "colab_type": "text"
      },
      "source": [
        "<a href=\"https://colab.research.google.com/github/shabnazghaffari/LaboratoryOfComputationalPhysics_Y4/blob/main/shab_max.ipynb\" target=\"_parent\"><img src=\"https://colab.research.google.com/assets/colab-badge.svg\" alt=\"Open In Colab\"/></a>"
      ]
    },
    {
      "cell_type": "markdown",
      "metadata": {
        "id": "gg2zkr-8QC2l"
      },
      "source": [
        "# **P02 - Naive Bayes classifier for Fake News recognition**\n",
        "**Advanced Statistics 4 Physics Analysis 2023 - Group Assignment** <br>\n",
        "Shabnaz Ghaffari (2040475)<br>\n",
        "Maximilian Theodor Peter (2089859)"
      ]
    },
    {
      "cell_type": "markdown",
      "metadata": {
        "id": "XhxQU-RxDI8S"
      },
      "source": [
        "## **0 - Assignment Description**"
      ]
    },
    {
      "cell_type": "markdown",
      "metadata": {
        "id": "PeyfizCLQi6N"
      },
      "source": [
        "*Description:* <br>\n",
        "<hr style=\"border:2px solid gray\">\n",
        "Fake news are defined by the New York Times as ”a made-up story with an intention to deceive”, with the intent to confuse or deceive people. They are everywhere in our daily life, and come especially from social media platforms and applications in the online world. Being able to distinguish fake contents form real news is today one of the most serious challenges facing the news industry. Naive Bayes classifiers [1] are powerful algorithms that are used for text data analysis and are connected to classification tasks of text in multiple classes. The goal of the project is to implement a Multinomial Naive Bayes classifier in R and test its performances in the classification of social media posts."
      ]
    },
    {
      "cell_type": "markdown",
      "metadata": {
        "id": "RTaNfJcyC_LF"
      },
      "source": [
        "*Bibliography / Data Source:*<br>\n",
        "<hr style=\"border:2px solid gray\">\n",
        "[1] C. D. Manning, Chapter 13, Text Classification and Naive Bayes, in Introduction to Information Retrieval, Cambridge University Press, 2008 <br>\n",
        "[2] Fake News Content Detection, KAGGLE data set: https://www.kaggle.com/datasets/anmolkumar/fake-news-content-detection?select=train.csv <br>\n",
        "[3] Fake News: build a system to identify unreliable news articles https://www.kaggle.com/competitions/fake-news/data?select=train.csv\n"
      ]
    },
    {
      "cell_type": "markdown",
      "metadata": {
        "id": "ERGBodoOE956"
      },
      "source": [
        "*Dataset Comment:* <br>\n",
        "<hr style=\"border:2px solid gray\">\n",
        "Dataset [2] consists of a training set wth 10,240 instances and a test set with 1,267 instances. The test set is unlabelled, the training set is labelled as followed: <br>\n",
        "\n",
        "| classifier | label|\n",
        "|------------|-------|\n",
        "| true  | 5          |\n",
        "| mostly true | 3    |\n",
        "| half true   | 2    |\n",
        "| barely true | 0    |\n",
        "| false | 1          |\n",
        "| unknown | 4        |\n",
        "\n",
        "\n",
        "Dataset [3] is completely unrelated to datasets [2] and has 20,799 instances, labelled as: <br>\n",
        "\n",
        "| classifier | label|\n",
        "|------------|-------|\n",
        "| reliable  | 1      |\n",
        "| unreliable | 0     |\n"
      ]
    },
    {
      "cell_type": "markdown",
      "metadata": {
        "id": "ZMR9S3YO8fki"
      },
      "source": [
        "## **1 - Approach and Overview**\n"
      ]
    },
    {
      "cell_type": "markdown",
      "source": [
        "### **1.1 - Part 1: Normal NBC**"
      ],
      "metadata": {
        "id": "e01pIA1JzqCz"
      }
    },
    {
      "cell_type": "markdown",
      "source": [
        "First we are creating a Naive Bayesian Classifier from scratch.<br>\n",
        "Second we are using the R library \"e1071\" for comparison."
      ],
      "metadata": {
        "id": "WEZN3otYDC8G"
      }
    },
    {
      "cell_type": "markdown",
      "source": [
        "### **1.2 - Part 2: Binominal & Gaussian NBC**"
      ],
      "metadata": {
        "id": "lQH_SGlzCQtL"
      }
    },
    {
      "cell_type": "markdown",
      "metadata": {
        "id": "JVBX7z4_41n9"
      },
      "source": [
        "The labels in the training dataset were meant to be seen independent in an NBC. The degree of truthfulness is no a spectrum and unknown is not part of this spectrm. So we choose to split the labels into 2 dimensions: known and true. This opens up a little more fun analysis for binominal label \"known\" and continuous \"true\".\n",
        "\n",
        "\n"
      ]
    },
    {
      "cell_type": "markdown",
      "source": [
        "![1_true-known.png](data:image/png;base64,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)"
      ],
      "metadata": {
        "id": "mjMTUxg6_Yhb"
      }
    },
    {
      "cell_type": "markdown",
      "metadata": {
        "id": "BcpCyWWI4sAo"
      },
      "source": [
        "This makes further sense for this assignment as we want to check dataset [3] that only provides the two labels \"reliable\" and \"unreliable\". We look at the results independently regarding \"known\" and \"true\" and will try to get these 2 parameter together as reliability can be seen as to which certainty we can say how true the text is."
      ]
    },
    {
      "cell_type": "markdown",
      "source": [
        "### **1.3 - Expected Problems**\n"
      ],
      "metadata": {
        "id": "_GBcYlrsz-Ry"
      }
    },
    {
      "cell_type": "markdown",
      "source": [
        "*Available Information:* <br>\n",
        "<hr style=\"border:2px solid gray\">\n",
        "Generally it is recommended to include as much relevant information as possible to improve the classifier's performance. Next to the text there main text we have \"tags\" and later \"author\" for dataset [3]. <br>\n",
        "- Tags will be sighted first, then added to the main text.<br>\n",
        "- As author ist not part of our training data, we can look at the authorslater and try to  find  \"fake news spreaders\"."
      ],
      "metadata": {
        "id": "328YWAMgC96f"
      }
    },
    {
      "cell_type": "markdown",
      "source": [
        "*Polarity:* <br>\n",
        "<hr style=\"border:2px solid gray\">\n",
        "Polarity in this context is about the negating line of a sentence. As it flips the statement by 180°. For example:<br>\n",
        "\"George Bush is Irish\" or \"George Bush is **not** Irish\"<br>\n",
        "The NBC will take the word \"george\" \"bush\" and \"irish\" into account as well as \"not\", in more complex texts the weight of \"not\" will be most probably not be recognized by the NBC. At this point we  assume that certain buzzwords and word combinations gives us a likelihood of \"fake news\" rather than detecting the real meaning of a sentence. This shall be considwered when interpreting our results."
      ],
      "metadata": {
        "id": "Fa3OZS7ICv6H"
      }
    },
    {
      "cell_type": "markdown",
      "source": [
        "*Text length* <br>\n",
        "<hr style=\"border:2px solid gray\">\n",
        "training dataset [2] 10 - 20 words<br>\n",
        "test dataset [3]: 500-1000 words<br>\n",
        "It is highly expected as [3] is much more complex that our NBC will fail there. Comments will be provided and another take on dataset [3] will be given."
      ],
      "metadata": {
        "id": "tmrS9gpGCvv3"
      }
    },
    {
      "cell_type": "markdown",
      "source": [
        "*Sarcasm / Quotes / Trolling:* <br>\n",
        "<hr style=\"border:2px solid gray\">\n",
        "Sarcasm and Irony is quite frequent on social media, we don't even know how such posts are labelled. Further quoting some false statement and disregarding it might not be detected as well with a simple method that we use. Last but not least, \"trolling\" or what can be seen as intentionally deceiving or confusing media posts are frequent in SM and problematic if part of the data.\n",
        "<br>So in general our results in the end have to be interpreted with a grain of salt."
      ],
      "metadata": {
        "id": "TAwJDcMJ_5AY"
      }
    },
    {
      "cell_type": "markdown",
      "source": [
        "### **1.4 - Packages**\n"
      ],
      "metadata": {
        "id": "bnD-6-Uc0E_S"
      }
    },
    {
      "cell_type": "markdown",
      "source": [
        "#### install packages"
      ],
      "metadata": {
        "id": "OJaUQroCxF2j"
      }
    },
    {
      "cell_type": "code",
      "execution_count": 181,
      "metadata": {
        "colab": {
          "base_uri": "https://localhost:8080/"
        },
        "id": "iKuZhjq78cQh",
        "outputId": "dba81145-eb89-4b7c-c2b9-6160e1bb705f"
      },
      "outputs": [
        {
          "output_type": "stream",
          "name": "stderr",
          "text": [
            "Installing package into ‘/usr/local/lib/R/site-library’\n",
            "(as ‘lib’ is unspecified)\n",
            "\n",
            "Installing package into ‘/usr/local/lib/R/site-library’\n",
            "(as ‘lib’ is unspecified)\n",
            "\n",
            "Installing package into ‘/usr/local/lib/R/site-library’\n",
            "(as ‘lib’ is unspecified)\n",
            "\n",
            "Installing package into ‘/usr/local/lib/R/site-library’\n",
            "(as ‘lib’ is unspecified)\n",
            "\n",
            "Installing package into ‘/usr/local/lib/R/site-library’\n",
            "(as ‘lib’ is unspecified)\n",
            "\n",
            "Installing package into ‘/usr/local/lib/R/site-library’\n",
            "(as ‘lib’ is unspecified)\n",
            "\n",
            "Installing package into ‘/usr/local/lib/R/site-library’\n",
            "(as ‘lib’ is unspecified)\n",
            "\n",
            "Installing package into ‘/usr/local/lib/R/site-library’\n",
            "(as ‘lib’ is unspecified)\n",
            "\n",
            "Installing package into ‘/usr/local/lib/R/site-library’\n",
            "(as ‘lib’ is unspecified)\n",
            "\n",
            "Installing package into ‘/usr/local/lib/R/site-library’\n",
            "(as ‘lib’ is unspecified)\n",
            "\n",
            "Installing package into ‘/usr/local/lib/R/site-library’\n",
            "(as ‘lib’ is unspecified)\n",
            "\n"
          ]
        }
      ],
      "source": [
        "# INSTALL\n",
        "install.packages(\"tm\")\n",
        "install.packages(\"SnowballC\")\n",
        "install.packages(\"textstem\")\n",
        "install.packages(\"ggplot2\")\n",
        "install.packages(\"quanteda\")\n",
        "install.packages(\"wordcloud\")\n",
        "install.packages(\"e1071\")\n",
        "install.packages(\"gridExtra\")\n",
        "install.packages(\"caret\")\n",
        "install.packages(\"tidytext\")\n",
        "install.packages(\"naivebayes\")\n",
        "\n"
      ]
    },
    {
      "cell_type": "markdown",
      "source": [
        "#### libraries packages"
      ],
      "metadata": {
        "id": "rNtFpZBwxIm_"
      }
    },
    {
      "cell_type": "code",
      "execution_count": 182,
      "metadata": {
        "id": "itjhTJ3ZDmu6"
      },
      "outputs": [],
      "source": [
        "#for data preparation\n",
        "library(tm)        #\n",
        "library(SnowballC) #\n",
        "library(textstem)  # Stemming words\n",
        "library(ggplot2)   # Plotting\n",
        "library(quanteda)  #\n",
        "library(wordcloud) # Visualize Vocublary\n",
        "library(e1071)     # NBC\n",
        "library(gridExtra)\n",
        "library(caret)\n",
        "library(tidytext)\n",
        "library(naivebayes)\n",
        "\n"
      ]
    },
    {
      "cell_type": "markdown",
      "metadata": {
        "id": "h9jBtMWgPcRz"
      },
      "source": [
        "## **2 - Data Preparation**"
      ]
    },
    {
      "cell_type": "markdown",
      "metadata": {
        "id": "-LmC33XgUQ2K"
      },
      "source": [
        "### **2.1 Import Data & Adjust Labels**"
      ]
    },
    {
      "cell_type": "markdown",
      "source": [
        "#### code"
      ],
      "metadata": {
        "id": "TQ1us08zQLfT"
      }
    },
    {
      "cell_type": "code",
      "execution_count": 183,
      "metadata": {
        "id": "Rl_odo5iPDZy"
      },
      "outputs": [],
      "source": [
        "# import\n",
        "data1_raw <- read.csv(\"train.csv\")\n",
        "data2_raw <- read.csv(\"dataset.csv\")"
      ]
    },
    {
      "cell_type": "code",
      "execution_count": 184,
      "metadata": {
        "id": "Rf0lFnYDTVcU"
      },
      "outputs": [],
      "source": [
        "#adjusting labels for later easier identification:\n",
        "unknown    <- 0\n",
        "false      <- 1\n",
        "barelytrue <- 2\n",
        "halftrue   <- 3\n",
        "mostlytrue <- 4\n",
        "true       <- 5\n",
        "known      <- 6\n",
        "\n",
        "\n",
        "data1 <- data1_raw\n",
        "# rename\n",
        "data1$text <- data1$Text\n",
        "data1$Text <- NULL\n",
        "data1$text <- paste(data1$text, data1$tag, sep = \" \") # add tag to main text\n",
        "data1$label <- ifelse(data1_raw$Labels == 4, unknown,\n",
        "                      ifelse(data1_raw$Labels == 1, false,\n",
        "                             ifelse(data1_raw$Labels == 0, barelytrue,\n",
        "                                    ifelse(data1_raw$Labels == 2, halftrue,\n",
        "                                           ifelse(data1_raw$Labels == 3, mostlytrue,\n",
        "                                                  ifelse(data1_raw$Labels == 5, true, NA)\n",
        "                                           )\n",
        "                                    )\n",
        "                             )\n",
        "                      )\n",
        "              )\n",
        "# add for later part2\n",
        "data1$true  <- ifelse(data1$label == unknown, NA, data1$label)\n",
        "data1$known <- ifelse(data1$label > unknown, known, unknown)\n",
        "#remove\n",
        "data1$tag <- data1$Text_Tag\n",
        "data1$Text_Tag <- NULL\n",
        "data1$Labels <- NULL\n",
        "data1$tag <- NULL"
      ]
    },
    {
      "cell_type": "code",
      "source": [
        " data2_raw <- read.csv(\"dataset.csv\")\n",
        " data2 <- data2_raw\n",
        " data2$text <- paste(data2$text, data2$title, sep = \" \") # add title to main text\n",
        " data2 <- data2[, !(names(data2) == \"id\")]\n",
        " data2 <- data2[, !(names(data2) == \"title\")]\n",
        " data2 <- data2[, !(names(data2) == \"author\")]"
      ],
      "metadata": {
        "id": "MZfBENwBQGON"
      },
      "execution_count": 185,
      "outputs": []
    },
    {
      "cell_type": "markdown",
      "source": [
        "#### results"
      ],
      "metadata": {
        "id": "Jp_QrMGrQQmj"
      }
    },
    {
      "cell_type": "code",
      "execution_count": 186,
      "metadata": {
        "id": "MJkm1EdG-xUY",
        "colab": {
          "base_uri": "https://localhost:8080/",
          "height": 0
        },
        "outputId": "b299ec91-618e-4915-90ef-63666200b390"
      },
      "outputs": [
        {
          "output_type": "display_data",
          "data": {
            "text/html": [
              "<table class=\"dataframe\">\n",
              "<caption>A data.frame: 5 × 4</caption>\n",
              "<thead>\n",
              "\t<tr><th></th><th scope=col>text</th><th scope=col>label</th><th scope=col>true</th><th scope=col>known</th></tr>\n",
              "\t<tr><th></th><th scope=col>&lt;chr&gt;</th><th scope=col>&lt;dbl&gt;</th><th scope=col>&lt;dbl&gt;</th><th scope=col>&lt;dbl&gt;</th></tr>\n",
              "</thead>\n",
              "<tbody>\n",
              "\t<tr><th scope=row>1</th><td>Says the Annies List political group supports third-trimester abortions on demand.                                                            </td><td>1</td><td>1</td><td>6</td></tr>\n",
              "\t<tr><th scope=row>2</th><td>When did the decline of coal start? It started when natural gas took off that started to begin in (President George W.) Bushs administration. </td><td>3</td><td>3</td><td>6</td></tr>\n",
              "\t<tr><th scope=row>3</th><td>Hillary Clinton agrees with John McCain \"by voting to give George Bush the benefit of the doubt on Iran.\"                                     </td><td>4</td><td>4</td><td>6</td></tr>\n",
              "\t<tr><th scope=row>4</th><td>Health care reform legislation is likely to mandate free sex change surgeries.                                                                </td><td>1</td><td>1</td><td>6</td></tr>\n",
              "\t<tr><th scope=row>5</th><td>The economic turnaround started at the end of my term.                                                                                        </td><td>3</td><td>3</td><td>6</td></tr>\n",
              "</tbody>\n",
              "</table>\n"
            ],
            "text/markdown": "\nA data.frame: 5 × 4\n\n| <!--/--> | text &lt;chr&gt; | label &lt;dbl&gt; | true &lt;dbl&gt; | known &lt;dbl&gt; |\n|---|---|---|---|---|\n| 1 | Says the Annies List political group supports third-trimester abortions on demand.                                                             | 1 | 1 | 6 |\n| 2 | When did the decline of coal start? It started when natural gas took off that started to begin in (President George W.) Bushs administration.  | 3 | 3 | 6 |\n| 3 | Hillary Clinton agrees with John McCain \"by voting to give George Bush the benefit of the doubt on Iran.\"                                      | 4 | 4 | 6 |\n| 4 | Health care reform legislation is likely to mandate free sex change surgeries.                                                                 | 1 | 1 | 6 |\n| 5 | The economic turnaround started at the end of my term.                                                                                         | 3 | 3 | 6 |\n\n",
            "text/latex": "A data.frame: 5 × 4\n\\begin{tabular}{r|llll}\n  & text & label & true & known\\\\\n  & <chr> & <dbl> & <dbl> & <dbl>\\\\\n\\hline\n\t1 & Says the Annies List political group supports third-trimester abortions on demand.                                                             & 1 & 1 & 6\\\\\n\t2 & When did the decline of coal start? It started when natural gas took off that started to begin in (President George W.) Bushs administration.  & 3 & 3 & 6\\\\\n\t3 & Hillary Clinton agrees with John McCain \"by voting to give George Bush the benefit of the doubt on Iran.\"                                      & 4 & 4 & 6\\\\\n\t4 & Health care reform legislation is likely to mandate free sex change surgeries.                                                                 & 1 & 1 & 6\\\\\n\t5 & The economic turnaround started at the end of my term.                                                                                         & 3 & 3 & 6\\\\\n\\end{tabular}\n",
            "text/plain": [
              "  text                                                                                                                                          \n",
              "1 Says the Annies List political group supports third-trimester abortions on demand.                                                            \n",
              "2 When did the decline of coal start? It started when natural gas took off that started to begin in (President George W.) Bushs administration. \n",
              "3 Hillary Clinton agrees with John McCain \"by voting to give George Bush the benefit of the doubt on Iran.\"                                     \n",
              "4 Health care reform legislation is likely to mandate free sex change surgeries.                                                                \n",
              "5 The economic turnaround started at the end of my term.                                                                                        \n",
              "  label true known\n",
              "1 1     1    6    \n",
              "2 3     3    6    \n",
              "3 4     4    6    \n",
              "4 1     1    6    \n",
              "5 3     3    6    "
            ]
          },
          "metadata": {}
        },
        {
          "output_type": "display_data",
          "data": {
            "text/html": [
              "<table class=\"dataframe\">\n",
              "<caption>A data.frame: 1 × 2</caption>\n",
              "<thead>\n",
              "\t<tr><th></th><th scope=col>text</th><th scope=col>label</th></tr>\n",
              "\t<tr><th></th><th scope=col>&lt;chr&gt;</th><th scope=col>&lt;int&gt;</th></tr>\n",
              "</thead>\n",
              "<tbody>\n",
              "\t<tr><th scope=row>1</th><td>House Dem Aide: We Didn’t Even See Comey’s Letter Until Jason Chaffetz Tweeted It By Darrell Lucus on October 30, 2016 Subscribe Jason Chaffetz on the stump in American Fork, Utah ( image courtesy Michael Jolley, available under a Creative Commons-BY license) \n",
              "With apologies to Keith Olbermann, there is no doubt who the Worst Person in The World is this week–FBI Director James Comey. But according to a House Democratic aide, it looks like we also know who the second-worst person is as well. It turns out that when Comey sent his now-infamous letter announcing that the FBI was looking into emails that may be related to Hillary Clinton’s email server, the ranking Democrats on the relevant committees didn’t hear about it from Comey. They found out via a tweet from one of the Republican committee chairmen. \n",
              "As we now know, Comey notified the Republican chairmen and Democratic ranking members of the House Intelligence, Judiciary, and Oversight committees that his agency was reviewing emails it had recently discovered in order to see if they contained classified information. Not long after this letter went out, Oversight Committee Chairman Jason Chaffetz set the political world ablaze with this tweet. FBI Dir just informed me, \"The FBI has learned of the existence of emails that appear to be pertinent to the investigation.\" Case reopened \n",
              "— Jason Chaffetz (@jasoninthehouse) October 28, 2016 \n",
              "Of course, we now know that this was not the case . Comey was actually saying that it was reviewing the emails in light of “an unrelated case”–which we now know to be Anthony Weiner’s sexting with a teenager. But apparently such little things as facts didn’t matter to Chaffetz. The Utah Republican had already vowed to initiate a raft of investigations if Hillary wins–at least two years’ worth, and possibly an entire term’s worth of them. Apparently Chaffetz thought the FBI was already doing his work for him–resulting in a tweet that briefly roiled the nation before cooler heads realized it was a dud. \n",
              "But according to a senior House Democratic aide, misreading that letter may have been the least of Chaffetz’ sins. That aide told Shareblue that his boss and other Democrats didn’t even know about Comey’s letter at the time–and only found out when they checked Twitter. “Democratic Ranking Members on the relevant committees didn’t receive Comey’s letter until after the Republican Chairmen. In fact, the Democratic Ranking Members didn’ receive it until after the Chairman of the Oversight and Government Reform Committee, Jason Chaffetz, tweeted it out and made it public.” \n",
              "So let’s see if we’ve got this right. The FBI director tells Chaffetz and other GOP committee chairmen about a major development in a potentially politically explosive investigation, and neither Chaffetz nor his other colleagues had the courtesy to let their Democratic counterparts know about it. Instead, according to this aide, he made them find out about it on Twitter. \n",
              "There has already been talk on Daily Kos that Comey himself provided advance notice of this letter to Chaffetz and other Republicans, giving them time to turn on the spin machine. That may make for good theater, but there is nothing so far that even suggests this is the case. After all, there is nothing so far that suggests that Comey was anything other than grossly incompetent and tone-deaf. \n",
              "What it does suggest, however, is that Chaffetz is acting in a way that makes Dan Burton and Darrell Issa look like models of responsibility and bipartisanship. He didn’t even have the decency to notify ranking member Elijah Cummings about something this explosive. If that doesn’t trample on basic standards of fairness, I don’t know what does. \n",
              "Granted, it’s not likely that Chaffetz will have to answer for this. He sits in a ridiculously Republican district anchored in Provo and Orem; it has a Cook Partisan Voting Index of R+25, and gave Mitt Romney a punishing 78 percent of the vote in 2012. Moreover, the Republican House leadership has given its full support to Chaffetz’ planned fishing expedition. But that doesn’t mean we can’t turn the hot lights on him. After all, he is a textbook example of what the House has become under Republican control. And he is also the Second Worst Person in the World. About Darrell Lucus \n",
              "Darrell is a 30-something graduate of the University of North Carolina who considers himself a journalist of the old school. An attempt to turn him into a member of the religious right in college only succeeded in turning him into the religious right's worst nightmare--a charismatic Christian who is an unapologetic liberal. His desire to stand up for those who have been scared into silence only increased when he survived an abusive three-year marriage. You may know him on Daily Kos as Christian Dem in NC . Follow him on Twitter @DarrellLucus or connect with him on Facebook . Click here to buy Darrell a Mello Yello. Connect House Dem Aide: We Didn’t Even See Comey’s Letter Until Jason Chaffetz Tweeted It</td><td>1</td></tr>\n",
              "</tbody>\n",
              "</table>\n"
            ],
            "text/markdown": "\nA data.frame: 1 × 2\n\n| <!--/--> | text &lt;chr&gt; | label &lt;int&gt; |\n|---|---|---|\n| 1 | House Dem Aide: We Didn’t Even See Comey’s Letter Until Jason Chaffetz Tweeted It By Darrell Lucus on October 30, 2016 Subscribe Jason Chaffetz on the stump in American Fork, Utah ( image courtesy Michael Jolley, available under a Creative Commons-BY license) \nWith apologies to Keith Olbermann, there is no doubt who the Worst Person in The World is this week–FBI Director James Comey. But according to a House Democratic aide, it looks like we also know who the second-worst person is as well. It turns out that when Comey sent his now-infamous letter announcing that the FBI was looking into emails that may be related to Hillary Clinton’s email server, the ranking Democrats on the relevant committees didn’t hear about it from Comey. They found out via a tweet from one of the Republican committee chairmen. \nAs we now know, Comey notified the Republican chairmen and Democratic ranking members of the House Intelligence, Judiciary, and Oversight committees that his agency was reviewing emails it had recently discovered in order to see if they contained classified information. Not long after this letter went out, Oversight Committee Chairman Jason Chaffetz set the political world ablaze with this tweet. FBI Dir just informed me, \"The FBI has learned of the existence of emails that appear to be pertinent to the investigation.\" Case reopened \n— Jason Chaffetz (@jasoninthehouse) October 28, 2016 \nOf course, we now know that this was not the case . Comey was actually saying that it was reviewing the emails in light of “an unrelated case”–which we now know to be Anthony Weiner’s sexting with a teenager. But apparently such little things as facts didn’t matter to Chaffetz. The Utah Republican had already vowed to initiate a raft of investigations if Hillary wins–at least two years’ worth, and possibly an entire term’s worth of them. Apparently Chaffetz thought the FBI was already doing his work for him–resulting in a tweet that briefly roiled the nation before cooler heads realized it was a dud. \nBut according to a senior House Democratic aide, misreading that letter may have been the least of Chaffetz’ sins. That aide told Shareblue that his boss and other Democrats didn’t even know about Comey’s letter at the time–and only found out when they checked Twitter. “Democratic Ranking Members on the relevant committees didn’t receive Comey’s letter until after the Republican Chairmen. In fact, the Democratic Ranking Members didn’ receive it until after the Chairman of the Oversight and Government Reform Committee, Jason Chaffetz, tweeted it out and made it public.” \nSo let’s see if we’ve got this right. The FBI director tells Chaffetz and other GOP committee chairmen about a major development in a potentially politically explosive investigation, and neither Chaffetz nor his other colleagues had the courtesy to let their Democratic counterparts know about it. Instead, according to this aide, he made them find out about it on Twitter. \nThere has already been talk on Daily Kos that Comey himself provided advance notice of this letter to Chaffetz and other Republicans, giving them time to turn on the spin machine. That may make for good theater, but there is nothing so far that even suggests this is the case. After all, there is nothing so far that suggests that Comey was anything other than grossly incompetent and tone-deaf. \nWhat it does suggest, however, is that Chaffetz is acting in a way that makes Dan Burton and Darrell Issa look like models of responsibility and bipartisanship. He didn’t even have the decency to notify ranking member Elijah Cummings about something this explosive. If that doesn’t trample on basic standards of fairness, I don’t know what does. \nGranted, it’s not likely that Chaffetz will have to answer for this. He sits in a ridiculously Republican district anchored in Provo and Orem; it has a Cook Partisan Voting Index of R+25, and gave Mitt Romney a punishing 78 percent of the vote in 2012. Moreover, the Republican House leadership has given its full support to Chaffetz’ planned fishing expedition. But that doesn’t mean we can’t turn the hot lights on him. After all, he is a textbook example of what the House has become under Republican control. And he is also the Second Worst Person in the World. About Darrell Lucus \nDarrell is a 30-something graduate of the University of North Carolina who considers himself a journalist of the old school. An attempt to turn him into a member of the religious right in college only succeeded in turning him into the religious right's worst nightmare--a charismatic Christian who is an unapologetic liberal. His desire to stand up for those who have been scared into silence only increased when he survived an abusive three-year marriage. You may know him on Daily Kos as Christian Dem in NC . Follow him on Twitter @DarrellLucus or connect with him on Facebook . Click here to buy Darrell a Mello Yello. Connect House Dem Aide: We Didn’t Even See Comey’s Letter Until Jason Chaffetz Tweeted It | 1 |\n\n",
            "text/latex": "A data.frame: 1 × 2\n\\begin{tabular}{r|ll}\n  & text & label\\\\\n  & <chr> & <int>\\\\\n\\hline\n\t1 & House Dem Aide: We Didn’t Even See Comey’s Letter Until Jason Chaffetz Tweeted It By Darrell Lucus on October 30, 2016 Subscribe Jason Chaffetz on the stump in American Fork, Utah ( image courtesy Michael Jolley, available under a Creative Commons-BY license) \nWith apologies to Keith Olbermann, there is no doubt who the Worst Person in The World is this week–FBI Director James Comey. But according to a House Democratic aide, it looks like we also know who the second-worst person is as well. It turns out that when Comey sent his now-infamous letter announcing that the FBI was looking into emails that may be related to Hillary Clinton’s email server, the ranking Democrats on the relevant committees didn’t hear about it from Comey. They found out via a tweet from one of the Republican committee chairmen. \nAs we now know, Comey notified the Republican chairmen and Democratic ranking members of the House Intelligence, Judiciary, and Oversight committees that his agency was reviewing emails it had recently discovered in order to see if they contained classified information. Not long after this letter went out, Oversight Committee Chairman Jason Chaffetz set the political world ablaze with this tweet. FBI Dir just informed me, \"The FBI has learned of the existence of emails that appear to be pertinent to the investigation.\" Case reopened \n— Jason Chaffetz (@jasoninthehouse) October 28, 2016 \nOf course, we now know that this was not the case . Comey was actually saying that it was reviewing the emails in light of “an unrelated case”–which we now know to be Anthony Weiner’s sexting with a teenager. But apparently such little things as facts didn’t matter to Chaffetz. The Utah Republican had already vowed to initiate a raft of investigations if Hillary wins–at least two years’ worth, and possibly an entire term’s worth of them. Apparently Chaffetz thought the FBI was already doing his work for him–resulting in a tweet that briefly roiled the nation before cooler heads realized it was a dud. \nBut according to a senior House Democratic aide, misreading that letter may have been the least of Chaffetz’ sins. That aide told Shareblue that his boss and other Democrats didn’t even know about Comey’s letter at the time–and only found out when they checked Twitter. “Democratic Ranking Members on the relevant committees didn’t receive Comey’s letter until after the Republican Chairmen. In fact, the Democratic Ranking Members didn’ receive it until after the Chairman of the Oversight and Government Reform Committee, Jason Chaffetz, tweeted it out and made it public.” \nSo let’s see if we’ve got this right. The FBI director tells Chaffetz and other GOP committee chairmen about a major development in a potentially politically explosive investigation, and neither Chaffetz nor his other colleagues had the courtesy to let their Democratic counterparts know about it. Instead, according to this aide, he made them find out about it on Twitter. \nThere has already been talk on Daily Kos that Comey himself provided advance notice of this letter to Chaffetz and other Republicans, giving them time to turn on the spin machine. That may make for good theater, but there is nothing so far that even suggests this is the case. After all, there is nothing so far that suggests that Comey was anything other than grossly incompetent and tone-deaf. \nWhat it does suggest, however, is that Chaffetz is acting in a way that makes Dan Burton and Darrell Issa look like models of responsibility and bipartisanship. He didn’t even have the decency to notify ranking member Elijah Cummings about something this explosive. If that doesn’t trample on basic standards of fairness, I don’t know what does. \nGranted, it’s not likely that Chaffetz will have to answer for this. He sits in a ridiculously Republican district anchored in Provo and Orem; it has a Cook Partisan Voting Index of R+25, and gave Mitt Romney a punishing 78 percent of the vote in 2012. Moreover, the Republican House leadership has given its full support to Chaffetz’ planned fishing expedition. But that doesn’t mean we can’t turn the hot lights on him. After all, he is a textbook example of what the House has become under Republican control. And he is also the Second Worst Person in the World. About Darrell Lucus \nDarrell is a 30-something graduate of the University of North Carolina who considers himself a journalist of the old school. An attempt to turn him into a member of the religious right in college only succeeded in turning him into the religious right's worst nightmare--a charismatic Christian who is an unapologetic liberal. His desire to stand up for those who have been scared into silence only increased when he survived an abusive three-year marriage. You may know him on Daily Kos as Christian Dem in NC . Follow him on Twitter @DarrellLucus or connect with him on Facebook . Click here to buy Darrell a Mello Yello. Connect House Dem Aide: We Didn’t Even See Comey’s Letter Until Jason Chaffetz Tweeted It & 1\\\\\n\\end{tabular}\n",
            "text/plain": [
              "  text                                                                                                                                                                                                                                                                                                                                                                                                                                                                                                                                                                                                                                                                                                                                                                                                                                                                                                                                                                                                                                                                                                                                                                                                                                                                                                                                                                                                                                                                                                                                                                                                                                                                                                                                                                                                                                                                                                                                                                                                                                                                                                                                                                                                                                                                                                                                                                                                                                                                                                                                                                                                                                                                                                                                                                                                                                                                                                                                                                                                                                                                                                                                                                                                                                                                                                                                                                                                                                                                                                                                                                                                                                                                                                                                                                                                                                                                                                                                                                                                                                                                                                                                                                                                                                                                                                                                                                                                                                                                                                                                                                                                                                                                                                                                                                                                                                                                                                                                                                                                                                                                                                                                                                                                                          \n",
              "1 House Dem Aide: We Didn’t Even See Comey’s Letter Until Jason Chaffetz Tweeted It By Darrell Lucus on October 30, 2016 Subscribe Jason Chaffetz on the stump in American Fork, Utah ( image courtesy Michael Jolley, available under a Creative Commons-BY license) \\nWith apologies to Keith Olbermann, there is no doubt who the Worst Person in The World is this week–FBI Director James Comey. But according to a House Democratic aide, it looks like we also know who the second-worst person is as well. It turns out that when Comey sent his now-infamous letter announcing that the FBI was looking into emails that may be related to Hillary Clinton’s email server, the ranking Democrats on the relevant committees didn’t hear about it from Comey. They found out via a tweet from one of the Republican committee chairmen. \\nAs we now know, Comey notified the Republican chairmen and Democratic ranking members of the House Intelligence, Judiciary, and Oversight committees that his agency was reviewing emails it had recently discovered in order to see if they contained classified information. Not long after this letter went out, Oversight Committee Chairman Jason Chaffetz set the political world ablaze with this tweet. FBI Dir just informed me, \"The FBI has learned of the existence of emails that appear to be pertinent to the investigation.\" Case reopened \\n— Jason Chaffetz (@jasoninthehouse) October 28, 2016 \\nOf course, we now know that this was not the case . Comey was actually saying that it was reviewing the emails in light of “an unrelated case”–which we now know to be Anthony Weiner’s sexting with a teenager. But apparently such little things as facts didn’t matter to Chaffetz. The Utah Republican had already vowed to initiate a raft of investigations if Hillary wins–at least two years’ worth, and possibly an entire term’s worth of them. Apparently Chaffetz thought the FBI was already doing his work for him–resulting in a tweet that briefly roiled the nation before cooler heads realized it was a dud. \\nBut according to a senior House Democratic aide, misreading that letter may have been the least of Chaffetz’ sins. That aide told Shareblue that his boss and other Democrats didn’t even know about Comey’s letter at the time–and only found out when they checked Twitter. “Democratic Ranking Members on the relevant committees didn’t receive Comey’s letter until after the Republican Chairmen. In fact, the Democratic Ranking Members didn’ receive it until after the Chairman of the Oversight and Government Reform Committee, Jason Chaffetz, tweeted it out and made it public.” \\nSo let’s see if we’ve got this right. The FBI director tells Chaffetz and other GOP committee chairmen about a major development in a potentially politically explosive investigation, and neither Chaffetz nor his other colleagues had the courtesy to let their Democratic counterparts know about it. Instead, according to this aide, he made them find out about it on Twitter. \\nThere has already been talk on Daily Kos that Comey himself provided advance notice of this letter to Chaffetz and other Republicans, giving them time to turn on the spin machine. That may make for good theater, but there is nothing so far that even suggests this is the case. After all, there is nothing so far that suggests that Comey was anything other than grossly incompetent and tone-deaf. \\nWhat it does suggest, however, is that Chaffetz is acting in a way that makes Dan Burton and Darrell Issa look like models of responsibility and bipartisanship. He didn’t even have the decency to notify ranking member Elijah Cummings about something this explosive. If that doesn’t trample on basic standards of fairness, I don’t know what does. \\nGranted, it’s not likely that Chaffetz will have to answer for this. He sits in a ridiculously Republican district anchored in Provo and Orem; it has a Cook Partisan Voting Index of R+25, and gave Mitt Romney a punishing 78 percent of the vote in 2012. Moreover, the Republican House leadership has given its full support to Chaffetz’ planned fishing expedition. But that doesn’t mean we can’t turn the hot lights on him. After all, he is a textbook example of what the House has become under Republican control. And he is also the Second Worst Person in the World. About Darrell Lucus \\nDarrell is a 30-something graduate of the University of North Carolina who considers himself a journalist of the old school. An attempt to turn him into a member of the religious right in college only succeeded in turning him into the religious right's worst nightmare--a charismatic Christian who is an unapologetic liberal. His desire to stand up for those who have been scared into silence only increased when he survived an abusive three-year marriage. You may know him on Daily Kos as Christian Dem in NC . Follow him on Twitter @DarrellLucus or connect with him on Facebook . Click here to buy Darrell a Mello Yello. Connect House Dem Aide: We Didn’t Even See Comey’s Letter Until Jason Chaffetz Tweeted It\n",
              "  label\n",
              "1 1    "
            ]
          },
          "metadata": {}
        }
      ],
      "source": [
        "head(data1, 5)\n",
        "head(data2, 1)"
      ]
    },
    {
      "cell_type": "markdown",
      "metadata": {
        "id": "hYmiqgByO7Qk"
      },
      "source": [
        "### **2.2 Inspect Data**"
      ]
    },
    {
      "cell_type": "markdown",
      "source": [
        "#### code"
      ],
      "metadata": {
        "id": "y6-JiESMSI7N"
      }
    },
    {
      "cell_type": "code",
      "source": [
        "counts <- table(data1$label)\n",
        "df_counts <- data.frame(Value = as.numeric(names(counts)), Count = as.numeric(counts))\n",
        "\n",
        "counts_known <- table(data1$known)\n",
        "df_counts_known <- data.frame(Value = as.numeric(names(counts_known)), Count = as.numeric(counts_known))\n",
        "\n",
        "counts_true <- table(data1$true)\n",
        "df_counts_true <- data.frame(Value = as.numeric(names(counts_true)), Count = as.numeric(counts_true))\n",
        "\n",
        "# \"all\" plot\n",
        "plot <- ggplot(df_counts, aes(x = factor(Value), y = Count)) +\n",
        "  geom_bar(stat = \"identity\", fill = \"lightblue\") +\n",
        "  geom_text(aes(label = Count), vjust = -0.5, color = \"black\") +\n",
        "  labs(x = \"Values\", y = \"Count\", title = \"Counts of Values\") +\n",
        "  scale_x_discrete(labels = c(\"unknown\", \"false\", \"barely true\", \"half true\", \"mostly true\", \"true\"))\n",
        "\n",
        "# \"known\" plot\n",
        "plot_known <- ggplot(df_counts_known, aes(x = factor(Value), y = Count)) +\n",
        "  geom_bar(stat = \"identity\", fill = \"lightblue\") +\n",
        "  geom_text(aes(label = Count), vjust = -0.5, color = \"black\") +\n",
        "  labs(x = \"Values\", y = \"Count\", title = \"Counts of Known Values\") +\n",
        "  scale_x_discrete(labels = c(\"unknown\", \"known\"))\n",
        "\n",
        "# \"true\" plot\n",
        "plot_true <- ggplot(df_counts_true, aes(x = factor(Value), y = Count)) +\n",
        "  geom_bar(stat = \"identity\", fill = \"lightblue\") +\n",
        "  geom_text(aes(label = Count), vjust = -0.5, color = \"black\") +\n",
        "  labs(x = \"Values\", y = \"Count\", title = \"Counts of True Values\") +\n",
        "  scale_x_discrete(labels = c(\"false\", \"barely true\", \"half true\", \"mostly true\", \"true\"))\n",
        "\n",
        "# Prepare the plots\n",
        "plot <- print(plot, newpage = FALSE)\n",
        "plot_known <- print(plot_known, newpage = FALSE)\n",
        "plot_true <- print(plot_true, newpage = FALSE)\n"
      ],
      "metadata": {
        "colab": {
          "base_uri": "https://localhost:8080/",
          "height": 0
        },
        "id": "DdtRoWdrNgx9",
        "outputId": "627a51e6-16d1-45d8-c5fc-745df793e81a"
      },
      "execution_count": 187,
      "outputs": [
        {
          "output_type": "display_data",
          "data": {
            "text/plain": [
              "plot without title"
            ],
            "image/png": "[encoded data removed]"
          },
          "metadata": {
            "image/png": {
              "width": 300,
              "height": 180
            }
          }
        }
      ]
    },
    {
      "cell_type": "code",
      "execution_count": 188,
      "metadata": {
        "id": "j2SbRhb6ydQG",
        "colab": {
          "base_uri": "https://localhost:8080/",
          "height": 0
        },
        "outputId": "97be42de-f2ae-407f-c59a-016a576cf89b"
      },
      "outputs": [
        {
          "output_type": "display_data",
          "data": {
            "text/plain": [
              "plot without title"
            ],
            "image/png": "[encoded data removed]"
          },
          "metadata": {
            "image/png": {
              "width": 300,
              "height": 180
            }
          }
        }
      ],
      "source": [
        "counts_known <- table(data2$label)\n",
        "df2_counts_label <- data.frame(Value = as.numeric(names(counts_known)), Count = as.numeric(counts_known))\n",
        "\n",
        "# Create a histogram for known values with data callouts\n",
        "plot_label <- ggplot(df2_counts_label, aes(x = factor(Value), y = Count)) +\n",
        "  geom_bar(stat = \"identity\", fill = \"lightblue\") +\n",
        "  geom_text(aes(label = Count), vjust = -0.5, color = \"black\") +\n",
        "  labs(x = \"Values\", y = \"Count\", title = \"Counts of Reliable Values\") +\n",
        "  scale_x_discrete(labels = c(\"Unreliable\", \"Reliable\"))\n",
        "\n",
        "# Prepare the plot\n",
        "plot_label <- print(plot_label, newpage = FALSE)"
      ]
    },
    {
      "cell_type": "markdown",
      "source": [
        "#### Graphs"
      ],
      "metadata": {
        "id": "_3kPzqYqSL4d"
      }
    },
    {
      "cell_type": "markdown",
      "metadata": {
        "id": "dciLFNEhygOa"
      },
      "source": [
        "*Dataset [2]:* <br>\n",
        "<hr style=\"border:2px solid gray\">"
      ]
    },
    {
      "cell_type": "code",
      "source": [
        "grid.arrange(plot, ncol = 1)\n",
        "grid.arrange(plot_known, plot_true, ncol = 2)"
      ],
      "metadata": {
        "colab": {
          "base_uri": "https://localhost:8080/",
          "height": 377
        },
        "id": "VVsUEjxFRt1q",
        "outputId": "f1fdc311-3f20-4c8e-ce8c-444807ae403a"
      },
      "execution_count": 189,
      "outputs": [
        {
          "output_type": "display_data",
          "data": {
            "text/plain": [
              "plot without title"
            ],
            "image/png": "[encoded data removed]"
          },
          "metadata": {
            "image/png": {
              "width": 300,
              "height": 180
            }
          }
        },
        {
          "output_type": "display_data",
          "data": {
            "text/plain": [
              "plot without title"
            ],
            "image/png": "[encoded data removed]"
          },
          "metadata": {
            "image/png": {
              "width": 300,
              "height": 180
            }
          }
        }
      ]
    },
    {
      "cell_type": "markdown",
      "metadata": {
        "id": "T2iLyc49yeuT"
      },
      "source": [
        "*Dataset [3]:* <br>\n",
        "<hr style=\"border:2px solid gray\">"
      ]
    },
    {
      "cell_type": "code",
      "source": [
        "plot_label"
      ],
      "metadata": {
        "colab": {
          "base_uri": "https://localhost:8080/",
          "height": 197
        },
        "id": "HU6JuowdSCsx",
        "outputId": "7eb37556-38cc-4541-d5d5-b16869f890e2"
      },
      "execution_count": 190,
      "outputs": [
        {
          "output_type": "display_data",
          "data": {
            "text/plain": [
              "plot without title"
            ],
            "image/png": "[encoded data removed]"
          },
          "metadata": {
            "image/png": {
              "width": 300,
              "height": 180
            }
          }
        }
      ]
    },
    {
      "cell_type": "markdown",
      "metadata": {
        "id": "g5Yge5BAPGq8"
      },
      "source": [
        "### **2.3 Pre-Processing**"
      ]
    },
    {
      "cell_type": "markdown",
      "source": [
        "#### Code"
      ],
      "metadata": {
        "id": "Q-yvdDV4Y19T"
      }
    },
    {
      "cell_type": "code",
      "execution_count": 191,
      "metadata": {
        "id": "_9xTJH80Q5g9"
      },
      "outputs": [],
      "source": [
        "# DE_CONTRACTION\n",
        "# - - - - - - - - - - - - - - - - - - - - - - - -\n",
        "# De-Contraction manually, because library did not work\n",
        "decontractData <- function(dataset, textColumn) {\n",
        "  dataset[[textColumn]] <- gsub(\"don't\", \"do not\", dataset[[textColumn]])\n",
        "  dataset[[textColumn]] <- gsub(\"can't\", \"can not\", dataset[[textColumn]])\n",
        "  dataset[[textColumn]] <- gsub(\"won't\", \"will not\", dataset[[textColumn]])\n",
        "  dataset[[textColumn]] <- gsub(\"couldn't\", \"could not\", dataset[[textColumn]])\n",
        "  dataset[[textColumn]] <- gsub(\"shouldn't\", \"should not\", dataset[[textColumn]])\n",
        "  dataset[[textColumn]] <- gsub(\"doesn't\", \"does not\", dataset[[textColumn]])\n",
        "  dataset[[textColumn]] <- gsub(\"hasn't\", \"has not\", dataset[[textColumn]])\n",
        "  dataset[[textColumn]] <- gsub(\"isn't\", \"is not\", dataset[[textColumn]])\n",
        "  dataset[[textColumn]] <- gsub(\"aren't\", \"are not\", dataset[[textColumn]])\n",
        "  dataset[[textColumn]] <- gsub(\"wasn't\", \"was not\", dataset[[textColumn]])\n",
        "  dataset[[textColumn]] <- gsub(\"weren't\", \"were not\", dataset[[textColumn]])\n",
        "  dataset[[textColumn]] <- gsub(\"haven't\", \"have not\", dataset[[textColumn]])\n",
        "  dataset[[textColumn]] <- gsub(\"hadn't\", \"had not\", dataset[[textColumn]])\n",
        "  dataset[[textColumn]] <- gsub(\"let's\", \"let us\", dataset[[textColumn]])\n",
        "  dataset[[textColumn]] <- gsub(\"I'm\", \"I am\", dataset[[textColumn]])\n",
        "  dataset[[textColumn]] <- gsub(\"you're\", \"you are\", dataset[[textColumn]])\n",
        "  dataset[[textColumn]] <- gsub(\"they're\", \"they are\", dataset[[textColumn]])\n",
        "  dataset[[textColumn]] <- gsub(\"he's\", \"he is\", dataset[[textColumn]])\n",
        "  dataset[[textColumn]] <- gsub(\"she's\", \"she is\", dataset[[textColumn]])\n",
        "  dataset[[textColumn]] <- gsub(\"it's\", \"it is\", dataset[[textColumn]])\n",
        "  dataset[[textColumn]] <- gsub(\"you're\", \"you are\", dataset[[textColumn]])\n",
        "  dataset[[textColumn]] <- gsub(\"he's\", \"he is\", dataset[[textColumn]])\n",
        "  dataset[[textColumn]] <- gsub(\"she's\", \"she is\", dataset[[textColumn]])\n",
        "  dataset[[textColumn]] <- gsub(\"it's\", \"it is\", dataset[[textColumn]])\n",
        "  dataset[[textColumn]] <- gsub(\"we're\", \"we are\", dataset[[textColumn]])\n",
        "  dataset[[textColumn]] <- gsub(\"they're\", \"they are\", dataset[[textColumn]])\n",
        "  dataset[[textColumn]] <- gsub(\"that's\", \"that is\", dataset[[textColumn]])\n",
        "  dataset[[textColumn]] <- gsub(\"there's\", \"there is\", dataset[[textColumn]])\n",
        "  dataset[[textColumn]] <- gsub(\"can't\", \"cannot\", dataset[[textColumn]])\n",
        "  dataset[[textColumn]] <- gsub(\"don't\", \"do not\", dataset[[textColumn]])\n",
        "  dataset[[textColumn]] <- gsub(\"won't\", \"will not\", dataset[[textColumn]])\n",
        "  dataset[[textColumn]] <- gsub(\"isn't\", \"is not\", dataset[[textColumn]])\n",
        "  dataset[[textColumn]] <- gsub(\"haven't\", \"have not\", dataset[[textColumn]])\n",
        "  dataset[[textColumn]] <- gsub(\"doesn't\", \"does not\", dataset[[textColumn]])\n",
        "  dataset[[textColumn]] <- gsub(\"let's\", \"let us\", dataset[[textColumn]])\n",
        "  dataset[[textColumn]] <- gsub(\"it's\", \"it is\", dataset[[textColumn]])\n",
        "  dataset[[textColumn]] <- gsub(\"that's\", \"that is\", dataset[[textColumn]])\n",
        "  dataset[[textColumn]] <- gsub(\"there's\", \"there is\", dataset[[textColumn]])\n",
        "  dataset[[textColumn]] <- gsub(\"here's\", \"here is\", dataset[[textColumn]])\n",
        "  dataset[[textColumn]] <- gsub(\"what's\", \"what is\", dataset[[textColumn]])\n",
        "  dataset[[textColumn]] <- gsub(\"who's\", \"who is\", dataset[[textColumn]])\n",
        "  dataset[[textColumn]] <- gsub(\"how's\", \"how is\", dataset[[textColumn]])\n",
        "  dataset[[textColumn]] <- gsub(\"where's\", \"where is\", dataset[[textColumn]])\n",
        "  dataset[[textColumn]] <- gsub(\"when's\", \"when is\", dataset[[textColumn]])\n",
        "  dataset[[textColumn]] <- gsub(\"why's\", \"why is\", dataset[[textColumn]])\n",
        "\n",
        "    return(dataset)\n",
        "}"
      ]
    },
    {
      "cell_type": "code",
      "execution_count": 192,
      "metadata": {
        "id": "IpIPqU266Asj"
      },
      "outputs": [],
      "source": [
        "# CLEANING DATA\n",
        "# - - - - - - - - - - - - - - - - - - - - - - - -\n",
        "cleanData <- function(dataset, textColumn) {\n",
        "  # Convert text to lowercase\n",
        "  dataset[[textColumn]] <- tolower(dataset[[textColumn]])\n",
        "\n",
        "  # Remove URLs (not sure if needed, just to be sure)\n",
        "  dataset[[textColumn]] <- gsub(\"http\\\\S+|www\\\\S+\", \"\", dataset[[textColumn]])\n",
        "\n",
        "  # Remove \"-\" to make whole words out of it\n",
        "  dataset[[textColumn]] <- gsub(\"-\", \"\", dataset[[textColumn]])\n",
        "\n",
        "  # Convert special apostrophes to regular apostrophes +  Expand contractions\n",
        "  dataset[[textColumn]] <- gsub(\"\\\\’\", \"'\", dataset[[textColumn]], perl = TRUE)\n",
        "\n",
        "  # Written out numnbers\n",
        "  dataset[[textColumn]] <- gsub(\"\\\\b(?:zero|one|two|three|four|five|six|seven|eight|nine|ten|eleven|twelve|thirteen|fourteen|fifteen|sixteen|seventeen|eighteen|nineteen|twenty|thirty|forty|fifty|sixty|seventy|eighty|ninety|hundred|thousand|million|billion|trillion)\\\\b\", \"\", dataset[[textColumn]], ignore.case = TRUE)\n",
        "\n",
        "  # De-Contraction (manually unfortunately - see above)\n",
        "  dataset <- decontractData(dataset, textColumn)\n",
        "\n",
        "  # Replace punctuation with a space (if removed, might get weird word connections)\n",
        "  dataset[[textColumn]] <- gsub(\"[[:punct:]]\", \" \", dataset[[textColumn]])\n",
        "\n",
        "  # Remove special characters (anything not A-Z, a-z // includes numbers)\n",
        "  dataset[[textColumn]] <- gsub(\"[^A-Za-z ]\", \"\", dataset[[textColumn]])\n",
        "\n",
        "  # ====================================================================\n",
        "  # make Vector\n",
        "  dataset[[textColumn]] <- as.character(dataset[[textColumn]])\n",
        "\n",
        "  # Tokenization\n",
        "  dataset[[textColumn]] <- strsplit(dataset[[textColumn]], \"\\\\s+\")\n",
        "\n",
        "  # Remove numbers\n",
        "  dataset[[textColumn]] <- lapply(dataset[[textColumn]], function(tokens) {\n",
        "    tokens[!grepl(\"\\\\d\", tokens)]\n",
        "  })\n",
        "\n",
        "  # Remove stop words\n",
        "  dataset[[textColumn]] <- lapply(dataset[[textColumn]], function(tokens) {\n",
        "    tokens[!(tokens %in% stopwords(\"english\"))]\n",
        "  })\n",
        "\n",
        "  # Lemmatization\n",
        "  dataset[[textColumn]] <- lapply(dataset[[textColumn]], function(tokens) {\n",
        "    lemmatize_words(tokens)\n",
        "  })\n",
        "\n",
        "  # Stemming\n",
        "  dataset[[textColumn]] <- lapply(dataset[[textColumn]], function(tokens) {\n",
        "    wordStem(tokens)\n",
        "  })\n",
        "\n",
        "  # Convert back to normal text\n",
        "  dataset[[textColumn]] <- sapply(dataset[[textColumn]], paste, collapse = \" \")\n",
        "\n",
        "  return(dataset)\n",
        "}"
      ]
    },
    {
      "cell_type": "markdown",
      "source": [
        "*Preparing all data now:* <br>\n",
        "<hr style=\"border:2px solid gray\">"
      ],
      "metadata": {
        "id": "ccl8HDWAli-_"
      }
    },
    {
      "cell_type": "code",
      "source": [
        "data1_cleaned <- cleanData(data1, \"text\")"
      ],
      "metadata": {
        "id": "mcYz3t4imQBP"
      },
      "execution_count": 193,
      "outputs": []
    },
    {
      "cell_type": "code",
      "execution_count": 194,
      "metadata": {
        "id": "jbl1iKoIyOtP"
      },
      "outputs": [],
      "source": [
        "# VOCABULARY\n",
        "# - - - - - - - - - - - - - - - - - - - - - - - -\n",
        "createVocabulary <- function(dataset, textColumn) {\n",
        "  tokens_data <- tokens(dataset[[textColumn]], tolower = TRUE)\n",
        "  dtm <- dfm(tokens_data)\n",
        "  term_freq <- colSums(dtm)\n",
        "  vocabulary_data <- data.frame(Word = featnames(dtm), Occurrences = term_freq)\n",
        "  # Sort occurrences\n",
        "  vocabulary_data <- vocabulary_data[order(-vocabulary_data$Occurrences), ]\n",
        "\n",
        "  return(vocabulary_data)\n",
        "}"
      ]
    },
    {
      "cell_type": "markdown",
      "source": [
        "#### Show Result"
      ],
      "metadata": {
        "id": "2ow-282vY5F3"
      }
    },
    {
      "cell_type": "code",
      "source": [
        "head(data1_cleaned,3)"
      ],
      "metadata": {
        "colab": {
          "base_uri": "https://localhost:8080/",
          "height": 192
        },
        "id": "LvPNbvKzcNQ4",
        "outputId": "5ed1f543-26f4-4344-b88e-02eab419b64f"
      },
      "execution_count": 195,
      "outputs": [
        {
          "output_type": "display_data",
          "data": {
            "text/html": [
              "<table class=\"dataframe\">\n",
              "<caption>A data.frame: 3 × 4</caption>\n",
              "<thead>\n",
              "\t<tr><th></th><th scope=col>text</th><th scope=col>label</th><th scope=col>true</th><th scope=col>known</th></tr>\n",
              "\t<tr><th></th><th scope=col>&lt;chr&gt;</th><th scope=col>&lt;dbl&gt;</th><th scope=col>&lt;dbl&gt;</th><th scope=col>&lt;dbl&gt;</th></tr>\n",
              "</thead>\n",
              "<tbody>\n",
              "\t<tr><th scope=row>1</th><td>sai anni list polit group support thirdtrimest abort demand                    </td><td>1</td><td>1</td><td>6</td></tr>\n",
              "\t<tr><th scope=row>2</th><td>declin coal start start natur ga take start begin presid georg w bush administr</td><td>3</td><td>3</td><td>6</td></tr>\n",
              "\t<tr><th scope=row>3</th><td>hillari clinton agre john mccain vote give georg bush benefit doubt iran       </td><td>4</td><td>4</td><td>6</td></tr>\n",
              "</tbody>\n",
              "</table>\n"
            ],
            "text/markdown": "\nA data.frame: 3 × 4\n\n| <!--/--> | text &lt;chr&gt; | label &lt;dbl&gt; | true &lt;dbl&gt; | known &lt;dbl&gt; |\n|---|---|---|---|---|\n| 1 | sai anni list polit group support thirdtrimest abort demand                     | 1 | 1 | 6 |\n| 2 | declin coal start start natur ga take start begin presid georg w bush administr | 3 | 3 | 6 |\n| 3 | hillari clinton agre john mccain vote give georg bush benefit doubt iran        | 4 | 4 | 6 |\n\n",
            "text/latex": "A data.frame: 3 × 4\n\\begin{tabular}{r|llll}\n  & text & label & true & known\\\\\n  & <chr> & <dbl> & <dbl> & <dbl>\\\\\n\\hline\n\t1 & sai anni list polit group support thirdtrimest abort demand                     & 1 & 1 & 6\\\\\n\t2 & declin coal start start natur ga take start begin presid georg w bush administr & 3 & 3 & 6\\\\\n\t3 & hillari clinton agre john mccain vote give georg bush benefit doubt iran        & 4 & 4 & 6\\\\\n\\end{tabular}\n",
            "text/plain": [
              "  text                                                                           \n",
              "1 sai anni list polit group support thirdtrimest abort demand                    \n",
              "2 declin coal start start natur ga take start begin presid georg w bush administr\n",
              "3 hillari clinton agre john mccain vote give georg bush benefit doubt iran       \n",
              "  label true known\n",
              "1 1     1    6    \n",
              "2 3     3    6    \n",
              "3 4     4    6    "
            ]
          },
          "metadata": {}
        }
      ]
    },
    {
      "cell_type": "markdown",
      "metadata": {
        "id": "w8aRAh_0Hzcv"
      },
      "source": [
        "### **2.4 Inspect Vocabulary**"
      ]
    },
    {
      "cell_type": "markdown",
      "source": [
        "#### ALL"
      ],
      "metadata": {
        "id": "HELL80bTklQi"
      }
    },
    {
      "cell_type": "code",
      "execution_count": 196,
      "metadata": {
        "id": "yqc28yzz7zde",
        "colab": {
          "base_uri": "https://localhost:8080/"
        },
        "outputId": "88d9212d-e992-481a-8e60-71acc1283103"
      },
      "outputs": [
        {
          "output_type": "stream",
          "name": "stderr",
          "text": [
            "Warning message:\n",
            "“tolower argument is not used.”\n",
            "Warning message:\n",
            "“NA is replaced by empty string”\n",
            "Warning message:\n",
            "“tolower argument is not used.”\n",
            "Warning message:\n",
            "“NA is replaced by empty string”\n",
            "Warning message:\n",
            "“tolower argument is not used.”\n",
            "Warning message:\n",
            "“NA is replaced by empty string”\n",
            "Warning message:\n",
            "“tolower argument is not used.”\n",
            "Warning message:\n",
            "“NA is replaced by empty string”\n",
            "Warning message:\n",
            "“tolower argument is not used.”\n",
            "Warning message:\n",
            "“NA is replaced by empty string”\n",
            "Warning message:\n",
            "“tolower argument is not used.”\n",
            "Warning message:\n",
            "“tolower argument is not used.”\n",
            "Warning message:\n",
            "“tolower argument is not used.”\n"
          ]
        }
      ],
      "source": [
        "voc_text   <- createVocabulary(data1_cleaned,                               \"text\")\n",
        "voc_text_1 <- createVocabulary(data1_cleaned[data1_cleaned$true == false, ], \"text\")\n",
        "voc_text_2 <- createVocabulary(data1_cleaned[data1_cleaned$true == barelytrue, ], \"text\")\n",
        "voc_text_3 <- createVocabulary(data1_cleaned[data1_cleaned$true == halftrue, ], \"text\")\n",
        "voc_text_4 <- createVocabulary(data1_cleaned[data1_cleaned$true == mostlytrue, ], \"text\")\n",
        "voc_text_5 <- createVocabulary(data1_cleaned[data1_cleaned$true == true, ], \"text\")\n",
        "voc_text_u <- createVocabulary(data1_cleaned[data1_cleaned$known == unknown, ],   \"text\")\n",
        "voc_text_k <- createVocabulary(data1_cleaned[data1_cleaned$known == known, ],   \"text\")"
      ]
    },
    {
      "cell_type": "code",
      "source": [
        "# Text - ALL - Worldcloud\n",
        "wc_text   <- wordcloud(voc_text$Word,   voc_text$Occurrences,   max.words = 100, random.order = FALSE)"
      ],
      "metadata": {
        "colab": {
          "base_uri": "https://localhost:8080/",
          "height": 197
        },
        "id": "K9sOLFFxhcOT",
        "outputId": "b57f7e6d-f609-4e78-c9cb-e718b52c692e"
      },
      "execution_count": 197,
      "outputs": [
        {
          "output_type": "display_data",
          "data": {
            "text/plain": [
              "plot without title"
            ],
            "image/png": "[encoded data removed]"
          },
          "metadata": {
            "image/png": {
              "width": 300,
              "height": 180
            }
          }
        }
      ]
    },
    {
      "cell_type": "code",
      "source": [
        "hist(log(voc_text$Occurrences),\n",
        "     xlab = \"Occurrences\", ylab = \"Frequency\",\n",
        "     main = \"Logaryrhmic Distribution of Word Occurrences\")"
      ],
      "metadata": {
        "colab": {
          "base_uri": "https://localhost:8080/",
          "height": 197
        },
        "id": "SXALEWcANhvq",
        "outputId": "9f3b4dc5-45a9-43dc-9006-ca51aff5d4aa"
      },
      "execution_count": 198,
      "outputs": [
        {
          "output_type": "display_data",
          "data": {
            "text/plain": [
              "Plot with title “Logaryrhmic Distribution of Word Occurrences”"
            ],
            "image/png": "[encoded data removed]"
          },
          "metadata": {
            "image/png": {
              "width": 300,
              "height": 180
            }
          }
        }
      ]
    },
    {
      "cell_type": "code",
      "source": [
        "voc_5  <- voc_text[voc_text$Occurrences >= 5, ]\n",
        "voc_10 <- voc_text[voc_text$Occurrences >= 10, ]\n",
        "voc_15 <- voc_text[voc_text$Occurrences >= 15, ]\n",
        "voc_20 <- voc_text[voc_text$Occurrences >= 20, ]\n",
        "cat(\"Vocabulary  all words:\",    nrow(voc_text))\n",
        "cat(\"\\nVocabulary >  5 words:\",  nrow(voc_5))\n",
        "cat(\"\\nVocabulary > 10 words:\", nrow(voc_10))\n",
        "cat(\"\\nVocabulary > 15 words:\", nrow(voc_15))\n",
        "cat(\"\\nVocabulary > 20 words: \", nrow(voc_20))"
      ],
      "metadata": {
        "colab": {
          "base_uri": "https://localhost:8080/"
        },
        "id": "YgrqXMIgkkHS",
        "outputId": "6e69eb46-8399-4f7e-cd3b-f0048c7ffe36"
      },
      "execution_count": 199,
      "outputs": [
        {
          "output_type": "stream",
          "name": "stdout",
          "text": [
            "Vocabulary  all words: 8231\n",
            "Vocabulary >  5 words: 2540\n",
            "Vocabulary > 10 words: 1609\n",
            "Vocabulary > 15 words: 1212\n",
            "Vocabulary > 20 words:  929"
          ]
        }
      ]
    },
    {
      "cell_type": "markdown",
      "source": [
        "#### TRUE / KNOWN"
      ],
      "metadata": {
        "id": "aUkvYesMkj4J"
      }
    },
    {
      "cell_type": "code",
      "source": [
        "# Text - TRUE - Worldcloud\n",
        "wc_text_1 <- wordcloud(voc_text_1$Word, voc_text_1$Occurrences, max.words = 100, random.order = FALSE)\n",
        "wc_text_2 <- wordcloud(voc_text_2$Word, voc_text_2$Occurrences, max.words = 100, random.order = FALSE)\n",
        "wc_text_3 <- wordcloud(voc_text_3$Word, voc_text_3$Occurrences, max.words = 100, random.order = FALSE)\n",
        "wc_text_4 <- wordcloud(voc_text_4$Word, voc_text_4$Occurrences, max.words = 100, random.order = FALSE)\n",
        "wc_text_5 <- wordcloud(voc_text_5$Word, voc_text_5$Occurrences, max.words = 100, random.order = FALSE)"
      ],
      "metadata": {
        "colab": {
          "base_uri": "https://localhost:8080/",
          "height": 0
        },
        "id": "-lyTXSiihcJi",
        "outputId": "22e347d8-e192-47df-ae9f-5a234b500475"
      },
      "execution_count": 200,
      "outputs": [
        {
          "output_type": "display_data",
          "data": {
            "text/plain": [
              "plot without title"
            ],
            "image/png": "[encoded data removed]"
          },
          "metadata": {
            "image/png": {
              "width": 300,
              "height": 180
            }
          }
        },
        {
          "output_type": "display_data",
          "data": {
            "text/plain": [
              "plot without title"
            ],
            "image/png": "[encoded data removed]"
          },
          "metadata": {
            "image/png": {
              "width": 300,
              "height": 180
            }
          }
        },
        {
          "output_type": "display_data",
          "data": {
            "text/plain": [
              "plot without title"
            ],
            "image/png": "[encoded data removed]"
          },
          "metadata": {
            "image/png": {
              "width": 300,
              "height": 180
            }
          }
        },
        {
          "output_type": "display_data",
          "data": {
            "text/plain": [
              "plot without title"
            ],
            "image/png": "[encoded data removed]"
          },
          "metadata": {
            "image/png": {
              "width": 300,
              "height": 180
            }
          }
        },
        {
          "output_type": "display_data",
          "data": {
            "text/plain": [
              "plot without title"
            ],
            "image/png": "[encoded data removed]"
          },
          "metadata": {
            "image/png": {
              "width": 300,
              "height": 180
            }
          }
        }
      ]
    },
    {
      "cell_type": "code",
      "source": [
        "# Text - KNOWN - Worldcloud\n",
        "wc_text_k <- wordcloud(voc_text_k$Word, voc_text_k$Occurrences, max.words = 100, random.order = FALSE)\n",
        "wc_text_u <- wordcloud(voc_text_u$Word, voc_text_u$Occurrences, max.words = 100, random.order = FALSE)"
      ],
      "metadata": {
        "colab": {
          "base_uri": "https://localhost:8080/",
          "height": 0
        },
        "id": "mY9ZHw38doTX",
        "outputId": "d1e0d58c-e0f3-420e-81f8-a203dc4a6332"
      },
      "execution_count": 201,
      "outputs": [
        {
          "output_type": "display_data",
          "data": {
            "text/plain": [
              "plot without title"
            ],
            "image/png": "[encoded data removed]"
          },
          "metadata": {
            "image/png": {
              "width": 300,
              "height": 180
            }
          }
        },
        {
          "output_type": "display_data",
          "data": {
            "text/plain": [
              "plot without title"
            ],
            "image/png": "[encoded data removed]"
          },
          "metadata": {
            "image/png": {
              "width": 300,
              "height": 180
            }
          }
        }
      ]
    },
    {
      "cell_type": "markdown",
      "source": [
        "**Observations:**<br>\n",
        "- healthcare seems to have more misinformation\n",
        "- economy has more truthful posts\n",
        "- budget / immigration is often unknown\n",
        "- healthcare / econmy is known\n",
        "- in text, when percentages are used it is more truthful"
      ],
      "metadata": {
        "id": "IJ4m7uHrvm-t"
      }
    },
    {
      "cell_type": "markdown",
      "source": [
        "### **2.5 Split into Training / Test / Validation**"
      ],
      "metadata": {
        "id": "yeXIeXgJMynp"
      }
    },
    {
      "cell_type": "code",
      "source": [
        "# FEATURE SELECTION (ONLY MORE THAN 10)\n",
        "voc_train <- voc_text[voc_text$Occurrences >= 100, ]"
      ],
      "metadata": {
        "id": "-z1FFFfvbT77"
      },
      "execution_count": 202,
      "outputs": []
    },
    {
      "cell_type": "code",
      "source": [
        "set.seed(42)\n",
        "# 80% training /20% test\n",
        "trainIndex <- createDataPartition(data1_cleaned$label, p = 0.7, list = FALSE)\n",
        "train_data <- data1_cleaned[trainIndex, ]\n",
        "\n",
        "test_data <- data1_cleaned[-trainIndex, ]"
      ],
      "metadata": {
        "id": "jotI9xhcMzRo"
      },
      "execution_count": 203,
      "outputs": []
    },
    {
      "cell_type": "code",
      "source": [
        "cat(\"Train Set Size:\", nrow(train_data))\n",
        "cat(\"\\nTest  Set Size:\", nrow(test_data))"
      ],
      "metadata": {
        "colab": {
          "base_uri": "https://localhost:8080/"
        },
        "id": "x4VHIl7NRW08",
        "outputId": "dd3dcce4-d383-4ae8-f1bf-e26ceaa70890"
      },
      "execution_count": 204,
      "outputs": [
        {
          "output_type": "stream",
          "name": "stdout",
          "text": [
            "Train Set Size: 7170\n",
            "Test  Set Size: 3070"
          ]
        }
      ]
    },
    {
      "cell_type": "code",
      "source": [
        "# train\n",
        "corpus_train  <- Corpus(VectorSource(train_data$text))\n",
        "dtm_train     <- DocumentTermMatrix(corpus_train, control = list(dictionary = voc_train$Word))\n",
        "X_train       <- as.data.frame(as.matrix(dtm_train))\n",
        "Y_train       <- train_data$label\n",
        "Y_train_true  <- train_data$true\n",
        "Y_train_known <- train_data$known"
      ],
      "metadata": {
        "id": "QXquJf4ATNe5"
      },
      "execution_count": 205,
      "outputs": []
    },
    {
      "cell_type": "code",
      "source": [
        "# test\n",
        "corpus_test  <- Corpus(VectorSource(test_data$text))\n",
        "dtm_test     <- DocumentTermMatrix(corpus_test, control = list(dictionary = voc_train$Word))\n",
        "X_test       <- as.data.frame(as.matrix(dtm_test))\n",
        "Y_test       <- test_data$label\n",
        "Y_test_true  <- test_data$true\n",
        "Y_test_known <- test_data$known"
      ],
      "metadata": {
        "id": "eZtXrHkVsEIn"
      },
      "execution_count": 206,
      "outputs": []
    },
    {
      "cell_type": "markdown",
      "metadata": {
        "id": "lbZFXUu0RDon"
      },
      "source": [
        "# **3 - Part 1: NBC**"
      ]
    },
    {
      "cell_type": "markdown",
      "source": [
        "We implement a Multinomial Naive Bayes classifier using the naivebayes package, which provides functions specifically for this purpose. Here's a step-by-step guide on how to use the naivebayes package to build and apply a Multinomial Naive Bayes classifier:\n",
        "\n",
        "-Ensure that your data is in a format suitable for text classification. Typically, you would have a matrix or data frame where each row represents a document, and each column represents a feature (e.g., word counts, TF-IDF values). Make sure the response variable (class labels) is encoded as a factor.\n",
        "\n",
        "-Split the data into training and testing sets: Divide your data into a training set and a testing set. The training set will be used to train the classifier, while the testing set will be used to evaluate its performance.\n",
        "\n",
        "-Train the Multinomial Naive Bayes classifier:\n",
        "\n",
        "-Predict using the trained model:\n",
        "\n",
        "-Evaluate the performance of the classifier:\n",
        "\n",
        "Replace testing_labels with the true class labels of the testing data. The above code calculates the accuracy of the classifier by comparing the predicted labels with the true labels.\n",
        "\n",
        "That's a basic outline of how to implement Multinomial Naive Bayes classifier in R using the naivebayes package."
      ],
      "metadata": {
        "id": "EwcjFxo12H_G"
      }
    },
    {
      "cell_type": "markdown",
      "source": [
        "# Naive Bayes methods\n",
        " are a set of supervised learning algorithms based on applying Bayes’\n",
        "theorem with the “naive” assumption of conditional independence between every pair of\n",
        "features given the value of the class variable. Bayes’ theorem states the following relationship,\n",
        "given class variable y and dependent feature vector x1 through xn:\n"
      ],
      "metadata": {
        "id": "Km9EN8IR2Lc0"
      }
    },
    {
      "cell_type": "markdown",
      "source": [
        "![nbc1.png](data:image/png;base64,iVBORw0KGgoAAAANSUhEUgAAAhoAAABnCAYAAABGmusQAAAAAXNSR0IArs4c6QAAAARnQU1BAACxjwv8YQUAAAAJcEhZcwAAFiUAABYlAUlSJPAAACz5SURBVHhe7Z0PTJTnnu+/e705s2EjJ27kxJPC9hStpwP2OGDPDtRkpO4F7XVQj+Nl1/HSiLURVyO1LhxrpNbVouLSI16NGKk0Esdbw3RV2IMyiYXJ8cDkFJh7FCZrYdIeICUOKWFIie9G8t7ned93YID5wwAzIPw+5nWeeeZl5v3//J7f378SGSAIgiAIgggD/015JQiCIAiCmHFI0CAIgiAIImyQoEEQBEEQRNggQYMgCIIgiLBBggZBEARBEGGDBA2CIAiCIMIGCRoEQRAEQYQNEjQIgiAIgggbJGgQBEEQBBE2SNAgCIIgCCJskKBBEARBEETYIEGDIAiCIIiwQYIGQRBzC2EQbregvJk6Qv8ghGHlzVxhiO3bkNImFjRC//Sv8UkxB645EjQIgpgzCE9M2K3dgaKHLqVnqghou7oD6k2nUD/dr5ohXNZTyHhzLyqdERpgiLlLrxn7tHm41au8DyOCowzbNXoct/YpPZGHysQTBBE6jitYt6UUXcrbgEQtRWJSCrZk5yJrXTyiFyn94+kxY/emQrgP16AqO17pnAbD3bi1PxNHvjWi6st8JEcp/UFou5KBzJJu5V1gVMvUSE7R473c7UiLX6z0TkRoPofMHSakljfhhE6l9BILFiZo7NZZsNFahqxlSl8Y6TLnIuPDbmTfNOPomlm4/rigQRAEERLPn4kDP7jZ0ipe/Y1afOVVvuwQL37tUvqV5dt28c7VfFG/Wl5n9cFq8S/Ple/w5nm7eHEDW+d/3RC/8fX5VPmxQfyI/fZre6vFp0pXUH5Utr31mqiX9otvV5nY/L3XfrHlL4+qxauHtomvSev8vZj7713KF4zjhzoxj2/D8QbxmdJFLHC+rxJzXt0rfvG98j7sPBO/Oq4RX1m9V7wTsd8chUwnBEGEziIVopcsRnS0gKePlb6X1iFtzVK537O8rMbmPcWo+tQgreKuLcAhk1Nqe9NWno8SZyz2/NaAFf40HlMhSocDhToIDwrxSe2g0hmEKGXbn/WhTemK+wcdkpd57Rdb4lbpsedTEy5LuzaI+wUFqJywa6z/ZAHuDulwIlcH0mUQs4MKabnHkDZkxW+LLXArvZGCBA2CIKbOd51oVJpYp8YKpTkeVYIGaUq75ZplZACX6K/BxRI2Qmt2ITsMat2YrbnYEyXgbrEJbSE4h3Z806S0gDS1P1OOColv6JS2HeUWh9JWeGxCUY0AVXYOtkRARU4QfllmwIE9Kgg151DpmRxECBI0CIKYMq4/W0eEhjRNgv8Z+5CAEZ/MHje83SHbbl3Affa64Z1MxMldM8siDba8F8t+txQXJ6vVQB/aH3qEBh3WqP0LQANDo96mXQPeezaI+9e4H0ssDvxGS9oMYtZJ/p+57B7rRsnVmohqNUjQIAhiighos1uVthpv/Wqp0p6I+z/to1qMVS8hWmli2IH6/8sdL3V46w3/zpTTJTElXRro71saJveAFdrR/EBpr9IhIUZpT2AQna2jWozEn4/sGdDfgNs17DUqHalquYsgZhW1Fhu4U3StBfX9clckIEGDIIgp4kRbg9JECla8rDR90PHIorTYrGq7btTE8sSKWz3slQ3myeE0LazSIou/1lrROBlJw8kEIKWJXy/3axLCcOeoQAINsnSjJhZ3k1XS1GCrFokz6XdCEFNlkRpvbuUNCx40TVa7N31I0CAIYmr0tOOPXEjg6DX+B9MhK+6YFJNCfA6Obo2V24yuR01yiGygwZwz5MStj43QrExAvNaI47U+wk/ZOnfLS1FidowxzUio4pGYwhsWNH8j9QRkZLsYmzUJSmsiwsMaVCrJkFbsKUCWl7DVZufqDCA1IT642cTtYPuXgwwt27+VWmwvqEAjt8i4bLi0Xy/tt1rnZ7+J4PTy42iAlp3LeI0Ou4tr0MHOm/DEjOM7dFCz46vZmIfyx3M8x8lwHxov5Y7uR7mPa52vY2L3QbkVXRN8klRYnqCVWvcfdUqvkYAEDYIgpoT7z7YRR9DEpOWj5hBveC6LD/LkwXhJOs5/NjafRXenTXpNXf6S9OoT6TsMKF+UC8ujCuzpt6MyrwCV3ymfK7hqi/F+8RVcutHqI79HLOIk84WAjm+DJS4aRHuTvF3cJLTml35MOj1m7Dtokh700W8X47PDGi+BohtdikUl8e9GBSuf8Pwhul34amUBbljb4bTkIfr2OexMNyAzOxdf/eoUrF+bcXhlt8/9JgLDc5hkbCzGgKEU1uZ22C9lorO8ABnbDNieVQFhpwl2axm2MCG06H+fQ+OclTUEtJTswu5HOlyz1uHMr/pQX2xE0cNxG2yvwO6P2X1QbEXnc6XPi7i/kwVn4UnnqN9UmCFBgyCIKTHGHPJSDNz9g6NLrxMtNRV4f1smjjwQEL02DzdqSrF5jDzRhy5lUqX6yV/LDR+4a8/hyH/m4ndHdYgR3Hgq9drRNUZeGETLQ8VfxI92RBUliwH1nUG0AmPMIUmIW+K1X2xxOe24ywaqzE2FqB9ajNS8Clg+1SNujEanDx1S0IoKKv+7xn7LgUvv8iRlN3HZqEYM38SXM7CRB7IMOdAWnY8ze5aj8TQbUKTMjg48jaBt/YWn34LfvmtC6gUTjq6PhYqdo+i16djAP3M60LG1ACf0/4XKXblyaPJQN1yRjv2cLI8/x6Hy5TjLroXEaHYdStK0gK7esSaQtq8tspYjRY3lvlRpf/0TWSC2OieXcG8GIEGDIIgp4ERb0+hMqjJXC43Wa9HpsbO4BkJSPq7ds7FJ1l6kTnCoZLP+r+XWijh/jqR9uHfbgrQDBsk047bW4K7Ur8GYP/ESDvyZOuJiZZUxhsZGvUzgu3Y0jtSG4CnRx+6bdmMOPqkWkFxQhjqbDTf2axEz3mzk6kaH1NAiLoDvibu2DCW9RhzO8gqfZfvSochMiZkpWLHoJ4hZJkto0W+fRNbrUnMC7sdmHNmYgKLRqNwFT5vpHO6uzMce72ysPZ0jjslZ63k0UDR+9gv+uQqJ+3Oxwa/j7+zS8vsyPN2Tg81L2JvHim8T2+a4Zd4atz60/UkWpOPWJviO4loWi1SpIWAGSgpNChI0CIIIHVc7vvLE4q86hron7XCOWxxWMy5/bAycmjtosafFSN1nwom3uVQhCx0Sbxuxxdv59IkN96XvCmDq8NDtChh54h2ym1hYM2G/nE9aYbtTihNGHVbwh74vhif3BFe9noMbN3OR6j3zfGKXnUgRi41vcAFEheQ8eTvspeM0Jy4LjmwzIGOjAdvfLcStibnQFjQ/W38SVecMYwbcUZOfHm9q+IFfis1lrdJ5rc7zNn/NLeIyy1CVo5HaXOiQtBEv5SIrxWuL3a34oyKk+s/94qE7YtoxEjQIgggZwWEficpQpSQEduScFmzGtkaDOO7X8V0dbikP0Q3p68b4hIw4b0bpkBjs+RoQ75BdleTIGU5UL2uQqh6rzRl1RJ3EvsSk48yXZtTdM+OMnHyV8CJGrUXyy2NFB4+TLlZpsNynY9HchO9LIte2CLYR5+q47ewa8RY82+2Kxi9w7pdIQ4IGQRAh09ZqVlpgM6rIJIlwfW1Fi9TSY6vOW2vh5by5NQmJcmuKONB8W2nCgDdXKc2I4bUvejZIztXp9QuLAy11cituQ1IYBeQwws0mkvYuFlnrx957bf9P0fgFzP0SeUjQIAgiRHj+DI9pgM2oVk51NIzFCiV7t/BjMFODl7NnihYJ3jNRoRV/VCapgbKTjmTwXB4Lv89gZzvqPeYcnRqJU921ZR6HVNckzENeDLejWdmXVCbAjZlwuxxodMxeqe95gVdI9obVYwdp4Ts7Wr4bex123c5DhlaL+I2FuN8ziA7zKWzfYkDmRi3UW3ifsmIEGXH2RDqSV0oNBSda7sv+Gap1AbSMI1l6lyMuQsIICRoEQYTGGP+M6STaUuGnykja5QqWPEjAgMexYhV7QCpNiZHkWkGyk34vx5t6ok98McY/Y12Sf4EkKGzfJP9NB7r82sEFtFwySDkc4jdekeuwOEb9M9583TssVkD9JSN2V3Uqg8zUcTWbUWm2oWOy0RVDg3CH4jUo8OicMK7vdqLeZMLdx8GErj7czWNCAs9B8oFcSMzdah3xz1jj7TM87MStfB4q6hXwKdhQXhaPM7cKkOY0Y99bOhzp0+Pal2ZU3zmHLAfru2id9vkIFWFAiZrSxY8tQOjuRLNyX2YlBdAy9vfI13jUT6QonEhAggZBECExxj8j0MwpKIsR+0t5MO3sCxbRPyqUjEVA422z4p+RgkS/2UkH4eqVWxtWLpcbExjrn5H2+nT8M2KxIkluPX3qR4jitvZSJeFSrwvu52y22qDsC+IR4+VoKjRfQJFJjaM7p1czxW0phG5HIY5/mIOMLEW4CYBgL0WGRgvNG0nIKLUHH1R7a5QonSSoc2uC52kIdX02ay/P0mP3x6fw/rZ0vB+odo2zDleVz4VuFwbYNVBv8YRkxyDG63rqul2MoidGHPBKJgcmlNRnZiB5qA88Clu1/hh+t0eDaD44/3eVfB56XEq4deRQ/dR3Xpaue+YR/4xAWkb3U+Uorw+nb9VYFoSgIfQPQgihauN0EEKRzIl5SySvuYggzTrZ0uvEnZpR/4wVf8MeXFJ+iald9yvUsu2kqzVY8qDFSNtqlB/utRY5jbjQjfrTbJZfoczwAqb67sRjKfx1YlSK4Jb3zeWswe0R/4x4/JQNTNK+hWL6GGExliuzyvtP/GRgVMXgZ1zrEZOOEzfzkPj1ORwq/QkSJSc+G9ra2SA5LKDrYSl2vmtC7OliZE/TN1X40TUqLLCBuCVI8q+2hs+VMF2go6JhtF6NH1xNNSOmJ+FBjZzdNAChrs+uNgwoAiP7C9y1tfoXfpbGQBIp4424dsEA4VY+ftugVhxsW9HyhL0MD6LNXIh3P+xG9mf5SPNKJoekXFTnqEecc7cwAWck4sdTtfgldg6ljsiRmL4LybxhteAeP398H0x5yDymCMlBtIwdT2Rhy2+SvTAwvwWN4T7Un9RD888mdERi/O81Y582D7dGbgRiYcJmxld3QL3pFOqDT9FeCFrK/4ecR0Knx5HbozdTW7FR7t/rmYmHhup1jZw8qcnhI13yWFS6Y7BW5GFDdDV2v5GAeF0uvvhxNDlXwOqxvZ1o4wPaS2yGOmawtqM8nc+oeX6MQtwdESocKMqS+3ffDpLgyw8rkjIkE4/wyJ8Qpcae/8MGt0VWHN/Cfv/DTmTduonqm2acMapxJ1eLeHUSMkt7sOVzK64ZgmQYnQQxmadwIy8diWs17LgFMuvIJG8vRhYXfJZokH3aIA9wAYjJyMPRtUyQi1qKtAJ2roLYnkJdn+dPOXDrJLLXqpGsZscjUKhydDoOlxqR3G/Cbl0StlfF4uwdM6orK3B4fTdK9OwaYoLubks0jlpqcHTNuKtHtRjRUQI627lzLhu8E0Y/d7XKJrYNa5OmpWGaElxwusOPAduHdLYPazbhuD0aycqxC6xl7EPHI37/ekKnI4Q4J3CL9w6pxVdendyyesM2Mfdsldj8vfLnPnkmNp/dJL6y+qT41Y9KV7j5vkrMeXWv+EXA7SIWBM+7xC/2asRXNhSLzZG6/l5I3OKdg/y+ThcvPlK6QuHrYvE16bmwQ7z+rdLng4Hf50vPDt3FdqUnAjxvFy+m8W07KN75QekLI81n5efjJ41KRyAG6sQ8fswjeDhmmsdl6eIrh+rEAeV9eGgV/201O66/uSZ+81zpEl3iF+8q5/Upe/ujW3w28tkkmemxQvo+vk0a8aM/PFM6fSCdd7ZeWpn4ONRtngZzRKOxGGkf22C32WArHQ0GV20tRgPr4/3yYkVdxUlk/bwb98sLsX2jASXNvlUV7tpC7CzvQfaFceowgogEi2KR9WkpsnsrsPODydieFyqLsSGLm0S6cathtNz6GIbZ/c4LqmmNuGT3vt8FNP5erjUyIYHXGAZRf4+HcmiwRx+ZUFyJRWpsfo8nWLKg9mEwZ9cI840d96PYLD2Ck9qZRc6AmfzGuMicmUaJQlL9OmHU8bK3Afe4leLtdKT+bTcqd+1CZUTqkwloK8+FVqvD+zVjHWG7Hphlv6nxCbzG4cmsm/zepohWFJ4zphNV9GJEL1mMZ4OjasoNb61DHOvj/fKyFCvWGnC0/CaO8vj2IV4n4NxoOJqHfgs++rAGgu4YDninniWISMIe5AcKdRAeFOKTQE5rCxxVihFH2XjcdZU9LMffywyh6XO8b7LD3W9HSZ2XMNJbg6uVXMyIx/6cdP8DjrMa12vZ7xjZQzhAKftwELc1F9lsonP/ejU65ozPziDu3zABhvQXN0+Hw4xyqwZb1k7fnBQI93/aJRNJ2uteISq93ZJ/RqpWA9WfbqLyb43Y4M+/eCb5zozjxVa4+vtw93bD6ORFsKPyqp01VEjLk1P1+2TYiTvXLey5NM7pNQLMMR8Njz2MEyCV8KJ4JEslnxlDJtxuGPsQl/LbD6mQnaOfRngaQUyfGDbQ7IkScLfYFNTDf8HC7ueso3uxgt3LF80Tc2i72YNd1mOwe3qtopHgFV0/PiXN4lbsOYUDUippXwiov34OLVF6nM/TRd6ezoXNj9nv2s+hcnyVzRnBjvJtBmRu02N3udxTnqtj71lfOR98JiI0laHogRZn35teBMuswc99SSmwf2xZ/nDQ1dMO1RIDtmq9xqLXDTi7NR5t1wuwr3IpzhQbxhXUCxN9PUrCOiB5vVYZ2wS0lB5DeQ+7O9Yfw4lM/+HdwkMTiuwqbD6dF3ktv2JCmSMo9jBuQ1p9XmxWeifyTPzquLIeW3KqXEo/Y5ZsUBLko0H44PHFdOk6za12Kz2EL765voMdpx3i9U6lw0N7mZjOjt/fH28QB/g9/axTvHNkE1tXI+rPN8l9fnjWcFJ8jdutGwLYrcMOf15pIusv5o9nreLFDZvET76ezeMxPZ5WHxRX760S/xLp5/tMMpWx4gc2tvHx8Z8Uf5HnbrG5bIfko7T6YJDj8WOD+BH729fYPTQbZ35uaTS8s/IFTCXMMxMqTUZczKi06bFBqd4OFOpGEJEjMSVdmjnetzQELOa10FlhvIIbe9w4/s/n0OJtQlHvxY3reUhuyodGzaNNDuKL4XScuWVBdZ5Wzmvgix4z9h00I7XQjKOzakJVIa2wGmdS2PZ8YA4aXRNWVBrsv+cjwuIFIkZfCntZhLQIc4kl6TjLI25QgUx+H/Bokz8n4GhZneTb6Pd4cA3QB3m4lXIM1QWzoNVjzClBw2MP4/BiRn4PSG87mj2pX6OM2Kj1rDmIxgdyjHCk6i8QRFBWaZHFX2utcv4HwjeLFiP18E3cyGxHUcXY5FAxKXtx+Z5Nrp5qq8GN4jxkafyriXllyrulJkSzAf5adoBnSaTgzsGXqnEi2oSS2qmFyxLziCXLsYbnffFX/dcPqpUGnLhphYPfB3Yrqi8dQ/b62IDXd1ftBVRGH0PdJSNWzFJgxJwSNEaq6k1IvzuWDoviYSvNFHaNllgeqRPATuDyAId+uA+Nl3Kh1TCpUKPD7nIlO583fB1TKUrKrRGbgbgeXsG+LTopJbFal4uiGifbLkHOr69LQvxKLTL2V8j5AIjQkBLznMLOjXJKYk1WAcqb+pRrgdczkK+F7R9bZv58q+KRKPkUWdD8jdRD+IMLG+war9o/3XLdsdhcbMb5Gcg9MWNwYYNvk34ObRMxO3DNUnHO1GvphECcvhjVkfIj8cMcEjRGq+pJKVT9hF0JzefwzydlD9tE9kC67P0g6e1WNCIJiPObGU1AS8ku7H6kwzVrHc78qg/1xTzH/ThRw16B3R9fwaViKzqfK31hg21TsR66Yjf+8YIFDocN1952ovwDPTK3GJF5VcA7lU2wlWWyseoctpfYJgpGhH+46nC/Djut8ThaaYXTUYfD0TUoeicdmdvYtfCHBJyx2FCdl4AuUx4OfTHTM85YxEkKNiY0fktFsQiCWFjMHUHD2xySEo8YXshHSm0sL128NC6TALU7KtARpUbWaTOq8sbNenqdclrYQMViHn+OQ+XLcfa0EYnRg3BJ6QwFdPWOi1zxVMhLUSOQcmQmkHJ+mFJw+WY+0l5mP8ZndRnp0mcdDieyjh7DZsGEnbkmKR2w0BMgGx4xAR57fuSHfFR9ys55DD++sdj4Nk99LaDNEY2jn+zFClsxtp+2SiFjba6ZFwY8hbzqO0MRYhwo35ggaWCmt+hR7idFBUEQRLiZM4KG8MRTgZHRdAqZUqGd0WXdtnz2sIxB9mkTGmxmnDFMtLu6upSsKW+wGaTcmkDL78vwdE8ONnPbGBdeJOFGhbhl3qG0cjIYTtzaBL/fNSMMO1BZXIPEgl1jQo66OtuVlgFvcR+U6BjE8s+ZkLX/vXTfYbtCNxpLjVC/M7V00POS/hpcLOlBdp5hTKXDjieeugB6pMazKyBmqXyeucPVdp5kaWaJi9XKjSF3CNooNfbca5f9Eqa11GAPuSwRBDFLzBlBo611tFBTdnmrj4elDXUVxThs0CBuvIThYRK29bjMMlTlyAMJFzqkAXl8NjV3K/6ojENp6nCnzotB2ikTfjcmgcog2puUfCJ6rZxUZ5ke1+zsONjNODzOY7yl3IDMjXpkZBmx+9IkKiwuJFQavFdhwoEx2fJGzXRxG5KkugAqTR7q+HVmK8Vmqbx3mAhUm4EgCGIe8lc8xlVpzyJOVG7T47hUS1+HM9YyZAWoPucPlzkX2g+ZhKA7CRsbfAMm6xJsOK7NQeUQG2zyzGjY7zXlazqH+HcqWEOH8w/LsHmyWb96zdits2DjFLd/hGEbitQ54Pl3EgtrUD3Zko3S7xeiPuUkGq4bwquJeZHpMWPnW4WSmY0LtSciEPoY0rU5R+BmF4IgFhZ8Yj/jSNk0Zpun1UpBGLb85ob4jdIdKk+r9srf8W6VyGvdBGSkGNPEwkJSsZ6pbMtMJexqLxN1frYtIJ7COtlV4l+ULmIingJbr7yaL94Lb0WmEUK6NgmCIOYRc8J0IjjsI/4ZqpRAJW4DE/MLJeH8DwIG5JZfRpw9kY7klVJDwYmW+7J/RuByu+Gj61GT4mMxftsEdDXb0UXhrdNiJIw6RYsE7wIZw31oe+iAa4wJjqf4NUKrTYJ6xxW0ueXQ6MwtBmTqkqDJmVy48cCQUplgeWwI2gxyBiUI4sVnTgga3v4Z00q0FRUtmwse9wS1gwsDive/Ln6MkyDcnWiWTDhsW5Ii4EHXW4N9PIfDyiS8LxXeGkTrQ49/hmZsdlOnGYd2FKN+uqVA3U7Um0y4+3iS0RXDghT5I4SQX0Lg0UIhOIuEur6r2YxKsw0dQU60YL+CTJ4vhQ22l/hgO+zlnzHO0Vd4WIbt+83o8A5n/s6MIqcRNUzYEJpLkfnGLtx5uQBVX5pR/Xk+4h6ew6EvJtbnGI/7e3mk90SfTA5yBiUI4sVnDggaPJ24Z4TRYY16Gvbyl+KRJDVccAUZgFQ/9Z00p+ueWUphzrclcWX4bfcdlgrc7+ctAd39A0B/A2prpY+AZTGjFSl5Lojic2ibdgVKJ8qz9Nj98Sm8vy1dEW4C0Ye7+1OkyB/1mlzc7VW6/cI1AHqoebTQ63qUjCnr7YtQ12eDtqUQuh2FOP5hDjKyrgQoViag8XaponHowdMf2Hc7PJFGwPKlXrqFITtKikxIPGwcTQDH6LJZEJO+Dqp+WbrjBbxO6OPl8GmVSjo/Hb3BJL9BuJTjtmFlJMo8EgRBzB1mTdCQZrA8P8bDatxRNAg8AkM1rOTOCGF2O0L0cqzh5eNhweMgk8zE9F1I5g2rBfe+Y688c6QpD5nHPGGPOiRPx6FzkvxsqTzwrMguw+Wt/4VbHxaiXq2WTTZft8qlpfsduHUsF0e+NeLGtHPVuzEwIiwIuGtrZf8HwNWE2w+UNYasuM2zaQbEga8qPAefCTUNwXT2oa7PtvpH1+g2O+vQws+fT1SI+TkXKJdiQ6EJhxPsKPqXUqjY8eXHsPFRO9zs+Ao9NpS8m4PKX5zE74xjHW/j9BdwNn2xYm5RI2vraO4WodMhOZQmMoEwMJ14/IC/BqhITBAEMU+ZHUHDVYP3Pfkxcq6MlL4FzNin4/06lHw9FUkjHsn/wAcWAW2dQQbEeCOu3TmJ7LXdKElPkAvU2KORrIwZkfLPiM44iMtGDZ5W8pToO3Br2UnUfWmWikil9V5ABi+e89Ze3FtSgIb/yEfytHPVa3CAF+ZZq0aymh2rYOGWMek4XKBlM3c2aK/Px+GMQPUlOBpknTYgkW1ntMaI80FzUoS6PtukzFO4kZeOxLUado4c6JI0Qr5JzC7F0fVA/UkDNG/lo2O7CVVfmlDNE7bV5kpFutTbStGVWQHbJR9peqMWI1rlRMefeDsFyV4KibYmbvKLxcZfB4kK6u2UtSovZSA53NHSxKzBJ0+hmBeJFw86x1NEcQqdPzxSIjYOVoshBxR4ojZ4Wek/TKGY7myXiQ8x6kSKrjlUF/pxmisM1Il5oUbmTAVPVNQRrxLLz1vFT3jJ5rTzYvNzUXw24Baf+SnT7Ily0YV9Q4lZ4blL/OpfN4mv/VOZ+Hi2y8ATYeSZ2Hx2k/jKhpPiVxQ6FhJzwhl0Rlm1CXv4pLjWgnqfM11BSkmt1erwfs1YrUfXA6VY2/gEXvMSOftp8hvqUT+QF41v7LgfpQu7lsATFZWW5JWN1m6Rc7BsXYfk5zYU6YrR6FMJN4j6e9zsosEePXlkzipuC973GZXja9EiY1seisz2cVFI41FqJ5lTcPmzvZJmjpivqJB8uAxnfmHG7uxzaKHov0kz/wQNxCLrgJFdEhZcr/HhqPGdGceLrXD19+Hu7QaptoWEYEflVblYW1qeYWy0x3zEYUa5VYMta307xc59BnH/hgkwpMuZU8NIh4P77cRiTcLoseLp7rlckcYEta47FWg0GpDqa5BxVuN6Lbuqpu3ES0ybv9HhX2022G1WXDYofex+3/xpHevj/cpircGN09sR02NB+YdG6LaV+h1UpDpF5T3IvpA/poQAMU/hFXg/LUV2bwV2flAzOn4QAZmHggZ7dOhycXa9is00TKgf/4Do6xnxCUler1VyGvDIh2Ngzwuo1h/DicxgfghzCxd72GVuMyAz65Q080YTe7+Rvd9WiPu+7gQewVJSCuwveGEHP6GpDEUPtDj7nnZUyxAW+tDdOQCV2oA0L4VETEYuDq9ZisbiHBxp1+Ozw77Kmguov85mPlF6nM+brhMvMW0WqRC9ZDFbnmHAU8AR6XhbF6v0K8uyeKQa8nGjMh+JbA3BcQU72eRkgsKq34KPPqyBoDuGAxHILkvMEaJ0OFCog/CgEJ8EjdojJBQTyvzjxwbxo9Vq8bXjXnZ1zg91Yh63rf/TNfEbblN/7haby3ZIWUJXH6wS/+LHzj4pZttHY5I8rT4ort47zX2dTZ61ihc3bBI/+XoKfjQR5FnDSXZdacSPGub2di44nrFng+SLxZaA2X9bxU886/nIIvv4Is8gPEV/LuLFZsRHq0x8/KI+RyPIvNRoSDCp88Sdk0i9nYd9Zq/S3Lw6J4+6QAUyeUQHjzb5cwKOltXBVuoj6mAeEqMvhb3sBd5XlQb779Xg6LjicnOKHjP2HTQjtdCMozTbnVs4WnFLaQaMLhO8K+26MeCtHXVbcLWUPVcWhD8XMYFFGmx5L5bd56W4SFqNoMxfQYPzsgHX7hxD9I0LuDuiKmUPl5UGnLhphYNnTbRbUX3pGLLXx05ftb1kOdZs1SKRl6AnFjDduFtqQnRhNa5lezmQEnOCjkejZpCA2X+dDtkUKRGLn3nd125rjZTYT/U2u98XwOSEmEhiSrp0b9+3NFBF5iDMb0GDw4SN818Wh7f0twc+0y7OQSKNLAucWGwuNuO84UV1tJ3PDKKz1ZMUjgkJy/3frK72VqXmELu1s9O9MsYOovGBRWpNq2QC8WKzSoss/lprRSNJGgGZ/4IGQRCEh+F2NCs19fBSChL9TUCGnbj3hZIlmJthd3s5HY98R2BBxYPr4RXs26KDemUC1LpcFNU4IbB/HeZT2K5LkkNp90+uOB8xDp7RmR3HnRu1UliyJqsA5Tx78TAvfpiHDF5HSqPD9o8t6JrpRFuqeCSm8IYFzd9IPYQfSNAgCGLh8MSO+0oT65RU/xPguTEO4jiPdo9SY/9npcjyFkh6u9EmNRIQF7BMAfueYj10xW784wULHA4brr3tRPkHemRuMSLzqoB3KptgK8tkY9U5bC+xjZh0iEnAo+f267DTGo+jlVY4HXU4HF2DonfSkbltF3b/IQFnLDZU5yWgy5SHQ194+erNCLGIkxRaTGj8dpIFKhcoJGgQBLFg8DaHpC6PGam5JC9MgHhgRlEOmwGXO6WQ5jO3TDg83um41ynVuEHUT+Tien6QcmyYUnD5Zj7SXmbfsWgxUjPSpc86HE5kHT2GzYIJO3NN6GB9Qk+QcgDEGHjixSM/5KPqUyMSY/jxjcXGt3XsEwFtjmgc/WQvVtiKsf20Vcp30eaaeWHAU425vnOmhZj5BQkaBEEsENgA9EgxhzAaef0bpeaSvGQg88MKtMUYceZmHexfnkSWjwrOPFmbxBtsRiu3JjLsQGVxDRILdo1J5NXV2a60DHhLy747Ogax/HOuOXkvXcnrMw6hG42lRqjfMY8ISQue/hpcLOlBdp4BK7yEvY4nnqKYeqTGM0EgZql8jni04STqKIVKXKxWbgx5RygR4yFBgyCIBYIDzbeVJoy49qgdTh555r3YanCjOA9Za2L9aysmZeuPQdopE3631dsheBDtTTa5qdfKGW2X6XHNzn7Xbp6gOWkpNyBzox4ZWUbsvmSngcwblQbvVZhwYExosQMtdXIrbkOSZBZTafJQJ53X0vAGBAQrTrnAIUGDIIiFgbN9NFOwTh3e6LBFS6XqwnHeacm9HFETk5YHrTGUvMeM6ns1qLuSh1Slj1CIikXyWjVivIXBnnb8UUljkKamMslzCRI0CIJYELj+bFWcONlAvy7Jt5kinIw4osZi4xs0EM407j/bZN8Z6PGmJpxSJBEqJGgQBLEAENBm9/hnqJCaMPWBPuYXy+XGDwIG5Nak6HrUpPhYpCN5pdRQENDVbEcXhbdOiza7oi5K0SLBW1003Ie2h45xVXh5fSsjtNokqHdcQZubh8PmInOLAZm6JGhyJhduPDCkFJNaHht5wfUFggQNgiAWAN7+GQa8uUppToWoaNnB8HGPf7t8bw328RwOK5PwvpSiehCtDz3+GZqx2USdZhzaUYz66ZYCdTtRbzLh7uNJRlcMC1K0jRBCfgkpSicEZ5FQ13c1m1FptqEjiMODYL+CTA0/vnpc4vnXhr38M9YmjHHSFR6WYft+MzqeKx2c78wochpRw4QNobkUmW/swp2XC1D1pRnVn+cj7uE5HPrCR/Xvcbi/l5O/eaJPCN+QoEEQxPzH2z9jPRvopzMuvBSPJKnhgsvPgNhhqcD9ft4S0N0/APQ3oLZW+ghYFjPqn8FzQRSfQ5sxd5qVlJ0oz9Jj98en8P62dEW4CUQf7u5PkaJt1GtycbdX6fYL1wDooebROa/rUWIPJj2Euj4btC2F0O0oxPEPc5CRdQVtfgUgAY23SxWNQw+e/sC+22HFLcU/Y/lSL93CkB0lRSYkHjZ6ZXYFumwWxKSvg6pflu5W7DmFE/p42QFYpZLOT0dvMMlvEC7luG1YqWi5CJ+QoEEQxPxEmbHz/BiN/14z4p+BJWzEkfpDm82PEL0caySNiAWP/Ux6f7ZUHnhWZJfh8tb/wq0PC1GvVhKEfd2KDv67/Q7cOpaLI98acaNAN82aOG4MjAgLAu7aWtn/AXA14fYDZY0hK27zbJoBceCrCs/OMqGmwZPG3R+hrs+2+kfX6DY769DyndKegAoxP+fRPEuxodCEwwl2FP1LKVTs+PJj2PioHW52fIUeG0rezUHlL07id8axprI4/QWcTV+smFvUyNqqGTn+QqdD8vVIZAJhYDrx+AF/VWPNLxdLPYRvSNAgCGJe4qotGMmPsfMKT/OpYM6Dlve/VYoWb3X6pIlH8j/wgU5AW6fvATo64yAuGzV4WpkLrWYHbi07ibovzbhxPQ9pvReQwStHv7UX95YUoOE/8pHsHZ0yJTQ4wKtSr1UjWc22LVi4ZUw6Dhdo2cydDdrr83E4Y6nygT80yDptQCLbzmiNEeeD5qQIdX22SZmncCMvXYrWWcEElS5JI+SbxOxSHF0P1PNcKG/lo2O7CVVfmlB92ojE2lxo2PFVbytFV2YFbJd8VKqOWoxolRMdf+LtFCR7KSTamszs/1hs/HUQP57eTlmr8lIGksm3NzBKuXiCIAhisjwqE3WvqsVXDlaLA0pX2Pi+Sszhv5VdJf5F6QrE47J08ZVDdeHfrnAxUCfmvZouXmxX3oeLp9XycT3SID5TusTnreInq1lf2nmx+bkoPhtwi8/Yqy8Gfp8vvsL+Xhf2DX3xIY0GQRBEqKzahD18kl5rQX2AmXfk6UPbn7qR/IY6aJ6OOcs3dtyP0oVdSyA47Khnr2lJ8aNmK7sFlUNA3NZ1SH5uQ5GuGI0+bVCDqL/HzS4a7NFTBd9gkKBBEAQRMrHIOmBkA5QF12uCRydEDIcZ5VYNtqz1zkj6IjGI+zdMgCFdzpwaRjocPNw5FmsSRo8VTy/P5Yo0Jqh13alAo9GAVF9mLWc1rtcCqmk78S4MSNAgCIKYAipdLs6uV6GlxDQa0TKDuGoLkbnNgMysU9LMG03s/Ub2flsh7vsKiOARLCWlwP6CF3bwE5rKUPRAi7PveZXlDwt96O4ckArnpXkpJGIycnF4zVI0FufgSLsenx0edRIdRUD99XNoidLjfN50nXgXBn/F7SdKmyAIggiFISuOv5mLW1vLYP94dgcdV00e0mt0qPbl/PgiINhxacsxDHxixtHxFXPnEIL1FDR7zMgqb8IJHYkZk4EEDYIgiOnwnRm7t5wCCqtxzfCimiyISdHDzvUmdq4Pm3E528u3gwgImU4IgiCmw8sGXLtzDNE3LuCukjSKmI90426pCdFcoCQhIyRIo0EQBEEQRNggjQZBEARBEGGDBA2CIAiCIMIGCRoEQRAEQYQNEjQIgiAIgggbJGgQBEEQBBE2SNAgCIIgCCJskKBBEARBEETYIEGDIAiCIIiwQYIGQRAEQRBhgwQNgiAIgiDCBgkaBEEQBEGEDRI0CIIgCIIIGyRoEARBEAQRNkjQIAiCIAgibJCgQRAEQRBE2CBBgyAIgiCIsEGCBkEQBEEQYYMEDYIgCIIgwgYJGgRBEARBhA0SNAiCIAiCCBskaBAEQRAEETZI0CAIgiAIIkwA/x+00mgNE3P3gAAAAABJRU5ErkJggg==)"
      ],
      "metadata": {
        "id": "-Y-ZNWRH2Oe3"
      }
    },
    {
      "cell_type": "markdown",
      "source": [
        "Using the naive conditional independence assumption that"
      ],
      "metadata": {
        "id": "HcALSLtF2Rsh"
      }
    },
    {
      "cell_type": "markdown",
      "source": [
        "![nbc2.png](data:image/png;base64,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)"
      ],
      "metadata": {
        "id": "Ln3kEuOH2aDR"
      }
    },
    {
      "cell_type": "markdown",
      "source": [],
      "metadata": {
        "id": "2PwNPQps2gMr"
      }
    },
    {
      "cell_type": "code",
      "source": [
        "head(X_train,2)"
      ],
      "metadata": {
        "colab": {
          "base_uri": "https://localhost:8080/",
          "height": 160
        },
        "id": "iX4_7RO3Vb_Z",
        "outputId": "84f0c844-7785-4db6-d849-4aaaeb7220e2"
      },
      "execution_count": null,
      "outputs": [
        {
          "output_type": "display_data",
          "data": {
            "text/html": [
              "<table class=\"dataframe\">\n",
              "<caption>A data.frame: 2 × 194</caption>\n",
              "<thead>\n",
              "\t<tr><th></th><th scope=col>abort</th><th scope=col>sai</th><th scope=col>support</th><th scope=col>bush</th><th scope=col>clinton</th><th scope=col>give</th><th scope=col>hillari</th><th scope=col>john</th><th scope=col>mccain</th><th scope=col>vote</th><th scope=col>⋯</th><th scope=col>per</th><th scope=col>back</th><th scope=col>run</th><th scope=col>big</th><th scope=col>allow</th><th scope=col>white</th><th scope=col>u</th><th scope=col>go</th><th scope=col>us</th><th scope=col>do</th></tr>\n",
              "\t<tr><th></th><th scope=col>&lt;dbl&gt;</th><th scope=col>&lt;dbl&gt;</th><th scope=col>&lt;dbl&gt;</th><th scope=col>&lt;dbl&gt;</th><th scope=col>&lt;dbl&gt;</th><th scope=col>&lt;dbl&gt;</th><th scope=col>&lt;dbl&gt;</th><th scope=col>&lt;dbl&gt;</th><th scope=col>&lt;dbl&gt;</th><th scope=col>&lt;dbl&gt;</th><th scope=col>⋯</th><th scope=col>&lt;dbl&gt;</th><th scope=col>&lt;dbl&gt;</th><th scope=col>&lt;dbl&gt;</th><th scope=col>&lt;dbl&gt;</th><th scope=col>&lt;dbl&gt;</th><th scope=col>&lt;dbl&gt;</th><th scope=col>&lt;dbl&gt;</th><th scope=col>&lt;dbl&gt;</th><th scope=col>&lt;dbl&gt;</th><th scope=col>&lt;dbl&gt;</th></tr>\n",
              "</thead>\n",
              "<tbody>\n",
              "\t<tr><th scope=row>1</th><td>1</td><td>1</td><td>1</td><td>0</td><td>0</td><td>0</td><td>0</td><td>0</td><td>0</td><td>0</td><td>⋯</td><td>0</td><td>0</td><td>0</td><td>0</td><td>0</td><td>0</td><td>0</td><td>0</td><td>0</td><td>0</td></tr>\n",
              "\t<tr><th scope=row>2</th><td>0</td><td>0</td><td>0</td><td>1</td><td>1</td><td>1</td><td>1</td><td>1</td><td>1</td><td>1</td><td>⋯</td><td>0</td><td>0</td><td>0</td><td>0</td><td>0</td><td>0</td><td>0</td><td>0</td><td>0</td><td>0</td></tr>\n",
              "</tbody>\n",
              "</table>\n"
            ],
            "text/markdown": "\nA data.frame: 2 × 194\n\n| <!--/--> | abort &lt;dbl&gt; | sai &lt;dbl&gt; | support &lt;dbl&gt; | bush &lt;dbl&gt; | clinton &lt;dbl&gt; | give &lt;dbl&gt; | hillari &lt;dbl&gt; | john &lt;dbl&gt; | mccain &lt;dbl&gt; | vote &lt;dbl&gt; | ⋯ ⋯ | per &lt;dbl&gt; | back &lt;dbl&gt; | run &lt;dbl&gt; | big &lt;dbl&gt; | allow &lt;dbl&gt; | white &lt;dbl&gt; | u &lt;dbl&gt; | go &lt;dbl&gt; | us &lt;dbl&gt; | do &lt;dbl&gt; |\n|---|---|---|---|---|---|---|---|---|---|---|---|---|---|---|---|---|---|---|---|---|---|\n| 1 | 1 | 1 | 1 | 0 | 0 | 0 | 0 | 0 | 0 | 0 | ⋯ | 0 | 0 | 0 | 0 | 0 | 0 | 0 | 0 | 0 | 0 |\n| 2 | 0 | 0 | 0 | 1 | 1 | 1 | 1 | 1 | 1 | 1 | ⋯ | 0 | 0 | 0 | 0 | 0 | 0 | 0 | 0 | 0 | 0 |\n\n",
            "text/latex": "A data.frame: 2 × 194\n\\begin{tabular}{r|lllllllllllllllllllll}\n  & abort & sai & support & bush & clinton & give & hillari & john & mccain & vote & ⋯ & per & back & run & big & allow & white & u & go & us & do\\\\\n  & <dbl> & <dbl> & <dbl> & <dbl> & <dbl> & <dbl> & <dbl> & <dbl> & <dbl> & <dbl> & ⋯ & <dbl> & <dbl> & <dbl> & <dbl> & <dbl> & <dbl> & <dbl> & <dbl> & <dbl> & <dbl>\\\\\n\\hline\n\t1 & 1 & 1 & 1 & 0 & 0 & 0 & 0 & 0 & 0 & 0 & ⋯ & 0 & 0 & 0 & 0 & 0 & 0 & 0 & 0 & 0 & 0\\\\\n\t2 & 0 & 0 & 0 & 1 & 1 & 1 & 1 & 1 & 1 & 1 & ⋯ & 0 & 0 & 0 & 0 & 0 & 0 & 0 & 0 & 0 & 0\\\\\n\\end{tabular}\n",
            "text/plain": [
              "  abort sai support bush clinton give hillari john mccain vote ⋯ per back run\n",
              "1 1     1   1       0    0       0    0       0    0      0    ⋯ 0   0    0  \n",
              "2 0     0   0       1    1       1    1       1    1      1    ⋯ 0   0    0  \n",
              "  big allow white u go us do\n",
              "1 0   0     0     0 0  0  0 \n",
              "2 0   0     0     0 0  0  0 "
            ]
          },
          "metadata": {}
        }
      ]
    },
    {
      "cell_type": "markdown",
      "source": [
        "## **3.1 - Self Made**"
      ],
      "metadata": {
        "id": "f2Mejv2DBq5K"
      }
    },
    {
      "cell_type": "markdown",
      "source": [
        "### **Classifier**"
      ],
      "metadata": {
        "id": "Kt4L4Ij86_na"
      }
    },
    {
      "cell_type": "markdown",
      "source": [
        "$P(Label|Features) = \\frac{P(Features|Label)*P(Label))}{ P(Features)} $\n"
      ],
      "metadata": {
        "id": "YL7elZXpYnz5"
      }
    },
    {
      "cell_type": "markdown",
      "source": [
        "Get the occurence of each word in each label as follows:"
      ],
      "metadata": {
        "id": "sy5tOcc-_t7T"
      }
    },
    {
      "cell_type": "code",
      "source": [
        "# Add Label to DF to DocumentTermMatrix\n",
        "cf <- cbind(X_train, Y_train)\n",
        "# group by labels + summing over words\n",
        "cf <- aggregate(.~Y_train, cf, sum)"
      ],
      "metadata": {
        "id": "zXFS3rgfqqRg"
      },
      "execution_count": 207,
      "outputs": []
    },
    {
      "cell_type": "code",
      "source": [
        "head(cf,6)"
      ],
      "metadata": {
        "id": "SXPQPE-CEN2c",
        "colab": {
          "base_uri": "https://localhost:8080/",
          "height": 286
        },
        "outputId": "b1cf672c-b26e-4e46-9572-26b22cb70f7c"
      },
      "execution_count": 208,
      "outputs": [
        {
          "output_type": "display_data",
          "data": {
            "text/html": [
              "<table class=\"dataframe\">\n",
              "<caption>A data.frame: 6 × 195</caption>\n",
              "<thead>\n",
              "\t<tr><th></th><th scope=col>Y_train</th><th scope=col>abort</th><th scope=col>sai</th><th scope=col>support</th><th scope=col>bush</th><th scope=col>clinton</th><th scope=col>give</th><th scope=col>hillari</th><th scope=col>john</th><th scope=col>mccain</th><th scope=col>⋯</th><th scope=col>per</th><th scope=col>back</th><th scope=col>run</th><th scope=col>big</th><th scope=col>allow</th><th scope=col>white</th><th scope=col>u</th><th scope=col>go</th><th scope=col>us</th><th scope=col>do</th></tr>\n",
              "\t<tr><th></th><th scope=col>&lt;dbl&gt;</th><th scope=col>&lt;dbl&gt;</th><th scope=col>&lt;dbl&gt;</th><th scope=col>&lt;dbl&gt;</th><th scope=col>&lt;dbl&gt;</th><th scope=col>&lt;dbl&gt;</th><th scope=col>&lt;dbl&gt;</th><th scope=col>&lt;dbl&gt;</th><th scope=col>&lt;dbl&gt;</th><th scope=col>&lt;dbl&gt;</th><th scope=col>⋯</th><th scope=col>&lt;dbl&gt;</th><th scope=col>&lt;dbl&gt;</th><th scope=col>&lt;dbl&gt;</th><th scope=col>&lt;dbl&gt;</th><th scope=col>&lt;dbl&gt;</th><th scope=col>&lt;dbl&gt;</th><th scope=col>&lt;dbl&gt;</th><th scope=col>&lt;dbl&gt;</th><th scope=col>&lt;dbl&gt;</th><th scope=col>&lt;dbl&gt;</th></tr>\n",
              "</thead>\n",
              "<tbody>\n",
              "\t<tr><th scope=row>1</th><td>0</td><td> 9</td><td>203</td><td>15</td><td> 4</td><td>19</td><td>10</td><td>18</td><td>12</td><td> 5</td><td>⋯</td><td> 2</td><td> 9</td><td>10</td><td> 8</td><td>11</td><td>10</td><td>0</td><td>0</td><td>0</td><td>0</td></tr>\n",
              "\t<tr><th scope=row>2</th><td>1</td><td>24</td><td>394</td><td>52</td><td>22</td><td>37</td><td>32</td><td>22</td><td>19</td><td>12</td><td>⋯</td><td>23</td><td>13</td><td>20</td><td>13</td><td>17</td><td>15</td><td>0</td><td>0</td><td>0</td><td>0</td></tr>\n",
              "\t<tr><th scope=row>3</th><td>2</td><td>17</td><td>400</td><td>57</td><td>20</td><td>51</td><td>28</td><td>33</td><td>19</td><td>16</td><td>⋯</td><td>15</td><td>16</td><td>13</td><td>13</td><td>21</td><td>17</td><td>0</td><td>0</td><td>0</td><td>0</td></tr>\n",
              "\t<tr><th scope=row>4</th><td>3</td><td>22</td><td>404</td><td>54</td><td>29</td><td>43</td><td>32</td><td>32</td><td>24</td><td>13</td><td>⋯</td><td>27</td><td>15</td><td>16</td><td>20</td><td>25</td><td>19</td><td>0</td><td>0</td><td>0</td><td>0</td></tr>\n",
              "\t<tr><th scope=row>5</th><td>4</td><td> 8</td><td>329</td><td>43</td><td>27</td><td>31</td><td>27</td><td>22</td><td>13</td><td>15</td><td>⋯</td><td>26</td><td>19</td><td>19</td><td>12</td><td>16</td><td>12</td><td>0</td><td>0</td><td>0</td><td>0</td></tr>\n",
              "\t<tr><th scope=row>6</th><td>5</td><td>18</td><td>272</td><td>33</td><td>19</td><td>12</td><td>16</td><td> 7</td><td>21</td><td>28</td><td>⋯</td><td>19</td><td>14</td><td>12</td><td>10</td><td>12</td><td> 6</td><td>0</td><td>0</td><td>0</td><td>0</td></tr>\n",
              "</tbody>\n",
              "</table>\n"
            ],
            "text/markdown": "\nA data.frame: 6 × 195\n\n| <!--/--> | Y_train &lt;dbl&gt; | abort &lt;dbl&gt; | sai &lt;dbl&gt; | support &lt;dbl&gt; | bush &lt;dbl&gt; | clinton &lt;dbl&gt; | give &lt;dbl&gt; | hillari &lt;dbl&gt; | john &lt;dbl&gt; | mccain &lt;dbl&gt; | ⋯ ⋯ | per &lt;dbl&gt; | back &lt;dbl&gt; | run &lt;dbl&gt; | big &lt;dbl&gt; | allow &lt;dbl&gt; | white &lt;dbl&gt; | u &lt;dbl&gt; | go &lt;dbl&gt; | us &lt;dbl&gt; | do &lt;dbl&gt; |\n|---|---|---|---|---|---|---|---|---|---|---|---|---|---|---|---|---|---|---|---|---|---|\n| 1 | 0 |  9 | 203 | 15 |  4 | 19 | 10 | 18 | 12 |  5 | ⋯ |  2 |  9 | 10 |  8 | 11 | 10 | 0 | 0 | 0 | 0 |\n| 2 | 1 | 24 | 394 | 52 | 22 | 37 | 32 | 22 | 19 | 12 | ⋯ | 23 | 13 | 20 | 13 | 17 | 15 | 0 | 0 | 0 | 0 |\n| 3 | 2 | 17 | 400 | 57 | 20 | 51 | 28 | 33 | 19 | 16 | ⋯ | 15 | 16 | 13 | 13 | 21 | 17 | 0 | 0 | 0 | 0 |\n| 4 | 3 | 22 | 404 | 54 | 29 | 43 | 32 | 32 | 24 | 13 | ⋯ | 27 | 15 | 16 | 20 | 25 | 19 | 0 | 0 | 0 | 0 |\n| 5 | 4 |  8 | 329 | 43 | 27 | 31 | 27 | 22 | 13 | 15 | ⋯ | 26 | 19 | 19 | 12 | 16 | 12 | 0 | 0 | 0 | 0 |\n| 6 | 5 | 18 | 272 | 33 | 19 | 12 | 16 |  7 | 21 | 28 | ⋯ | 19 | 14 | 12 | 10 | 12 |  6 | 0 | 0 | 0 | 0 |\n\n",
            "text/latex": "A data.frame: 6 × 195\n\\begin{tabular}{r|lllllllllllllllllllll}\n  & Y\\_train & abort & sai & support & bush & clinton & give & hillari & john & mccain & ⋯ & per & back & run & big & allow & white & u & go & us & do\\\\\n  & <dbl> & <dbl> & <dbl> & <dbl> & <dbl> & <dbl> & <dbl> & <dbl> & <dbl> & <dbl> & ⋯ & <dbl> & <dbl> & <dbl> & <dbl> & <dbl> & <dbl> & <dbl> & <dbl> & <dbl> & <dbl>\\\\\n\\hline\n\t1 & 0 &  9 & 203 & 15 &  4 & 19 & 10 & 18 & 12 &  5 & ⋯ &  2 &  9 & 10 &  8 & 11 & 10 & 0 & 0 & 0 & 0\\\\\n\t2 & 1 & 24 & 394 & 52 & 22 & 37 & 32 & 22 & 19 & 12 & ⋯ & 23 & 13 & 20 & 13 & 17 & 15 & 0 & 0 & 0 & 0\\\\\n\t3 & 2 & 17 & 400 & 57 & 20 & 51 & 28 & 33 & 19 & 16 & ⋯ & 15 & 16 & 13 & 13 & 21 & 17 & 0 & 0 & 0 & 0\\\\\n\t4 & 3 & 22 & 404 & 54 & 29 & 43 & 32 & 32 & 24 & 13 & ⋯ & 27 & 15 & 16 & 20 & 25 & 19 & 0 & 0 & 0 & 0\\\\\n\t5 & 4 &  8 & 329 & 43 & 27 & 31 & 27 & 22 & 13 & 15 & ⋯ & 26 & 19 & 19 & 12 & 16 & 12 & 0 & 0 & 0 & 0\\\\\n\t6 & 5 & 18 & 272 & 33 & 19 & 12 & 16 &  7 & 21 & 28 & ⋯ & 19 & 14 & 12 & 10 & 12 &  6 & 0 & 0 & 0 & 0\\\\\n\\end{tabular}\n",
            "text/plain": [
              "  Y_train abort sai support bush clinton give hillari john mccain ⋯ per back\n",
              "1 0        9    203 15       4   19      10   18      12    5     ⋯  2   9  \n",
              "2 1       24    394 52      22   37      32   22      19   12     ⋯ 23  13  \n",
              "3 2       17    400 57      20   51      28   33      19   16     ⋯ 15  16  \n",
              "4 3       22    404 54      29   43      32   32      24   13     ⋯ 27  15  \n",
              "5 4        8    329 43      27   31      27   22      13   15     ⋯ 26  19  \n",
              "6 5       18    272 33      19   12      16    7      21   28     ⋯ 19  14  \n",
              "  run big allow white u go us do\n",
              "1 10   8  11    10    0 0  0  0 \n",
              "2 20  13  17    15    0 0  0  0 \n",
              "3 13  13  21    17    0 0  0  0 \n",
              "4 16  20  25    19    0 0  0  0 \n",
              "5 19  12  16    12    0 0  0  0 \n",
              "6 12  10  12     6    0 0  0  0 "
            ]
          },
          "metadata": {}
        }
      ]
    },
    {
      "cell_type": "code",
      "source": [
        "# Add one for all (theory)\n",
        "cf <- cf + 1\n",
        "# correction\n",
        "cf$Y_train <- cf$Y_train - 1"
      ],
      "metadata": {
        "id": "CECAhCESYZk3"
      },
      "execution_count": 209,
      "outputs": []
    },
    {
      "cell_type": "code",
      "source": [
        "head(cf,6)"
      ],
      "metadata": {
        "colab": {
          "base_uri": "https://localhost:8080/",
          "height": 286
        },
        "id": "vLWZZf81YbU6",
        "outputId": "a3c8e842-c300-4f23-9eca-08a7643aafbc"
      },
      "execution_count": 210,
      "outputs": [
        {
          "output_type": "display_data",
          "data": {
            "text/html": [
              "<table class=\"dataframe\">\n",
              "<caption>A data.frame: 6 × 195</caption>\n",
              "<thead>\n",
              "\t<tr><th></th><th scope=col>Y_train</th><th scope=col>abort</th><th scope=col>sai</th><th scope=col>support</th><th scope=col>bush</th><th scope=col>clinton</th><th scope=col>give</th><th scope=col>hillari</th><th scope=col>john</th><th scope=col>mccain</th><th scope=col>⋯</th><th scope=col>per</th><th scope=col>back</th><th scope=col>run</th><th scope=col>big</th><th scope=col>allow</th><th scope=col>white</th><th scope=col>u</th><th scope=col>go</th><th scope=col>us</th><th scope=col>do</th></tr>\n",
              "\t<tr><th></th><th scope=col>&lt;dbl&gt;</th><th scope=col>&lt;dbl&gt;</th><th scope=col>&lt;dbl&gt;</th><th scope=col>&lt;dbl&gt;</th><th scope=col>&lt;dbl&gt;</th><th scope=col>&lt;dbl&gt;</th><th scope=col>&lt;dbl&gt;</th><th scope=col>&lt;dbl&gt;</th><th scope=col>&lt;dbl&gt;</th><th scope=col>&lt;dbl&gt;</th><th scope=col>⋯</th><th scope=col>&lt;dbl&gt;</th><th scope=col>&lt;dbl&gt;</th><th scope=col>&lt;dbl&gt;</th><th scope=col>&lt;dbl&gt;</th><th scope=col>&lt;dbl&gt;</th><th scope=col>&lt;dbl&gt;</th><th scope=col>&lt;dbl&gt;</th><th scope=col>&lt;dbl&gt;</th><th scope=col>&lt;dbl&gt;</th><th scope=col>&lt;dbl&gt;</th></tr>\n",
              "</thead>\n",
              "<tbody>\n",
              "\t<tr><th scope=row>1</th><td>0</td><td>10</td><td>204</td><td>16</td><td> 5</td><td>20</td><td>11</td><td>19</td><td>13</td><td> 6</td><td>⋯</td><td> 3</td><td>10</td><td>11</td><td> 9</td><td>12</td><td>11</td><td>1</td><td>1</td><td>1</td><td>1</td></tr>\n",
              "\t<tr><th scope=row>2</th><td>1</td><td>25</td><td>395</td><td>53</td><td>23</td><td>38</td><td>33</td><td>23</td><td>20</td><td>13</td><td>⋯</td><td>24</td><td>14</td><td>21</td><td>14</td><td>18</td><td>16</td><td>1</td><td>1</td><td>1</td><td>1</td></tr>\n",
              "\t<tr><th scope=row>3</th><td>2</td><td>18</td><td>401</td><td>58</td><td>21</td><td>52</td><td>29</td><td>34</td><td>20</td><td>17</td><td>⋯</td><td>16</td><td>17</td><td>14</td><td>14</td><td>22</td><td>18</td><td>1</td><td>1</td><td>1</td><td>1</td></tr>\n",
              "\t<tr><th scope=row>4</th><td>3</td><td>23</td><td>405</td><td>55</td><td>30</td><td>44</td><td>33</td><td>33</td><td>25</td><td>14</td><td>⋯</td><td>28</td><td>16</td><td>17</td><td>21</td><td>26</td><td>20</td><td>1</td><td>1</td><td>1</td><td>1</td></tr>\n",
              "\t<tr><th scope=row>5</th><td>4</td><td> 9</td><td>330</td><td>44</td><td>28</td><td>32</td><td>28</td><td>23</td><td>14</td><td>16</td><td>⋯</td><td>27</td><td>20</td><td>20</td><td>13</td><td>17</td><td>13</td><td>1</td><td>1</td><td>1</td><td>1</td></tr>\n",
              "\t<tr><th scope=row>6</th><td>5</td><td>19</td><td>273</td><td>34</td><td>20</td><td>13</td><td>17</td><td> 8</td><td>22</td><td>29</td><td>⋯</td><td>20</td><td>15</td><td>13</td><td>11</td><td>13</td><td> 7</td><td>1</td><td>1</td><td>1</td><td>1</td></tr>\n",
              "</tbody>\n",
              "</table>\n"
            ],
            "text/markdown": "\nA data.frame: 6 × 195\n\n| <!--/--> | Y_train &lt;dbl&gt; | abort &lt;dbl&gt; | sai &lt;dbl&gt; | support &lt;dbl&gt; | bush &lt;dbl&gt; | clinton &lt;dbl&gt; | give &lt;dbl&gt; | hillari &lt;dbl&gt; | john &lt;dbl&gt; | mccain &lt;dbl&gt; | ⋯ ⋯ | per &lt;dbl&gt; | back &lt;dbl&gt; | run &lt;dbl&gt; | big &lt;dbl&gt; | allow &lt;dbl&gt; | white &lt;dbl&gt; | u &lt;dbl&gt; | go &lt;dbl&gt; | us &lt;dbl&gt; | do &lt;dbl&gt; |\n|---|---|---|---|---|---|---|---|---|---|---|---|---|---|---|---|---|---|---|---|---|---|\n| 1 | 0 | 10 | 204 | 16 |  5 | 20 | 11 | 19 | 13 |  6 | ⋯ |  3 | 10 | 11 |  9 | 12 | 11 | 1 | 1 | 1 | 1 |\n| 2 | 1 | 25 | 395 | 53 | 23 | 38 | 33 | 23 | 20 | 13 | ⋯ | 24 | 14 | 21 | 14 | 18 | 16 | 1 | 1 | 1 | 1 |\n| 3 | 2 | 18 | 401 | 58 | 21 | 52 | 29 | 34 | 20 | 17 | ⋯ | 16 | 17 | 14 | 14 | 22 | 18 | 1 | 1 | 1 | 1 |\n| 4 | 3 | 23 | 405 | 55 | 30 | 44 | 33 | 33 | 25 | 14 | ⋯ | 28 | 16 | 17 | 21 | 26 | 20 | 1 | 1 | 1 | 1 |\n| 5 | 4 |  9 | 330 | 44 | 28 | 32 | 28 | 23 | 14 | 16 | ⋯ | 27 | 20 | 20 | 13 | 17 | 13 | 1 | 1 | 1 | 1 |\n| 6 | 5 | 19 | 273 | 34 | 20 | 13 | 17 |  8 | 22 | 29 | ⋯ | 20 | 15 | 13 | 11 | 13 |  7 | 1 | 1 | 1 | 1 |\n\n",
            "text/latex": "A data.frame: 6 × 195\n\\begin{tabular}{r|lllllllllllllllllllll}\n  & Y\\_train & abort & sai & support & bush & clinton & give & hillari & john & mccain & ⋯ & per & back & run & big & allow & white & u & go & us & do\\\\\n  & <dbl> & <dbl> & <dbl> & <dbl> & <dbl> & <dbl> & <dbl> & <dbl> & <dbl> & <dbl> & ⋯ & <dbl> & <dbl> & <dbl> & <dbl> & <dbl> & <dbl> & <dbl> & <dbl> & <dbl> & <dbl>\\\\\n\\hline\n\t1 & 0 & 10 & 204 & 16 &  5 & 20 & 11 & 19 & 13 &  6 & ⋯ &  3 & 10 & 11 &  9 & 12 & 11 & 1 & 1 & 1 & 1\\\\\n\t2 & 1 & 25 & 395 & 53 & 23 & 38 & 33 & 23 & 20 & 13 & ⋯ & 24 & 14 & 21 & 14 & 18 & 16 & 1 & 1 & 1 & 1\\\\\n\t3 & 2 & 18 & 401 & 58 & 21 & 52 & 29 & 34 & 20 & 17 & ⋯ & 16 & 17 & 14 & 14 & 22 & 18 & 1 & 1 & 1 & 1\\\\\n\t4 & 3 & 23 & 405 & 55 & 30 & 44 & 33 & 33 & 25 & 14 & ⋯ & 28 & 16 & 17 & 21 & 26 & 20 & 1 & 1 & 1 & 1\\\\\n\t5 & 4 &  9 & 330 & 44 & 28 & 32 & 28 & 23 & 14 & 16 & ⋯ & 27 & 20 & 20 & 13 & 17 & 13 & 1 & 1 & 1 & 1\\\\\n\t6 & 5 & 19 & 273 & 34 & 20 & 13 & 17 &  8 & 22 & 29 & ⋯ & 20 & 15 & 13 & 11 & 13 &  7 & 1 & 1 & 1 & 1\\\\\n\\end{tabular}\n",
            "text/plain": [
              "  Y_train abort sai support bush clinton give hillari john mccain ⋯ per back\n",
              "1 0       10    204 16       5   20      11   19      13    6     ⋯  3  10  \n",
              "2 1       25    395 53      23   38      33   23      20   13     ⋯ 24  14  \n",
              "3 2       18    401 58      21   52      29   34      20   17     ⋯ 16  17  \n",
              "4 3       23    405 55      30   44      33   33      25   14     ⋯ 28  16  \n",
              "5 4        9    330 44      28   32      28   23      14   16     ⋯ 27  20  \n",
              "6 5       19    273 34      20   13      17    8      22   29     ⋯ 20  15  \n",
              "  run big allow white u go us do\n",
              "1 11   9  12    11    1 1  1  1 \n",
              "2 21  14  18    16    1 1  1  1 \n",
              "3 14  14  22    18    1 1  1  1 \n",
              "4 17  21  26    20    1 1  1  1 \n",
              "5 20  13  17    13    1 1  1  1 \n",
              "6 13  11  13     7    1 1  1  1 "
            ]
          },
          "metadata": {}
        }
      ]
    },
    {
      "cell_type": "code",
      "source": [
        "# PRIOR: add label distribution (probability)\n",
        "cf$prior  <- df_counts$Count / sum(df_counts$Count)\n",
        "head(cf,6)"
      ],
      "metadata": {
        "id": "kbzPknuQKsuU",
        "colab": {
          "base_uri": "https://localhost:8080/",
          "height": 286
        },
        "outputId": "70bbb51e-6209-49cc-8f08-930ceee93038"
      },
      "execution_count": 211,
      "outputs": [
        {
          "output_type": "display_data",
          "data": {
            "text/html": [
              "<table class=\"dataframe\">\n",
              "<caption>A data.frame: 6 × 196</caption>\n",
              "<thead>\n",
              "\t<tr><th></th><th scope=col>Y_train</th><th scope=col>abort</th><th scope=col>sai</th><th scope=col>support</th><th scope=col>bush</th><th scope=col>clinton</th><th scope=col>give</th><th scope=col>hillari</th><th scope=col>john</th><th scope=col>mccain</th><th scope=col>⋯</th><th scope=col>back</th><th scope=col>run</th><th scope=col>big</th><th scope=col>allow</th><th scope=col>white</th><th scope=col>u</th><th scope=col>go</th><th scope=col>us</th><th scope=col>do</th><th scope=col>prior</th></tr>\n",
              "\t<tr><th></th><th scope=col>&lt;dbl&gt;</th><th scope=col>&lt;dbl&gt;</th><th scope=col>&lt;dbl&gt;</th><th scope=col>&lt;dbl&gt;</th><th scope=col>&lt;dbl&gt;</th><th scope=col>&lt;dbl&gt;</th><th scope=col>&lt;dbl&gt;</th><th scope=col>&lt;dbl&gt;</th><th scope=col>&lt;dbl&gt;</th><th scope=col>&lt;dbl&gt;</th><th scope=col>⋯</th><th scope=col>&lt;dbl&gt;</th><th scope=col>&lt;dbl&gt;</th><th scope=col>&lt;dbl&gt;</th><th scope=col>&lt;dbl&gt;</th><th scope=col>&lt;dbl&gt;</th><th scope=col>&lt;dbl&gt;</th><th scope=col>&lt;dbl&gt;</th><th scope=col>&lt;dbl&gt;</th><th scope=col>&lt;dbl&gt;</th><th scope=col>&lt;dbl&gt;</th></tr>\n",
              "</thead>\n",
              "<tbody>\n",
              "\t<tr><th scope=row>1</th><td>0</td><td>10</td><td>204</td><td>16</td><td> 5</td><td>20</td><td>11</td><td>19</td><td>13</td><td> 6</td><td>⋯</td><td>10</td><td>11</td><td> 9</td><td>12</td><td>11</td><td>1</td><td>1</td><td>1</td><td>1</td><td>0.08193359</td></tr>\n",
              "\t<tr><th scope=row>2</th><td>1</td><td>25</td><td>395</td><td>53</td><td>23</td><td>38</td><td>33</td><td>23</td><td>20</td><td>13</td><td>⋯</td><td>14</td><td>21</td><td>14</td><td>18</td><td>16</td><td>1</td><td>1</td><td>1</td><td>1</td><td>0.19482422</td></tr>\n",
              "\t<tr><th scope=row>3</th><td>2</td><td>18</td><td>401</td><td>58</td><td>21</td><td>52</td><td>29</td><td>34</td><td>20</td><td>17</td><td>⋯</td><td>17</td><td>14</td><td>14</td><td>22</td><td>18</td><td>1</td><td>1</td><td>1</td><td>1</td><td>0.16152344</td></tr>\n",
              "\t<tr><th scope=row>4</th><td>3</td><td>23</td><td>405</td><td>55</td><td>30</td><td>44</td><td>33</td><td>33</td><td>25</td><td>14</td><td>⋯</td><td>16</td><td>17</td><td>21</td><td>26</td><td>20</td><td>1</td><td>1</td><td>1</td><td>1</td><td>0.20644531</td></tr>\n",
              "\t<tr><th scope=row>5</th><td>4</td><td> 9</td><td>330</td><td>44</td><td>28</td><td>32</td><td>28</td><td>23</td><td>14</td><td>16</td><td>⋯</td><td>20</td><td>20</td><td>13</td><td>17</td><td>13</td><td>1</td><td>1</td><td>1</td><td>1</td><td>0.19160156</td></tr>\n",
              "\t<tr><th scope=row>6</th><td>5</td><td>19</td><td>273</td><td>34</td><td>20</td><td>13</td><td>17</td><td> 8</td><td>22</td><td>29</td><td>⋯</td><td>15</td><td>13</td><td>11</td><td>13</td><td> 7</td><td>1</td><td>1</td><td>1</td><td>1</td><td>0.16367187</td></tr>\n",
              "</tbody>\n",
              "</table>\n"
            ],
            "text/markdown": "\nA data.frame: 6 × 196\n\n| <!--/--> | Y_train &lt;dbl&gt; | abort &lt;dbl&gt; | sai &lt;dbl&gt; | support &lt;dbl&gt; | bush &lt;dbl&gt; | clinton &lt;dbl&gt; | give &lt;dbl&gt; | hillari &lt;dbl&gt; | john &lt;dbl&gt; | mccain &lt;dbl&gt; | ⋯ ⋯ | back &lt;dbl&gt; | run &lt;dbl&gt; | big &lt;dbl&gt; | allow &lt;dbl&gt; | white &lt;dbl&gt; | u &lt;dbl&gt; | go &lt;dbl&gt; | us &lt;dbl&gt; | do &lt;dbl&gt; | prior &lt;dbl&gt; |\n|---|---|---|---|---|---|---|---|---|---|---|---|---|---|---|---|---|---|---|---|---|---|\n| 1 | 0 | 10 | 204 | 16 |  5 | 20 | 11 | 19 | 13 |  6 | ⋯ | 10 | 11 |  9 | 12 | 11 | 1 | 1 | 1 | 1 | 0.08193359 |\n| 2 | 1 | 25 | 395 | 53 | 23 | 38 | 33 | 23 | 20 | 13 | ⋯ | 14 | 21 | 14 | 18 | 16 | 1 | 1 | 1 | 1 | 0.19482422 |\n| 3 | 2 | 18 | 401 | 58 | 21 | 52 | 29 | 34 | 20 | 17 | ⋯ | 17 | 14 | 14 | 22 | 18 | 1 | 1 | 1 | 1 | 0.16152344 |\n| 4 | 3 | 23 | 405 | 55 | 30 | 44 | 33 | 33 | 25 | 14 | ⋯ | 16 | 17 | 21 | 26 | 20 | 1 | 1 | 1 | 1 | 0.20644531 |\n| 5 | 4 |  9 | 330 | 44 | 28 | 32 | 28 | 23 | 14 | 16 | ⋯ | 20 | 20 | 13 | 17 | 13 | 1 | 1 | 1 | 1 | 0.19160156 |\n| 6 | 5 | 19 | 273 | 34 | 20 | 13 | 17 |  8 | 22 | 29 | ⋯ | 15 | 13 | 11 | 13 |  7 | 1 | 1 | 1 | 1 | 0.16367187 |\n\n",
            "text/latex": "A data.frame: 6 × 196\n\\begin{tabular}{r|lllllllllllllllllllll}\n  & Y\\_train & abort & sai & support & bush & clinton & give & hillari & john & mccain & ⋯ & back & run & big & allow & white & u & go & us & do & prior\\\\\n  & <dbl> & <dbl> & <dbl> & <dbl> & <dbl> & <dbl> & <dbl> & <dbl> & <dbl> & <dbl> & ⋯ & <dbl> & <dbl> & <dbl> & <dbl> & <dbl> & <dbl> & <dbl> & <dbl> & <dbl> & <dbl>\\\\\n\\hline\n\t1 & 0 & 10 & 204 & 16 &  5 & 20 & 11 & 19 & 13 &  6 & ⋯ & 10 & 11 &  9 & 12 & 11 & 1 & 1 & 1 & 1 & 0.08193359\\\\\n\t2 & 1 & 25 & 395 & 53 & 23 & 38 & 33 & 23 & 20 & 13 & ⋯ & 14 & 21 & 14 & 18 & 16 & 1 & 1 & 1 & 1 & 0.19482422\\\\\n\t3 & 2 & 18 & 401 & 58 & 21 & 52 & 29 & 34 & 20 & 17 & ⋯ & 17 & 14 & 14 & 22 & 18 & 1 & 1 & 1 & 1 & 0.16152344\\\\\n\t4 & 3 & 23 & 405 & 55 & 30 & 44 & 33 & 33 & 25 & 14 & ⋯ & 16 & 17 & 21 & 26 & 20 & 1 & 1 & 1 & 1 & 0.20644531\\\\\n\t5 & 4 &  9 & 330 & 44 & 28 & 32 & 28 & 23 & 14 & 16 & ⋯ & 20 & 20 & 13 & 17 & 13 & 1 & 1 & 1 & 1 & 0.19160156\\\\\n\t6 & 5 & 19 & 273 & 34 & 20 & 13 & 17 &  8 & 22 & 29 & ⋯ & 15 & 13 & 11 & 13 &  7 & 1 & 1 & 1 & 1 & 0.16367187\\\\\n\\end{tabular}\n",
            "text/plain": [
              "  Y_train abort sai support bush clinton give hillari john mccain ⋯ back run\n",
              "1 0       10    204 16       5   20      11   19      13    6     ⋯ 10   11 \n",
              "2 1       25    395 53      23   38      33   23      20   13     ⋯ 14   21 \n",
              "3 2       18    401 58      21   52      29   34      20   17     ⋯ 17   14 \n",
              "4 3       23    405 55      30   44      33   33      25   14     ⋯ 16   17 \n",
              "5 4        9    330 44      28   32      28   23      14   16     ⋯ 20   20 \n",
              "6 5       19    273 34      20   13      17    8      22   29     ⋯ 15   13 \n",
              "  big allow white u go us do prior     \n",
              "1  9  12    11    1 1  1  1  0.08193359\n",
              "2 14  18    16    1 1  1  1  0.19482422\n",
              "3 14  22    18    1 1  1  1  0.16152344\n",
              "4 21  26    20    1 1  1  1  0.20644531\n",
              "5 13  17    13    1 1  1  1  0.19160156\n",
              "6 11  13     7    1 1  1  1  0.16367187"
            ]
          },
          "metadata": {}
        }
      ]
    },
    {
      "cell_type": "code",
      "source": [
        "# CONDITIONAL PROB: sum of all occurences\n",
        "cf[, -c(1, ncol(cf))] <- cf[, -c(1, ncol(cf))] / rowSums(cf[, -c(1, ncol(cf))])\n",
        "# excep Y_train and prior (1st and last column)\n",
        "head(cf,6)"
      ],
      "metadata": {
        "colab": {
          "base_uri": "https://localhost:8080/",
          "height": 306
        },
        "id": "QGh59eHrYp2y",
        "outputId": "c68a3600-0462-400d-c5dd-a1a616ae4e43"
      },
      "execution_count": 212,
      "outputs": [
        {
          "output_type": "display_data",
          "data": {
            "text/html": [
              "<table class=\"dataframe\">\n",
              "<caption>A data.frame: 6 × 196</caption>\n",
              "<thead>\n",
              "\t<tr><th></th><th scope=col>Y_train</th><th scope=col>abort</th><th scope=col>sai</th><th scope=col>support</th><th scope=col>bush</th><th scope=col>clinton</th><th scope=col>give</th><th scope=col>hillari</th><th scope=col>john</th><th scope=col>mccain</th><th scope=col>⋯</th><th scope=col>back</th><th scope=col>run</th><th scope=col>big</th><th scope=col>allow</th><th scope=col>white</th><th scope=col>u</th><th scope=col>go</th><th scope=col>us</th><th scope=col>do</th><th scope=col>prior</th></tr>\n",
              "\t<tr><th></th><th scope=col>&lt;dbl&gt;</th><th scope=col>&lt;dbl&gt;</th><th scope=col>&lt;dbl&gt;</th><th scope=col>&lt;dbl&gt;</th><th scope=col>&lt;dbl&gt;</th><th scope=col>&lt;dbl&gt;</th><th scope=col>&lt;dbl&gt;</th><th scope=col>&lt;dbl&gt;</th><th scope=col>&lt;dbl&gt;</th><th scope=col>&lt;dbl&gt;</th><th scope=col>⋯</th><th scope=col>&lt;dbl&gt;</th><th scope=col>&lt;dbl&gt;</th><th scope=col>&lt;dbl&gt;</th><th scope=col>&lt;dbl&gt;</th><th scope=col>&lt;dbl&gt;</th><th scope=col>&lt;dbl&gt;</th><th scope=col>&lt;dbl&gt;</th><th scope=col>&lt;dbl&gt;</th><th scope=col>&lt;dbl&gt;</th><th scope=col>&lt;dbl&gt;</th></tr>\n",
              "</thead>\n",
              "<tbody>\n",
              "\t<tr><th scope=row>1</th><td>0</td><td>0.003742515</td><td>0.07634731</td><td>0.005988024</td><td>0.001871257</td><td>0.007485030</td><td>0.004116766</td><td>0.007110778</td><td>0.004865269</td><td>0.002245509</td><td>⋯</td><td>0.003742515</td><td>0.004116766</td><td>0.003368263</td><td>0.004491018</td><td>0.004116766</td><td>0.0003742515</td><td>0.0003742515</td><td>0.0003742515</td><td>0.0003742515</td><td>0.08193359</td></tr>\n",
              "\t<tr><th scope=row>2</th><td>1</td><td>0.003917267</td><td>0.06189282</td><td>0.008304607</td><td>0.003603886</td><td>0.005954246</td><td>0.005170793</td><td>0.003603886</td><td>0.003133814</td><td>0.002036979</td><td>⋯</td><td>0.002193670</td><td>0.003290505</td><td>0.002193670</td><td>0.002820432</td><td>0.002507051</td><td>0.0001566907</td><td>0.0001566907</td><td>0.0001566907</td><td>0.0001566907</td><td>0.19482422</td></tr>\n",
              "\t<tr><th scope=row>3</th><td>2</td><td>0.003074821</td><td>0.06850017</td><td>0.009907755</td><td>0.003587291</td><td>0.008882815</td><td>0.004953878</td><td>0.005807995</td><td>0.003416467</td><td>0.002903997</td><td>⋯</td><td>0.002903997</td><td>0.002391527</td><td>0.002391527</td><td>0.003758114</td><td>0.003074821</td><td>0.0001708234</td><td>0.0001708234</td><td>0.0001708234</td><td>0.0001708234</td><td>0.16152344</td></tr>\n",
              "\t<tr><th scope=row>4</th><td>3</td><td>0.003016393</td><td>0.05311475</td><td>0.007213115</td><td>0.003934426</td><td>0.005770492</td><td>0.004327869</td><td>0.004327869</td><td>0.003278689</td><td>0.001836066</td><td>⋯</td><td>0.002098361</td><td>0.002229508</td><td>0.002754098</td><td>0.003409836</td><td>0.002622951</td><td>0.0001311475</td><td>0.0001311475</td><td>0.0001311475</td><td>0.0001311475</td><td>0.20644531</td></tr>\n",
              "\t<tr><th scope=row>5</th><td>4</td><td>0.001296270</td><td>0.04752989</td><td>0.006337318</td><td>0.004032839</td><td>0.004608959</td><td>0.004032839</td><td>0.003312689</td><td>0.002016419</td><td>0.002304479</td><td>⋯</td><td>0.002880599</td><td>0.002880599</td><td>0.001872389</td><td>0.002448509</td><td>0.001872389</td><td>0.0001440300</td><td>0.0001440300</td><td>0.0001440300</td><td>0.0001440300</td><td>0.19160156</td></tr>\n",
              "\t<tr><th scope=row>6</th><td>5</td><td>0.003401970</td><td>0.04888093</td><td>0.006087735</td><td>0.003581021</td><td>0.002327663</td><td>0.003043868</td><td>0.001432408</td><td>0.003939123</td><td>0.005192480</td><td>⋯</td><td>0.002685765</td><td>0.002327663</td><td>0.001969561</td><td>0.002327663</td><td>0.001253357</td><td>0.0001790510</td><td>0.0001790510</td><td>0.0001790510</td><td>0.0001790510</td><td>0.16367187</td></tr>\n",
              "</tbody>\n",
              "</table>\n"
            ],
            "text/markdown": "\nA data.frame: 6 × 196\n\n| <!--/--> | Y_train &lt;dbl&gt; | abort &lt;dbl&gt; | sai &lt;dbl&gt; | support &lt;dbl&gt; | bush &lt;dbl&gt; | clinton &lt;dbl&gt; | give &lt;dbl&gt; | hillari &lt;dbl&gt; | john &lt;dbl&gt; | mccain &lt;dbl&gt; | ⋯ ⋯ | back &lt;dbl&gt; | run &lt;dbl&gt; | big &lt;dbl&gt; | allow &lt;dbl&gt; | white &lt;dbl&gt; | u &lt;dbl&gt; | go &lt;dbl&gt; | us &lt;dbl&gt; | do &lt;dbl&gt; | prior &lt;dbl&gt; |\n|---|---|---|---|---|---|---|---|---|---|---|---|---|---|---|---|---|---|---|---|---|---|\n| 1 | 0 | 0.003742515 | 0.07634731 | 0.005988024 | 0.001871257 | 0.007485030 | 0.004116766 | 0.007110778 | 0.004865269 | 0.002245509 | ⋯ | 0.003742515 | 0.004116766 | 0.003368263 | 0.004491018 | 0.004116766 | 0.0003742515 | 0.0003742515 | 0.0003742515 | 0.0003742515 | 0.08193359 |\n| 2 | 1 | 0.003917267 | 0.06189282 | 0.008304607 | 0.003603886 | 0.005954246 | 0.005170793 | 0.003603886 | 0.003133814 | 0.002036979 | ⋯ | 0.002193670 | 0.003290505 | 0.002193670 | 0.002820432 | 0.002507051 | 0.0001566907 | 0.0001566907 | 0.0001566907 | 0.0001566907 | 0.19482422 |\n| 3 | 2 | 0.003074821 | 0.06850017 | 0.009907755 | 0.003587291 | 0.008882815 | 0.004953878 | 0.005807995 | 0.003416467 | 0.002903997 | ⋯ | 0.002903997 | 0.002391527 | 0.002391527 | 0.003758114 | 0.003074821 | 0.0001708234 | 0.0001708234 | 0.0001708234 | 0.0001708234 | 0.16152344 |\n| 4 | 3 | 0.003016393 | 0.05311475 | 0.007213115 | 0.003934426 | 0.005770492 | 0.004327869 | 0.004327869 | 0.003278689 | 0.001836066 | ⋯ | 0.002098361 | 0.002229508 | 0.002754098 | 0.003409836 | 0.002622951 | 0.0001311475 | 0.0001311475 | 0.0001311475 | 0.0001311475 | 0.20644531 |\n| 5 | 4 | 0.001296270 | 0.04752989 | 0.006337318 | 0.004032839 | 0.004608959 | 0.004032839 | 0.003312689 | 0.002016419 | 0.002304479 | ⋯ | 0.002880599 | 0.002880599 | 0.001872389 | 0.002448509 | 0.001872389 | 0.0001440300 | 0.0001440300 | 0.0001440300 | 0.0001440300 | 0.19160156 |\n| 6 | 5 | 0.003401970 | 0.04888093 | 0.006087735 | 0.003581021 | 0.002327663 | 0.003043868 | 0.001432408 | 0.003939123 | 0.005192480 | ⋯ | 0.002685765 | 0.002327663 | 0.001969561 | 0.002327663 | 0.001253357 | 0.0001790510 | 0.0001790510 | 0.0001790510 | 0.0001790510 | 0.16367187 |\n\n",
            "text/latex": "A data.frame: 6 × 196\n\\begin{tabular}{r|lllllllllllllllllllll}\n  & Y\\_train & abort & sai & support & bush & clinton & give & hillari & john & mccain & ⋯ & back & run & big & allow & white & u & go & us & do & prior\\\\\n  & <dbl> & <dbl> & <dbl> & <dbl> & <dbl> & <dbl> & <dbl> & <dbl> & <dbl> & <dbl> & ⋯ & <dbl> & <dbl> & <dbl> & <dbl> & <dbl> & <dbl> & <dbl> & <dbl> & <dbl> & <dbl>\\\\\n\\hline\n\t1 & 0 & 0.003742515 & 0.07634731 & 0.005988024 & 0.001871257 & 0.007485030 & 0.004116766 & 0.007110778 & 0.004865269 & 0.002245509 & ⋯ & 0.003742515 & 0.004116766 & 0.003368263 & 0.004491018 & 0.004116766 & 0.0003742515 & 0.0003742515 & 0.0003742515 & 0.0003742515 & 0.08193359\\\\\n\t2 & 1 & 0.003917267 & 0.06189282 & 0.008304607 & 0.003603886 & 0.005954246 & 0.005170793 & 0.003603886 & 0.003133814 & 0.002036979 & ⋯ & 0.002193670 & 0.003290505 & 0.002193670 & 0.002820432 & 0.002507051 & 0.0001566907 & 0.0001566907 & 0.0001566907 & 0.0001566907 & 0.19482422\\\\\n\t3 & 2 & 0.003074821 & 0.06850017 & 0.009907755 & 0.003587291 & 0.008882815 & 0.004953878 & 0.005807995 & 0.003416467 & 0.002903997 & ⋯ & 0.002903997 & 0.002391527 & 0.002391527 & 0.003758114 & 0.003074821 & 0.0001708234 & 0.0001708234 & 0.0001708234 & 0.0001708234 & 0.16152344\\\\\n\t4 & 3 & 0.003016393 & 0.05311475 & 0.007213115 & 0.003934426 & 0.005770492 & 0.004327869 & 0.004327869 & 0.003278689 & 0.001836066 & ⋯ & 0.002098361 & 0.002229508 & 0.002754098 & 0.003409836 & 0.002622951 & 0.0001311475 & 0.0001311475 & 0.0001311475 & 0.0001311475 & 0.20644531\\\\\n\t5 & 4 & 0.001296270 & 0.04752989 & 0.006337318 & 0.004032839 & 0.004608959 & 0.004032839 & 0.003312689 & 0.002016419 & 0.002304479 & ⋯ & 0.002880599 & 0.002880599 & 0.001872389 & 0.002448509 & 0.001872389 & 0.0001440300 & 0.0001440300 & 0.0001440300 & 0.0001440300 & 0.19160156\\\\\n\t6 & 5 & 0.003401970 & 0.04888093 & 0.006087735 & 0.003581021 & 0.002327663 & 0.003043868 & 0.001432408 & 0.003939123 & 0.005192480 & ⋯ & 0.002685765 & 0.002327663 & 0.001969561 & 0.002327663 & 0.001253357 & 0.0001790510 & 0.0001790510 & 0.0001790510 & 0.0001790510 & 0.16367187\\\\\n\\end{tabular}\n",
            "text/plain": [
              "  Y_train abort       sai        support     bush        clinton    \n",
              "1 0       0.003742515 0.07634731 0.005988024 0.001871257 0.007485030\n",
              "2 1       0.003917267 0.06189282 0.008304607 0.003603886 0.005954246\n",
              "3 2       0.003074821 0.06850017 0.009907755 0.003587291 0.008882815\n",
              "4 3       0.003016393 0.05311475 0.007213115 0.003934426 0.005770492\n",
              "5 4       0.001296270 0.04752989 0.006337318 0.004032839 0.004608959\n",
              "6 5       0.003401970 0.04888093 0.006087735 0.003581021 0.002327663\n",
              "  give        hillari     john        mccain      ⋯ back        run        \n",
              "1 0.004116766 0.007110778 0.004865269 0.002245509 ⋯ 0.003742515 0.004116766\n",
              "2 0.005170793 0.003603886 0.003133814 0.002036979 ⋯ 0.002193670 0.003290505\n",
              "3 0.004953878 0.005807995 0.003416467 0.002903997 ⋯ 0.002903997 0.002391527\n",
              "4 0.004327869 0.004327869 0.003278689 0.001836066 ⋯ 0.002098361 0.002229508\n",
              "5 0.004032839 0.003312689 0.002016419 0.002304479 ⋯ 0.002880599 0.002880599\n",
              "6 0.003043868 0.001432408 0.003939123 0.005192480 ⋯ 0.002685765 0.002327663\n",
              "  big         allow       white       u            go           us          \n",
              "1 0.003368263 0.004491018 0.004116766 0.0003742515 0.0003742515 0.0003742515\n",
              "2 0.002193670 0.002820432 0.002507051 0.0001566907 0.0001566907 0.0001566907\n",
              "3 0.002391527 0.003758114 0.003074821 0.0001708234 0.0001708234 0.0001708234\n",
              "4 0.002754098 0.003409836 0.002622951 0.0001311475 0.0001311475 0.0001311475\n",
              "5 0.001872389 0.002448509 0.001872389 0.0001440300 0.0001440300 0.0001440300\n",
              "6 0.001969561 0.002327663 0.001253357 0.0001790510 0.0001790510 0.0001790510\n",
              "  do           prior     \n",
              "1 0.0003742515 0.08193359\n",
              "2 0.0001566907 0.19482422\n",
              "3 0.0001708234 0.16152344\n",
              "4 0.0001311475 0.20644531\n",
              "5 0.0001440300 0.19160156\n",
              "6 0.0001790510 0.16367187"
            ]
          },
          "metadata": {}
        }
      ]
    },
    {
      "cell_type": "code",
      "source": [
        "# Extract prio and label\n",
        "prior <- cf$prior\n",
        "label <- cf$Y_train\n",
        "cf$Y_train <- NULL\n",
        "cf$prior <- NULL"
      ],
      "metadata": {
        "id": "u3EC-uNsu8R8"
      },
      "execution_count": 213,
      "outputs": []
    },
    {
      "cell_type": "code",
      "source": [
        "head(cf,6)"
      ],
      "metadata": {
        "colab": {
          "base_uri": "https://localhost:8080/",
          "height": 306
        },
        "id": "gdTbowynw8-R",
        "outputId": "0934265c-ba9d-42ec-9968-d52d16682762"
      },
      "execution_count": 214,
      "outputs": [
        {
          "output_type": "display_data",
          "data": {
            "text/html": [
              "<table class=\"dataframe\">\n",
              "<caption>A data.frame: 6 × 194</caption>\n",
              "<thead>\n",
              "\t<tr><th></th><th scope=col>abort</th><th scope=col>sai</th><th scope=col>support</th><th scope=col>bush</th><th scope=col>clinton</th><th scope=col>give</th><th scope=col>hillari</th><th scope=col>john</th><th scope=col>mccain</th><th scope=col>vote</th><th scope=col>⋯</th><th scope=col>per</th><th scope=col>back</th><th scope=col>run</th><th scope=col>big</th><th scope=col>allow</th><th scope=col>white</th><th scope=col>u</th><th scope=col>go</th><th scope=col>us</th><th scope=col>do</th></tr>\n",
              "\t<tr><th></th><th scope=col>&lt;dbl&gt;</th><th scope=col>&lt;dbl&gt;</th><th scope=col>&lt;dbl&gt;</th><th scope=col>&lt;dbl&gt;</th><th scope=col>&lt;dbl&gt;</th><th scope=col>&lt;dbl&gt;</th><th scope=col>&lt;dbl&gt;</th><th scope=col>&lt;dbl&gt;</th><th scope=col>&lt;dbl&gt;</th><th scope=col>&lt;dbl&gt;</th><th scope=col>⋯</th><th scope=col>&lt;dbl&gt;</th><th scope=col>&lt;dbl&gt;</th><th scope=col>&lt;dbl&gt;</th><th scope=col>&lt;dbl&gt;</th><th scope=col>&lt;dbl&gt;</th><th scope=col>&lt;dbl&gt;</th><th scope=col>&lt;dbl&gt;</th><th scope=col>&lt;dbl&gt;</th><th scope=col>&lt;dbl&gt;</th><th scope=col>&lt;dbl&gt;</th></tr>\n",
              "</thead>\n",
              "<tbody>\n",
              "\t<tr><th scope=row>1</th><td>0.003742515</td><td>0.07634731</td><td>0.005988024</td><td>0.001871257</td><td>0.007485030</td><td>0.004116766</td><td>0.007110778</td><td>0.004865269</td><td>0.002245509</td><td>0.012350299</td><td>⋯</td><td>0.001122754</td><td>0.003742515</td><td>0.004116766</td><td>0.003368263</td><td>0.004491018</td><td>0.004116766</td><td>0.0003742515</td><td>0.0003742515</td><td>0.0003742515</td><td>0.0003742515</td></tr>\n",
              "\t<tr><th scope=row>2</th><td>0.003917267</td><td>0.06189282</td><td>0.008304607</td><td>0.003603886</td><td>0.005954246</td><td>0.005170793</td><td>0.003603886</td><td>0.003133814</td><td>0.002036979</td><td>0.014728925</td><td>⋯</td><td>0.003760577</td><td>0.002193670</td><td>0.003290505</td><td>0.002193670</td><td>0.002820432</td><td>0.002507051</td><td>0.0001566907</td><td>0.0001566907</td><td>0.0001566907</td><td>0.0001566907</td></tr>\n",
              "\t<tr><th scope=row>3</th><td>0.003074821</td><td>0.06850017</td><td>0.009907755</td><td>0.003587291</td><td>0.008882815</td><td>0.004953878</td><td>0.005807995</td><td>0.003416467</td><td>0.002903997</td><td>0.019303041</td><td>⋯</td><td>0.002733174</td><td>0.002903997</td><td>0.002391527</td><td>0.002391527</td><td>0.003758114</td><td>0.003074821</td><td>0.0001708234</td><td>0.0001708234</td><td>0.0001708234</td><td>0.0001708234</td></tr>\n",
              "\t<tr><th scope=row>4</th><td>0.003016393</td><td>0.05311475</td><td>0.007213115</td><td>0.003934426</td><td>0.005770492</td><td>0.004327869</td><td>0.004327869</td><td>0.003278689</td><td>0.001836066</td><td>0.009311475</td><td>⋯</td><td>0.003672131</td><td>0.002098361</td><td>0.002229508</td><td>0.002754098</td><td>0.003409836</td><td>0.002622951</td><td>0.0001311475</td><td>0.0001311475</td><td>0.0001311475</td><td>0.0001311475</td></tr>\n",
              "\t<tr><th scope=row>5</th><td>0.001296270</td><td>0.04752989</td><td>0.006337318</td><td>0.004032839</td><td>0.004608959</td><td>0.004032839</td><td>0.003312689</td><td>0.002016419</td><td>0.002304479</td><td>0.012530606</td><td>⋯</td><td>0.003888809</td><td>0.002880599</td><td>0.002880599</td><td>0.001872389</td><td>0.002448509</td><td>0.001872389</td><td>0.0001440300</td><td>0.0001440300</td><td>0.0001440300</td><td>0.0001440300</td></tr>\n",
              "\t<tr><th scope=row>6</th><td>0.003401970</td><td>0.04888093</td><td>0.006087735</td><td>0.003581021</td><td>0.002327663</td><td>0.003043868</td><td>0.001432408</td><td>0.003939123</td><td>0.005192480</td><td>0.013786929</td><td>⋯</td><td>0.003581021</td><td>0.002685765</td><td>0.002327663</td><td>0.001969561</td><td>0.002327663</td><td>0.001253357</td><td>0.0001790510</td><td>0.0001790510</td><td>0.0001790510</td><td>0.0001790510</td></tr>\n",
              "</tbody>\n",
              "</table>\n"
            ],
            "text/markdown": "\nA data.frame: 6 × 194\n\n| <!--/--> | abort &lt;dbl&gt; | sai &lt;dbl&gt; | support &lt;dbl&gt; | bush &lt;dbl&gt; | clinton &lt;dbl&gt; | give &lt;dbl&gt; | hillari &lt;dbl&gt; | john &lt;dbl&gt; | mccain &lt;dbl&gt; | vote &lt;dbl&gt; | ⋯ ⋯ | per &lt;dbl&gt; | back &lt;dbl&gt; | run &lt;dbl&gt; | big &lt;dbl&gt; | allow &lt;dbl&gt; | white &lt;dbl&gt; | u &lt;dbl&gt; | go &lt;dbl&gt; | us &lt;dbl&gt; | do &lt;dbl&gt; |\n|---|---|---|---|---|---|---|---|---|---|---|---|---|---|---|---|---|---|---|---|---|---|\n| 1 | 0.003742515 | 0.07634731 | 0.005988024 | 0.001871257 | 0.007485030 | 0.004116766 | 0.007110778 | 0.004865269 | 0.002245509 | 0.012350299 | ⋯ | 0.001122754 | 0.003742515 | 0.004116766 | 0.003368263 | 0.004491018 | 0.004116766 | 0.0003742515 | 0.0003742515 | 0.0003742515 | 0.0003742515 |\n| 2 | 0.003917267 | 0.06189282 | 0.008304607 | 0.003603886 | 0.005954246 | 0.005170793 | 0.003603886 | 0.003133814 | 0.002036979 | 0.014728925 | ⋯ | 0.003760577 | 0.002193670 | 0.003290505 | 0.002193670 | 0.002820432 | 0.002507051 | 0.0001566907 | 0.0001566907 | 0.0001566907 | 0.0001566907 |\n| 3 | 0.003074821 | 0.06850017 | 0.009907755 | 0.003587291 | 0.008882815 | 0.004953878 | 0.005807995 | 0.003416467 | 0.002903997 | 0.019303041 | ⋯ | 0.002733174 | 0.002903997 | 0.002391527 | 0.002391527 | 0.003758114 | 0.003074821 | 0.0001708234 | 0.0001708234 | 0.0001708234 | 0.0001708234 |\n| 4 | 0.003016393 | 0.05311475 | 0.007213115 | 0.003934426 | 0.005770492 | 0.004327869 | 0.004327869 | 0.003278689 | 0.001836066 | 0.009311475 | ⋯ | 0.003672131 | 0.002098361 | 0.002229508 | 0.002754098 | 0.003409836 | 0.002622951 | 0.0001311475 | 0.0001311475 | 0.0001311475 | 0.0001311475 |\n| 5 | 0.001296270 | 0.04752989 | 0.006337318 | 0.004032839 | 0.004608959 | 0.004032839 | 0.003312689 | 0.002016419 | 0.002304479 | 0.012530606 | ⋯ | 0.003888809 | 0.002880599 | 0.002880599 | 0.001872389 | 0.002448509 | 0.001872389 | 0.0001440300 | 0.0001440300 | 0.0001440300 | 0.0001440300 |\n| 6 | 0.003401970 | 0.04888093 | 0.006087735 | 0.003581021 | 0.002327663 | 0.003043868 | 0.001432408 | 0.003939123 | 0.005192480 | 0.013786929 | ⋯ | 0.003581021 | 0.002685765 | 0.002327663 | 0.001969561 | 0.002327663 | 0.001253357 | 0.0001790510 | 0.0001790510 | 0.0001790510 | 0.0001790510 |\n\n",
            "text/latex": "A data.frame: 6 × 194\n\\begin{tabular}{r|lllllllllllllllllllll}\n  & abort & sai & support & bush & clinton & give & hillari & john & mccain & vote & ⋯ & per & back & run & big & allow & white & u & go & us & do\\\\\n  & <dbl> & <dbl> & <dbl> & <dbl> & <dbl> & <dbl> & <dbl> & <dbl> & <dbl> & <dbl> & ⋯ & <dbl> & <dbl> & <dbl> & <dbl> & <dbl> & <dbl> & <dbl> & <dbl> & <dbl> & <dbl>\\\\\n\\hline\n\t1 & 0.003742515 & 0.07634731 & 0.005988024 & 0.001871257 & 0.007485030 & 0.004116766 & 0.007110778 & 0.004865269 & 0.002245509 & 0.012350299 & ⋯ & 0.001122754 & 0.003742515 & 0.004116766 & 0.003368263 & 0.004491018 & 0.004116766 & 0.0003742515 & 0.0003742515 & 0.0003742515 & 0.0003742515\\\\\n\t2 & 0.003917267 & 0.06189282 & 0.008304607 & 0.003603886 & 0.005954246 & 0.005170793 & 0.003603886 & 0.003133814 & 0.002036979 & 0.014728925 & ⋯ & 0.003760577 & 0.002193670 & 0.003290505 & 0.002193670 & 0.002820432 & 0.002507051 & 0.0001566907 & 0.0001566907 & 0.0001566907 & 0.0001566907\\\\\n\t3 & 0.003074821 & 0.06850017 & 0.009907755 & 0.003587291 & 0.008882815 & 0.004953878 & 0.005807995 & 0.003416467 & 0.002903997 & 0.019303041 & ⋯ & 0.002733174 & 0.002903997 & 0.002391527 & 0.002391527 & 0.003758114 & 0.003074821 & 0.0001708234 & 0.0001708234 & 0.0001708234 & 0.0001708234\\\\\n\t4 & 0.003016393 & 0.05311475 & 0.007213115 & 0.003934426 & 0.005770492 & 0.004327869 & 0.004327869 & 0.003278689 & 0.001836066 & 0.009311475 & ⋯ & 0.003672131 & 0.002098361 & 0.002229508 & 0.002754098 & 0.003409836 & 0.002622951 & 0.0001311475 & 0.0001311475 & 0.0001311475 & 0.0001311475\\\\\n\t5 & 0.001296270 & 0.04752989 & 0.006337318 & 0.004032839 & 0.004608959 & 0.004032839 & 0.003312689 & 0.002016419 & 0.002304479 & 0.012530606 & ⋯ & 0.003888809 & 0.002880599 & 0.002880599 & 0.001872389 & 0.002448509 & 0.001872389 & 0.0001440300 & 0.0001440300 & 0.0001440300 & 0.0001440300\\\\\n\t6 & 0.003401970 & 0.04888093 & 0.006087735 & 0.003581021 & 0.002327663 & 0.003043868 & 0.001432408 & 0.003939123 & 0.005192480 & 0.013786929 & ⋯ & 0.003581021 & 0.002685765 & 0.002327663 & 0.001969561 & 0.002327663 & 0.001253357 & 0.0001790510 & 0.0001790510 & 0.0001790510 & 0.0001790510\\\\\n\\end{tabular}\n",
            "text/plain": [
              "  abort       sai        support     bush        clinton     give       \n",
              "1 0.003742515 0.07634731 0.005988024 0.001871257 0.007485030 0.004116766\n",
              "2 0.003917267 0.06189282 0.008304607 0.003603886 0.005954246 0.005170793\n",
              "3 0.003074821 0.06850017 0.009907755 0.003587291 0.008882815 0.004953878\n",
              "4 0.003016393 0.05311475 0.007213115 0.003934426 0.005770492 0.004327869\n",
              "5 0.001296270 0.04752989 0.006337318 0.004032839 0.004608959 0.004032839\n",
              "6 0.003401970 0.04888093 0.006087735 0.003581021 0.002327663 0.003043868\n",
              "  hillari     john        mccain      vote        ⋯ per         back       \n",
              "1 0.007110778 0.004865269 0.002245509 0.012350299 ⋯ 0.001122754 0.003742515\n",
              "2 0.003603886 0.003133814 0.002036979 0.014728925 ⋯ 0.003760577 0.002193670\n",
              "3 0.005807995 0.003416467 0.002903997 0.019303041 ⋯ 0.002733174 0.002903997\n",
              "4 0.004327869 0.003278689 0.001836066 0.009311475 ⋯ 0.003672131 0.002098361\n",
              "5 0.003312689 0.002016419 0.002304479 0.012530606 ⋯ 0.003888809 0.002880599\n",
              "6 0.001432408 0.003939123 0.005192480 0.013786929 ⋯ 0.003581021 0.002685765\n",
              "  run         big         allow       white       u            go          \n",
              "1 0.004116766 0.003368263 0.004491018 0.004116766 0.0003742515 0.0003742515\n",
              "2 0.003290505 0.002193670 0.002820432 0.002507051 0.0001566907 0.0001566907\n",
              "3 0.002391527 0.002391527 0.003758114 0.003074821 0.0001708234 0.0001708234\n",
              "4 0.002229508 0.002754098 0.003409836 0.002622951 0.0001311475 0.0001311475\n",
              "5 0.002880599 0.001872389 0.002448509 0.001872389 0.0001440300 0.0001440300\n",
              "6 0.002327663 0.001969561 0.002327663 0.001253357 0.0001790510 0.0001790510\n",
              "  us           do          \n",
              "1 0.0003742515 0.0003742515\n",
              "2 0.0001566907 0.0001566907\n",
              "3 0.0001708234 0.0001708234\n",
              "4 0.0001311475 0.0001311475\n",
              "5 0.0001440300 0.0001440300\n",
              "6 0.0001790510 0.0001790510"
            ]
          },
          "metadata": {}
        }
      ]
    },
    {
      "cell_type": "markdown",
      "source": [
        "### **Predictor**"
      ],
      "metadata": {
        "id": "NDb6sfE_R-Ls"
      }
    },
    {
      "cell_type": "code",
      "source": [
        "# TEST\n",
        "random_index <- sample(nrow(X_test), 1)\n",
        "random_datapoint <- X_test[random_index, ]"
      ],
      "metadata": {
        "id": "5g52QL7XzeBR"
      },
      "execution_count": 215,
      "outputs": []
    },
    {
      "cell_type": "code",
      "source": [
        "\n",
        "# Remove the label column from cf\n",
        "cf_without_label <- cf[, -1]\n",
        "\n",
        "# Calculate the likelihood\n",
        "ll <- sweep(cf_without_label, 2, unlist(random_datapoint), \"*\")\n",
        "\n",
        "# Display the result\n",
        "ll\n"
      ],
      "metadata": {
        "colab": {
          "base_uri": "https://localhost:8080/",
          "height": 321
        },
        "id": "vKdv3bLgVFPY",
        "outputId": "a4497839-550d-42b4-a9cb-38291373e0f0"
      },
      "execution_count": 216,
      "outputs": [
        {
          "output_type": "stream",
          "name": "stderr",
          "text": [
            "Warning message in sweep(cf_without_label, 2, unlist(random_datapoint), \"*\"):\n",
            "“STATS is longer than the extent of 'dim(x)[MARGIN]'”\n"
          ]
        },
        {
          "output_type": "display_data",
          "data": {
            "text/html": [
              "<table class=\"dataframe\">\n",
              "<caption>A data.frame: 6 × 193</caption>\n",
              "<thead>\n",
              "\t<tr><th scope=col>sai</th><th scope=col>support</th><th scope=col>bush</th><th scope=col>clinton</th><th scope=col>give</th><th scope=col>hillari</th><th scope=col>john</th><th scope=col>mccain</th><th scope=col>vote</th><th scope=col>care</th><th scope=col>⋯</th><th scope=col>per</th><th scope=col>back</th><th scope=col>run</th><th scope=col>big</th><th scope=col>allow</th><th scope=col>white</th><th scope=col>u</th><th scope=col>go</th><th scope=col>us</th><th scope=col>do</th></tr>\n",
              "\t<tr><th scope=col>&lt;dbl&gt;</th><th scope=col>&lt;dbl&gt;</th><th scope=col>&lt;dbl&gt;</th><th scope=col>&lt;dbl&gt;</th><th scope=col>&lt;dbl&gt;</th><th scope=col>&lt;dbl&gt;</th><th scope=col>&lt;dbl&gt;</th><th scope=col>&lt;dbl&gt;</th><th scope=col>&lt;dbl&gt;</th><th scope=col>&lt;dbl&gt;</th><th scope=col>⋯</th><th scope=col>&lt;dbl&gt;</th><th scope=col>&lt;dbl&gt;</th><th scope=col>&lt;dbl&gt;</th><th scope=col>&lt;dbl&gt;</th><th scope=col>&lt;dbl&gt;</th><th scope=col>&lt;dbl&gt;</th><th scope=col>&lt;dbl&gt;</th><th scope=col>&lt;dbl&gt;</th><th scope=col>&lt;dbl&gt;</th><th scope=col>&lt;dbl&gt;</th></tr>\n",
              "</thead>\n",
              "<tbody>\n",
              "\t<tr><td>0</td><td>0</td><td>0</td><td>0</td><td>0</td><td>0</td><td>0</td><td>0</td><td>0</td><td>0</td><td>⋯</td><td>0</td><td>0</td><td>0</td><td>0</td><td>0</td><td>0</td><td>0</td><td>0</td><td>0</td><td>0</td></tr>\n",
              "\t<tr><td>0</td><td>0</td><td>0</td><td>0</td><td>0</td><td>0</td><td>0</td><td>0</td><td>0</td><td>0</td><td>⋯</td><td>0</td><td>0</td><td>0</td><td>0</td><td>0</td><td>0</td><td>0</td><td>0</td><td>0</td><td>0</td></tr>\n",
              "\t<tr><td>0</td><td>0</td><td>0</td><td>0</td><td>0</td><td>0</td><td>0</td><td>0</td><td>0</td><td>0</td><td>⋯</td><td>0</td><td>0</td><td>0</td><td>0</td><td>0</td><td>0</td><td>0</td><td>0</td><td>0</td><td>0</td></tr>\n",
              "\t<tr><td>0</td><td>0</td><td>0</td><td>0</td><td>0</td><td>0</td><td>0</td><td>0</td><td>0</td><td>0</td><td>⋯</td><td>0</td><td>0</td><td>0</td><td>0</td><td>0</td><td>0</td><td>0</td><td>0</td><td>0</td><td>0</td></tr>\n",
              "\t<tr><td>0</td><td>0</td><td>0</td><td>0</td><td>0</td><td>0</td><td>0</td><td>0</td><td>0</td><td>0</td><td>⋯</td><td>0</td><td>0</td><td>0</td><td>0</td><td>0</td><td>0</td><td>0</td><td>0</td><td>0</td><td>0</td></tr>\n",
              "\t<tr><td>0</td><td>0</td><td>0</td><td>0</td><td>0</td><td>0</td><td>0</td><td>0</td><td>0</td><td>0</td><td>⋯</td><td>0</td><td>0</td><td>0</td><td>0</td><td>0</td><td>0</td><td>0</td><td>0</td><td>0</td><td>0</td></tr>\n",
              "</tbody>\n",
              "</table>\n"
            ],
            "text/markdown": "\nA data.frame: 6 × 193\n\n| sai &lt;dbl&gt; | support &lt;dbl&gt; | bush &lt;dbl&gt; | clinton &lt;dbl&gt; | give &lt;dbl&gt; | hillari &lt;dbl&gt; | john &lt;dbl&gt; | mccain &lt;dbl&gt; | vote &lt;dbl&gt; | care &lt;dbl&gt; | ⋯ ⋯ | per &lt;dbl&gt; | back &lt;dbl&gt; | run &lt;dbl&gt; | big &lt;dbl&gt; | allow &lt;dbl&gt; | white &lt;dbl&gt; | u &lt;dbl&gt; | go &lt;dbl&gt; | us &lt;dbl&gt; | do &lt;dbl&gt; |\n|---|---|---|---|---|---|---|---|---|---|---|---|---|---|---|---|---|---|---|---|---|\n| 0 | 0 | 0 | 0 | 0 | 0 | 0 | 0 | 0 | 0 | ⋯ | 0 | 0 | 0 | 0 | 0 | 0 | 0 | 0 | 0 | 0 |\n| 0 | 0 | 0 | 0 | 0 | 0 | 0 | 0 | 0 | 0 | ⋯ | 0 | 0 | 0 | 0 | 0 | 0 | 0 | 0 | 0 | 0 |\n| 0 | 0 | 0 | 0 | 0 | 0 | 0 | 0 | 0 | 0 | ⋯ | 0 | 0 | 0 | 0 | 0 | 0 | 0 | 0 | 0 | 0 |\n| 0 | 0 | 0 | 0 | 0 | 0 | 0 | 0 | 0 | 0 | ⋯ | 0 | 0 | 0 | 0 | 0 | 0 | 0 | 0 | 0 | 0 |\n| 0 | 0 | 0 | 0 | 0 | 0 | 0 | 0 | 0 | 0 | ⋯ | 0 | 0 | 0 | 0 | 0 | 0 | 0 | 0 | 0 | 0 |\n| 0 | 0 | 0 | 0 | 0 | 0 | 0 | 0 | 0 | 0 | ⋯ | 0 | 0 | 0 | 0 | 0 | 0 | 0 | 0 | 0 | 0 |\n\n",
            "text/latex": "A data.frame: 6 × 193\n\\begin{tabular}{lllllllllllllllllllll}\n sai & support & bush & clinton & give & hillari & john & mccain & vote & care & ⋯ & per & back & run & big & allow & white & u & go & us & do\\\\\n <dbl> & <dbl> & <dbl> & <dbl> & <dbl> & <dbl> & <dbl> & <dbl> & <dbl> & <dbl> & ⋯ & <dbl> & <dbl> & <dbl> & <dbl> & <dbl> & <dbl> & <dbl> & <dbl> & <dbl> & <dbl>\\\\\n\\hline\n\t 0 & 0 & 0 & 0 & 0 & 0 & 0 & 0 & 0 & 0 & ⋯ & 0 & 0 & 0 & 0 & 0 & 0 & 0 & 0 & 0 & 0\\\\\n\t 0 & 0 & 0 & 0 & 0 & 0 & 0 & 0 & 0 & 0 & ⋯ & 0 & 0 & 0 & 0 & 0 & 0 & 0 & 0 & 0 & 0\\\\\n\t 0 & 0 & 0 & 0 & 0 & 0 & 0 & 0 & 0 & 0 & ⋯ & 0 & 0 & 0 & 0 & 0 & 0 & 0 & 0 & 0 & 0\\\\\n\t 0 & 0 & 0 & 0 & 0 & 0 & 0 & 0 & 0 & 0 & ⋯ & 0 & 0 & 0 & 0 & 0 & 0 & 0 & 0 & 0 & 0\\\\\n\t 0 & 0 & 0 & 0 & 0 & 0 & 0 & 0 & 0 & 0 & ⋯ & 0 & 0 & 0 & 0 & 0 & 0 & 0 & 0 & 0 & 0\\\\\n\t 0 & 0 & 0 & 0 & 0 & 0 & 0 & 0 & 0 & 0 & ⋯ & 0 & 0 & 0 & 0 & 0 & 0 & 0 & 0 & 0 & 0\\\\\n\\end{tabular}\n",
            "text/plain": [
              "  sai support bush clinton give hillari john mccain vote care ⋯ per back run\n",
              "1 0   0       0    0       0    0       0    0      0    0    ⋯ 0   0    0  \n",
              "2 0   0       0    0       0    0       0    0      0    0    ⋯ 0   0    0  \n",
              "3 0   0       0    0       0    0       0    0      0    0    ⋯ 0   0    0  \n",
              "4 0   0       0    0       0    0       0    0      0    0    ⋯ 0   0    0  \n",
              "5 0   0       0    0       0    0       0    0      0    0    ⋯ 0   0    0  \n",
              "6 0   0       0    0       0    0       0    0      0    0    ⋯ 0   0    0  \n",
              "  big allow white u go us do\n",
              "1 0   0     0     0 0  0  0 \n",
              "2 0   0     0     0 0  0  0 \n",
              "3 0   0     0     0 0  0  0 \n",
              "4 0   0     0     0 0  0  0 \n",
              "5 0   0     0     0 0  0  0 \n",
              "6 0   0     0     0 0  0  0 "
            ]
          },
          "metadata": {}
        }
      ]
    },
    {
      "cell_type": "code",
      "source": [
        "new_instance <- random_datapoint\n",
        "#predictLabel <- function(new_instance, cf, prior) {\n",
        "# Exclude 0-valued features from the instance\n",
        "non_zero_features <- new_instance != 0\n",
        "instance <- new_instance[non_zero_features]\n",
        "\n",
        "# Calculate likelihoods\n",
        "likelihoods <- apply(cf[, non_zero_features], 1, function(row) {\n",
        "  prod(row[instance != 0])\n",
        "})\n",
        "\n",
        "# Calculate posterior probabilities\n",
        "posterior_probs <- prior * likelihoods\n",
        "\n",
        "# Normalize\n",
        "posterior_probs <- posterior_probs / sum(posterior_probs)\n",
        "\n",
        "# Predict\n",
        "predicted_label <- names(posterior_probs)[which.max(posterior_probs)]\n",
        "\n",
        "# return(predicted_label)\n",
        "#}\n",
        "predicted_label"
      ],
      "metadata": {
        "colab": {
          "base_uri": "https://localhost:8080/",
          "height": 34
        },
        "id": "3_xC__Bz7UVk",
        "outputId": "cc40d2c1-a405-4a04-9e87-84a2a87297f6"
      },
      "execution_count": 217,
      "outputs": [
        {
          "output_type": "display_data",
          "data": {
            "text/plain": [
              "NULL"
            ]
          },
          "metadata": {}
        }
      ]
    },
    {
      "cell_type": "code",
      "source": [
        "likelihoods <- apply(random_datapoint, 1, function(instance) {\n",
        "  prod(cf[instance != 0, ])\n",
        "})\n",
        "print(likelihoods)"
      ],
      "metadata": {
        "colab": {
          "base_uri": "https://localhost:8080/"
        },
        "id": "8Ix2nFbYR9lH",
        "outputId": "9dac159e-3858-4f85-d7c0-7f4bcca8338b"
      },
      "execution_count": 219,
      "outputs": [
        {
          "output_type": "stream",
          "name": "stdout",
          "text": [
            "2116 \n",
            "  NA \n"
          ]
        }
      ]
    },
    {
      "cell_type": "code",
      "source": [
        "posterior_probs <- prior * likelihoods\n",
        "posterior_probs <- posterior_probs / sum(posterior_probs)\n",
        "print(posterior_probs)"
      ],
      "metadata": {
        "colab": {
          "base_uri": "https://localhost:8080/"
        },
        "id": "tJ9DgDunzy9h",
        "outputId": "93b5b0e4-522e-4afc-9822-b34a9e2107f8"
      },
      "execution_count": 220,
      "outputs": [
        {
          "output_type": "stream",
          "name": "stdout",
          "text": [
            "[1] NA NA NA NA NA NA\n"
          ]
        }
      ]
    },
    {
      "cell_type": "code",
      "source": [
        "predicted_label <- names(posterior_probs)[which.max(posterior_probs)]\n",
        "print(predicted_label)"
      ],
      "metadata": {
        "colab": {
          "base_uri": "https://localhost:8080/"
        },
        "id": "OjolYATgz2ha",
        "outputId": "426e22a4-4365-44ab-c05e-db75661a2638"
      },
      "execution_count": 221,
      "outputs": [
        {
          "output_type": "stream",
          "name": "stdout",
          "text": [
            "NULL\n"
          ]
        }
      ]
    },
    {
      "cell_type": "markdown",
      "source": [
        "In Practise now:"
      ],
      "metadata": {
        "id": "92I0mmH_leRe"
      }
    },
    {
      "cell_type": "code",
      "source": [
        "# Add Label to DF to DocumentTermMatrix\n",
        "cf <- cbind(X_train, Y_train)\n",
        "\n",
        "# Group by labels + summing over words\n",
        "cf <- aggregate(. ~ Y_train, cf, sum)\n",
        "\n",
        "# Define the predictLabel function\n",
        "predictLabel <- function(data_point, cf, prior) {\n",
        "  # Calculate the likelihood\n",
        "  ll <- sweep(cf[, -1], 2, unlist(data_point), \"*\")\n",
        "\n",
        "  # Multiply with prior probabilities\n",
        "  posterior <- ll * prior\n",
        "\n",
        "  # Calculate the class label with maximum probability\n",
        "  predicted_label <- colnames(posterior)[which.max(rowSums(posterior))]\n",
        "\n",
        "  return(predicted_label)\n",
        "}\n",
        "\n",
        "# Set prior probabilities\n",
        "prior <- table(Y_train) / length(Y_train)\n",
        "\n",
        "# Predict labels for test set\n",
        "Y_test_pred <- vector(length = nrow(X_test))\n",
        "for (i in 1:nrow(X_test)) {\n",
        "  Y_test_pred[i] <- predictLabel(X_test[i, ], cf, prior)\n",
        "}\n"
      ],
      "metadata": {
        "id": "24h79BNrWNqm"
      },
      "execution_count": 222,
      "outputs": []
    },
    {
      "cell_type": "code",
      "source": [
        "Predict <- function(nbc, X_test){\n",
        "#     cat(\"words matching:\", all(colnames(nbc[2:as.numeric(ncol(nbc)-2)]) == colnames(X_test)))\n",
        "    df.one.func <- function(x){\n",
        "\n",
        "        df.one <- nbc[, c(1, ncol(nbc), which(x != 0) + 1)]\n",
        "\n",
        "        power       <-  c(1,1,  as.integer(x[which(x != 0 )]))\n",
        "        power.func  <- function(x){return(x <- x**power)} #each prob to the power of repeatence\n",
        "        df.one      <- t(apply(df.one ,1, power.func))           #applyting the power function\n",
        "        df.one      <- data.frame(df.one)\n",
        "\n",
        "        prob.finder <- function(x){return(prod(x[2:length(x)]))}\n",
        "        df.final    <-cbind(df.one, Label.Prob = apply(df.one, 1, prob.finder))\n",
        "\n",
        "        predicted_label <- df.finalLabel[which(df.finallabel.Prob == max(df.final$Label.Prob))]\n",
        "        predicted_label <- as.data.frame(predicted_label)\n",
        "        predicted_label <- t(predicted_label[1,])\n",
        "        return(predicted_label)}\n",
        "\n",
        "\n",
        "    X_test_all<- cbind(X_test, predicted_label= apply(X_test ,1,df.one.func))\n",
        "    return(X_test_all$predicted_label)}\n"
      ],
      "metadata": {
        "id": "_JF6YpDyx9lB"
      },
      "execution_count": 224,
      "outputs": []
    },
    {
      "cell_type": "code",
      "source": [
        "fn_accuracy <- function(train_res, test_data){\n",
        "    N_correct <- 0\n",
        "    predictions <- numeric(nrow(test_data))\n",
        "\n",
        "    for (i in seq_along(test_data$Text)) {\n",
        "        predictions[i] <- applyMultinomialNB(\n",
        "            test_data[[i, 'Text']],\n",
        "            labels,\n",
        "            train_res,\n",
        "            prior\n",
        "        )\n",
        "\n",
        "        as.integer(\n",
        "            predictions[i] == test_data[[i, 'Labels']]\n",
        "        ) + N_correct -> N_correct\n",
        "    }\n",
        "\n",
        "    # output data\n",
        "    out_data <- NULL\n",
        "    out_data$predictions <- predictions\n",
        "\n",
        "    return(out_data)\n",
        "}\n"
      ],
      "metadata": {
        "id": "p3lkd5Sgy0Cy"
      },
      "execution_count": 225,
      "outputs": []
    },
    {
      "cell_type": "code",
      "source": [
        "Y_test_pred"
      ],
      "metadata": {
        "id": "iYcHfiP1qWKk",
        "colab": {
          "base_uri": "https://localhost:8080/",
          "height": 243
        },
        "outputId": "00ad1daf-029f-4d02-d244-0765e8b30d5d"
      },
      "execution_count": 226,
      "outputs": [
        {
          "output_type": "display_data",
          "data": {
            "text/html": [
              "<style>\n",
              ".list-inline {list-style: none; margin:0; padding: 0}\n",
              ".list-inline>li {display: inline-block}\n",
              ".list-inline>li:not(:last-child)::after {content: \"\\00b7\"; padding: 0 .5ex}\n",
              "</style>\n",
              "<ol class=list-inline><li>'bush'</li><li>'bush'</li><li>'bush'</li><li>'support'</li><li>'sai'</li><li>'bush'</li><li>'bush'</li><li>'bush'</li><li>'clinton'</li><li>'clinton'</li><li>'bush'</li><li>'bush'</li><li>'abort'</li><li>'bush'</li><li>'bush'</li><li>'bush'</li><li>'bush'</li><li>'bush'</li><li>'bush'</li><li>'bush'</li><li>'bush'</li><li>'bush'</li><li>'bush'</li><li>'sai'</li><li>'bush'</li><li>'bush'</li><li>'bush'</li><li>'bush'</li><li>'bush'</li><li>'bush'</li><li>'bush'</li><li>'bush'</li><li>'bush'</li><li>'bush'</li><li>'bush'</li><li>'bush'</li><li>'give'</li><li>'bush'</li><li>'bush'</li><li>'bush'</li><li>'bush'</li><li>'bush'</li><li>'bush'</li><li>'bush'</li><li>'bush'</li><li>'bush'</li><li>'bush'</li><li>'bush'</li><li>'bush'</li><li>'bush'</li><li>'give'</li><li>'bush'</li><li>'bush'</li><li>'bush'</li><li>'clinton'</li><li>'bush'</li><li>'bush'</li><li>'bush'</li><li>'bush'</li><li>'bush'</li><li>'bush'</li><li>'bush'</li><li>'bush'</li><li>'sai'</li><li>'bush'</li><li>'bush'</li><li>'bush'</li><li>'bush'</li><li>'bush'</li><li>'bush'</li><li>'bush'</li><li>'bush'</li><li>'bush'</li><li>'bush'</li><li>'bush'</li><li>'bush'</li><li>'bush'</li><li>'bush'</li><li>'clinton'</li><li>'bush'</li><li>'bush'</li><li>'bush'</li><li>'bush'</li><li>'bush'</li><li>'bush'</li><li>'bush'</li><li>'bush'</li><li>'bush'</li><li>'bush'</li><li>'bush'</li><li>'bush'</li><li>'bush'</li><li>'bush'</li><li>'bush'</li><li>'bush'</li><li>'clinton'</li><li>'bush'</li><li>'bush'</li><li>'bush'</li><li>'bush'</li><li>'bush'</li><li>'bush'</li><li>'bush'</li><li>'bush'</li><li>'bush'</li><li>'bush'</li><li>'bush'</li><li>'bush'</li><li>'bush'</li><li>'bush'</li><li>'bush'</li><li>'bush'</li><li>'bush'</li><li>'bush'</li><li>'bush'</li><li>'bush'</li><li>'sai'</li><li>'bush'</li><li>'bush'</li><li>'bush'</li><li>'bush'</li><li>'bush'</li><li>'bush'</li><li>'bush'</li><li>'bush'</li><li>'bush'</li><li>'bush'</li><li>'bush'</li><li>'bush'</li><li>'bush'</li><li>'bush'</li><li>'bush'</li><li>'clinton'</li><li>'bush'</li><li>'bush'</li><li>'sai'</li><li>'bush'</li><li>'bush'</li><li>'sai'</li><li>'clinton'</li><li>'bush'</li><li>'bush'</li><li>'bush'</li><li>'bush'</li><li>'bush'</li><li>'bush'</li><li>'bush'</li><li>'bush'</li><li>'bush'</li><li>'bush'</li><li>'bush'</li><li>'clinton'</li><li>'bush'</li><li>'bush'</li><li>'bush'</li><li>'bush'</li><li>'bush'</li><li>'bush'</li><li>'clinton'</li><li>'bush'</li><li>'bush'</li><li>'bush'</li><li>'bush'</li><li>'bush'</li><li>'bush'</li><li>'bush'</li><li>'bush'</li><li>'bush'</li><li>'bush'</li><li>'bush'</li><li>'bush'</li><li>'bush'</li><li>'clinton'</li><li>'bush'</li><li>'bush'</li><li>'bush'</li><li>'sai'</li><li>'give'</li><li>'bush'</li><li>'bush'</li><li>'bush'</li><li>'bush'</li><li>'sai'</li><li>'sai'</li><li>'bush'</li><li>'bush'</li><li>'bush'</li><li>'abort'</li><li>'bush'</li><li>'bush'</li><li>'bush'</li><li>'clinton'</li><li>'bush'</li><li>'bush'</li><li>'abort'</li><li>'bush'</li><li>'clinton'</li><li>'bush'</li><li>'bush'</li><li>'bush'</li><li>⋯</li><li>'bush'</li><li>'bush'</li><li>'clinton'</li><li>'clinton'</li><li>'bush'</li><li>'bush'</li><li>'bush'</li><li>'bush'</li><li>'bush'</li><li>'bush'</li><li>'clinton'</li><li>'bush'</li><li>'bush'</li><li>'bush'</li><li>'clinton'</li><li>'bush'</li><li>'bush'</li><li>'bush'</li><li>'bush'</li><li>'bush'</li><li>'bush'</li><li>'bush'</li><li>'bush'</li><li>'bush'</li><li>'bush'</li><li>'bush'</li><li>'bush'</li><li>'sai'</li><li>'bush'</li><li>'bush'</li><li>'bush'</li><li>'abort'</li><li>'bush'</li><li>'bush'</li><li>'bush'</li><li>'bush'</li><li>'bush'</li><li>'sai'</li><li>'bush'</li><li>'clinton'</li><li>'abort'</li><li>'bush'</li><li>'bush'</li><li>'clinton'</li><li>'bush'</li><li>'clinton'</li><li>'abort'</li><li>'bush'</li><li>'bush'</li><li>'sai'</li><li>'bush'</li><li>'bush'</li><li>'bush'</li><li>'bush'</li><li>'bush'</li><li>'bush'</li><li>'bush'</li><li>'clinton'</li><li>'bush'</li><li>'bush'</li><li>'abort'</li><li>'bush'</li><li>'clinton'</li><li>'bush'</li><li>'clinton'</li><li>'bush'</li><li>'bush'</li><li>'clinton'</li><li>'sai'</li><li>'bush'</li><li>'bush'</li><li>'clinton'</li><li>'bush'</li><li>'bush'</li><li>'bush'</li><li>'bush'</li><li>'bush'</li><li>'bush'</li><li>'bush'</li><li>'bush'</li><li>'bush'</li><li>'bush'</li><li>'bush'</li><li>'bush'</li><li>'bush'</li><li>'bush'</li><li>'bush'</li><li>'bush'</li><li>'bush'</li><li>'clinton'</li><li>'give'</li><li>'bush'</li><li>'abort'</li><li>'bush'</li><li>'sai'</li><li>'bush'</li><li>'bush'</li><li>'sai'</li><li>'bush'</li><li>'bush'</li><li>'clinton'</li><li>'bush'</li><li>'bush'</li><li>'bush'</li><li>'give'</li><li>'bush'</li><li>'clinton'</li><li>'bush'</li><li>'bush'</li><li>'bush'</li><li>'bush'</li><li>'bush'</li><li>'clinton'</li><li>'bush'</li><li>'bush'</li><li>'sai'</li><li>'bush'</li><li>'sai'</li><li>'bush'</li><li>'bush'</li><li>'bush'</li><li>'bush'</li><li>'bush'</li><li>'abort'</li><li>'bush'</li><li>'sai'</li><li>'bush'</li><li>'bush'</li><li>'bush'</li><li>'bush'</li><li>'bush'</li><li>'bush'</li><li>'bush'</li><li>'bush'</li><li>'bush'</li><li>'bush'</li><li>'bush'</li><li>'bush'</li><li>'bush'</li><li>'clinton'</li><li>'bush'</li><li>'bush'</li><li>'bush'</li><li>'bush'</li><li>'bush'</li><li>'clinton'</li><li>'bush'</li><li>'bush'</li><li>'clinton'</li><li>'abort'</li><li>'bush'</li><li>'clinton'</li><li>'bush'</li><li>'sai'</li><li>'bush'</li><li>'bush'</li><li>'bush'</li><li>'sai'</li><li>'sai'</li><li>'bush'</li><li>'bush'</li><li>'bush'</li><li>'bush'</li><li>'bush'</li><li>'bush'</li><li>'bush'</li><li>'bush'</li><li>'bush'</li><li>'bush'</li><li>'bush'</li><li>'bush'</li><li>'bush'</li><li>'bush'</li><li>'bush'</li><li>'bush'</li><li>'sai'</li><li>'bush'</li><li>'bush'</li><li>'clinton'</li><li>'clinton'</li><li>'clinton'</li><li>'bush'</li><li>'bush'</li><li>'bush'</li><li>'bush'</li><li>'bush'</li><li>'bush'</li><li>'bush'</li><li>'bush'</li><li>'bush'</li><li>'bush'</li><li>'bush'</li><li>'bush'</li><li>'bush'</li><li>'bush'</li><li>'sai'</li><li>'bush'</li><li>'bush'</li><li>'bush'</li><li>'bush'</li></ol>\n"
            ],
            "text/markdown": "1. 'bush'\n2. 'bush'\n3. 'bush'\n4. 'support'\n5. 'sai'\n6. 'bush'\n7. 'bush'\n8. 'bush'\n9. 'clinton'\n10. 'clinton'\n11. 'bush'\n12. 'bush'\n13. 'abort'\n14. 'bush'\n15. 'bush'\n16. 'bush'\n17. 'bush'\n18. 'bush'\n19. 'bush'\n20. 'bush'\n21. 'bush'\n22. 'bush'\n23. 'bush'\n24. 'sai'\n25. 'bush'\n26. 'bush'\n27. 'bush'\n28. 'bush'\n29. 'bush'\n30. 'bush'\n31. 'bush'\n32. 'bush'\n33. 'bush'\n34. 'bush'\n35. 'bush'\n36. 'bush'\n37. 'give'\n38. 'bush'\n39. 'bush'\n40. 'bush'\n41. 'bush'\n42. 'bush'\n43. 'bush'\n44. 'bush'\n45. 'bush'\n46. 'bush'\n47. 'bush'\n48. 'bush'\n49. 'bush'\n50. 'bush'\n51. 'give'\n52. 'bush'\n53. 'bush'\n54. 'bush'\n55. 'clinton'\n56. 'bush'\n57. 'bush'\n58. 'bush'\n59. 'bush'\n60. 'bush'\n61. 'bush'\n62. 'bush'\n63. 'bush'\n64. 'sai'\n65. 'bush'\n66. 'bush'\n67. 'bush'\n68. 'bush'\n69. 'bush'\n70. 'bush'\n71. 'bush'\n72. 'bush'\n73. 'bush'\n74. 'bush'\n75. 'bush'\n76. 'bush'\n77. 'bush'\n78. 'bush'\n79. 'clinton'\n80. 'bush'\n81. 'bush'\n82. 'bush'\n83. 'bush'\n84. 'bush'\n85. 'bush'\n86. 'bush'\n87. 'bush'\n88. 'bush'\n89. 'bush'\n90. 'bush'\n91. 'bush'\n92. 'bush'\n93. 'bush'\n94. 'bush'\n95. 'bush'\n96. 'clinton'\n97. 'bush'\n98. 'bush'\n99. 'bush'\n100. 'bush'\n101. 'bush'\n102. 'bush'\n103. 'bush'\n104. 'bush'\n105. 'bush'\n106. 'bush'\n107. 'bush'\n108. 'bush'\n109. 'bush'\n110. 'bush'\n111. 'bush'\n112. 'bush'\n113. 'bush'\n114. 'bush'\n115. 'bush'\n116. 'bush'\n117. 'sai'\n118. 'bush'\n119. 'bush'\n120. 'bush'\n121. 'bush'\n122. 'bush'\n123. 'bush'\n124. 'bush'\n125. 'bush'\n126. 'bush'\n127. 'bush'\n128. 'bush'\n129. 'bush'\n130. 'bush'\n131. 'bush'\n132. 'bush'\n133. 'clinton'\n134. 'bush'\n135. 'bush'\n136. 'sai'\n137. 'bush'\n138. 'bush'\n139. 'sai'\n140. 'clinton'\n141. 'bush'\n142. 'bush'\n143. 'bush'\n144. 'bush'\n145. 'bush'\n146. 'bush'\n147. 'bush'\n148. 'bush'\n149. 'bush'\n150. 'bush'\n151. 'bush'\n152. 'clinton'\n153. 'bush'\n154. 'bush'\n155. 'bush'\n156. 'bush'\n157. 'bush'\n158. 'bush'\n159. 'clinton'\n160. 'bush'\n161. 'bush'\n162. 'bush'\n163. 'bush'\n164. 'bush'\n165. 'bush'\n166. 'bush'\n167. 'bush'\n168. 'bush'\n169. 'bush'\n170. 'bush'\n171. 'bush'\n172. 'bush'\n173. 'clinton'\n174. 'bush'\n175. 'bush'\n176. 'bush'\n177. 'sai'\n178. 'give'\n179. 'bush'\n180. 'bush'\n181. 'bush'\n182. 'bush'\n183. 'sai'\n184. 'sai'\n185. 'bush'\n186. 'bush'\n187. 'bush'\n188. 'abort'\n189. 'bush'\n190. 'bush'\n191. 'bush'\n192. 'clinton'\n193. 'bush'\n194. 'bush'\n195. 'abort'\n196. 'bush'\n197. 'clinton'\n198. 'bush'\n199. 'bush'\n200. 'bush'\n201. ⋯\n202. 'bush'\n203. 'bush'\n204. 'clinton'\n205. 'clinton'\n206. 'bush'\n207. 'bush'\n208. 'bush'\n209. 'bush'\n210. 'bush'\n211. 'bush'\n212. 'clinton'\n213. 'bush'\n214. 'bush'\n215. 'bush'\n216. 'clinton'\n217. 'bush'\n218. 'bush'\n219. 'bush'\n220. 'bush'\n221. 'bush'\n222. 'bush'\n223. 'bush'\n224. 'bush'\n225. 'bush'\n226. 'bush'\n227. 'bush'\n228. 'bush'\n229. 'sai'\n230. 'bush'\n231. 'bush'\n232. 'bush'\n233. 'abort'\n234. 'bush'\n235. 'bush'\n236. 'bush'\n237. 'bush'\n238. 'bush'\n239. 'sai'\n240. 'bush'\n241. 'clinton'\n242. 'abort'\n243. 'bush'\n244. 'bush'\n245. 'clinton'\n246. 'bush'\n247. 'clinton'\n248. 'abort'\n249. 'bush'\n250. 'bush'\n251. 'sai'\n252. 'bush'\n253. 'bush'\n254. 'bush'\n255. 'bush'\n256. 'bush'\n257. 'bush'\n258. 'bush'\n259. 'clinton'\n260. 'bush'\n261. 'bush'\n262. 'abort'\n263. 'bush'\n264. 'clinton'\n265. 'bush'\n266. 'clinton'\n267. 'bush'\n268. 'bush'\n269. 'clinton'\n270. 'sai'\n271. 'bush'\n272. 'bush'\n273. 'clinton'\n274. 'bush'\n275. 'bush'\n276. 'bush'\n277. 'bush'\n278. 'bush'\n279. 'bush'\n280. 'bush'\n281. 'bush'\n282. 'bush'\n283. 'bush'\n284. 'bush'\n285. 'bush'\n286. 'bush'\n287. 'bush'\n288. 'bush'\n289. 'bush'\n290. 'bush'\n291. 'clinton'\n292. 'give'\n293. 'bush'\n294. 'abort'\n295. 'bush'\n296. 'sai'\n297. 'bush'\n298. 'bush'\n299. 'sai'\n300. 'bush'\n301. 'bush'\n302. 'clinton'\n303. 'bush'\n304. 'bush'\n305. 'bush'\n306. 'give'\n307. 'bush'\n308. 'clinton'\n309. 'bush'\n310. 'bush'\n311. 'bush'\n312. 'bush'\n313. 'bush'\n314. 'clinton'\n315. 'bush'\n316. 'bush'\n317. 'sai'\n318. 'bush'\n319. 'sai'\n320. 'bush'\n321. 'bush'\n322. 'bush'\n323. 'bush'\n324. 'bush'\n325. 'abort'\n326. 'bush'\n327. 'sai'\n328. 'bush'\n329. 'bush'\n330. 'bush'\n331. 'bush'\n332. 'bush'\n333. 'bush'\n334. 'bush'\n335. 'bush'\n336. 'bush'\n337. 'bush'\n338. 'bush'\n339. 'bush'\n340. 'bush'\n341. 'clinton'\n342. 'bush'\n343. 'bush'\n344. 'bush'\n345. 'bush'\n346. 'bush'\n347. 'clinton'\n348. 'bush'\n349. 'bush'\n350. 'clinton'\n351. 'abort'\n352. 'bush'\n353. 'clinton'\n354. 'bush'\n355. 'sai'\n356. 'bush'\n357. 'bush'\n358. 'bush'\n359. 'sai'\n360. 'sai'\n361. 'bush'\n362. 'bush'\n363. 'bush'\n364. 'bush'\n365. 'bush'\n366. 'bush'\n367. 'bush'\n368. 'bush'\n369. 'bush'\n370. 'bush'\n371. 'bush'\n372. 'bush'\n373. 'bush'\n374. 'bush'\n375. 'bush'\n376. 'bush'\n377. 'sai'\n378. 'bush'\n379. 'bush'\n380. 'clinton'\n381. 'clinton'\n382. 'clinton'\n383. 'bush'\n384. 'bush'\n385. 'bush'\n386. 'bush'\n387. 'bush'\n388. 'bush'\n389. 'bush'\n390. 'bush'\n391. 'bush'\n392. 'bush'\n393. 'bush'\n394. 'bush'\n395. 'bush'\n396. 'bush'\n397. 'sai'\n398. 'bush'\n399. 'bush'\n400. 'bush'\n401. 'bush'\n\n\n",
            "text/latex": "\\begin{enumerate*}\n\\item 'bush'\n\\item 'bush'\n\\item 'bush'\n\\item 'support'\n\\item 'sai'\n\\item 'bush'\n\\item 'bush'\n\\item 'bush'\n\\item 'clinton'\n\\item 'clinton'\n\\item 'bush'\n\\item 'bush'\n\\item 'abort'\n\\item 'bush'\n\\item 'bush'\n\\item 'bush'\n\\item 'bush'\n\\item 'bush'\n\\item 'bush'\n\\item 'bush'\n\\item 'bush'\n\\item 'bush'\n\\item 'bush'\n\\item 'sai'\n\\item 'bush'\n\\item 'bush'\n\\item 'bush'\n\\item 'bush'\n\\item 'bush'\n\\item 'bush'\n\\item 'bush'\n\\item 'bush'\n\\item 'bush'\n\\item 'bush'\n\\item 'bush'\n\\item 'bush'\n\\item 'give'\n\\item 'bush'\n\\item 'bush'\n\\item 'bush'\n\\item 'bush'\n\\item 'bush'\n\\item 'bush'\n\\item 'bush'\n\\item 'bush'\n\\item 'bush'\n\\item 'bush'\n\\item 'bush'\n\\item 'bush'\n\\item 'bush'\n\\item 'give'\n\\item 'bush'\n\\item 'bush'\n\\item 'bush'\n\\item 'clinton'\n\\item 'bush'\n\\item 'bush'\n\\item 'bush'\n\\item 'bush'\n\\item 'bush'\n\\item 'bush'\n\\item 'bush'\n\\item 'bush'\n\\item 'sai'\n\\item 'bush'\n\\item 'bush'\n\\item 'bush'\n\\item 'bush'\n\\item 'bush'\n\\item 'bush'\n\\item 'bush'\n\\item 'bush'\n\\item 'bush'\n\\item 'bush'\n\\item 'bush'\n\\item 'bush'\n\\item 'bush'\n\\item 'bush'\n\\item 'clinton'\n\\item 'bush'\n\\item 'bush'\n\\item 'bush'\n\\item 'bush'\n\\item 'bush'\n\\item 'bush'\n\\item 'bush'\n\\item 'bush'\n\\item 'bush'\n\\item 'bush'\n\\item 'bush'\n\\item 'bush'\n\\item 'bush'\n\\item 'bush'\n\\item 'bush'\n\\item 'bush'\n\\item 'clinton'\n\\item 'bush'\n\\item 'bush'\n\\item 'bush'\n\\item 'bush'\n\\item 'bush'\n\\item 'bush'\n\\item 'bush'\n\\item 'bush'\n\\item 'bush'\n\\item 'bush'\n\\item 'bush'\n\\item 'bush'\n\\item 'bush'\n\\item 'bush'\n\\item 'bush'\n\\item 'bush'\n\\item 'bush'\n\\item 'bush'\n\\item 'bush'\n\\item 'bush'\n\\item 'sai'\n\\item 'bush'\n\\item 'bush'\n\\item 'bush'\n\\item 'bush'\n\\item 'bush'\n\\item 'bush'\n\\item 'bush'\n\\item 'bush'\n\\item 'bush'\n\\item 'bush'\n\\item 'bush'\n\\item 'bush'\n\\item 'bush'\n\\item 'bush'\n\\item 'bush'\n\\item 'clinton'\n\\item 'bush'\n\\item 'bush'\n\\item 'sai'\n\\item 'bush'\n\\item 'bush'\n\\item 'sai'\n\\item 'clinton'\n\\item 'bush'\n\\item 'bush'\n\\item 'bush'\n\\item 'bush'\n\\item 'bush'\n\\item 'bush'\n\\item 'bush'\n\\item 'bush'\n\\item 'bush'\n\\item 'bush'\n\\item 'bush'\n\\item 'clinton'\n\\item 'bush'\n\\item 'bush'\n\\item 'bush'\n\\item 'bush'\n\\item 'bush'\n\\item 'bush'\n\\item 'clinton'\n\\item 'bush'\n\\item 'bush'\n\\item 'bush'\n\\item 'bush'\n\\item 'bush'\n\\item 'bush'\n\\item 'bush'\n\\item 'bush'\n\\item 'bush'\n\\item 'bush'\n\\item 'bush'\n\\item 'bush'\n\\item 'bush'\n\\item 'clinton'\n\\item 'bush'\n\\item 'bush'\n\\item 'bush'\n\\item 'sai'\n\\item 'give'\n\\item 'bush'\n\\item 'bush'\n\\item 'bush'\n\\item 'bush'\n\\item 'sai'\n\\item 'sai'\n\\item 'bush'\n\\item 'bush'\n\\item 'bush'\n\\item 'abort'\n\\item 'bush'\n\\item 'bush'\n\\item 'bush'\n\\item 'clinton'\n\\item 'bush'\n\\item 'bush'\n\\item 'abort'\n\\item 'bush'\n\\item 'clinton'\n\\item 'bush'\n\\item 'bush'\n\\item 'bush'\n\\item ⋯\n\\item 'bush'\n\\item 'bush'\n\\item 'clinton'\n\\item 'clinton'\n\\item 'bush'\n\\item 'bush'\n\\item 'bush'\n\\item 'bush'\n\\item 'bush'\n\\item 'bush'\n\\item 'clinton'\n\\item 'bush'\n\\item 'bush'\n\\item 'bush'\n\\item 'clinton'\n\\item 'bush'\n\\item 'bush'\n\\item 'bush'\n\\item 'bush'\n\\item 'bush'\n\\item 'bush'\n\\item 'bush'\n\\item 'bush'\n\\item 'bush'\n\\item 'bush'\n\\item 'bush'\n\\item 'bush'\n\\item 'sai'\n\\item 'bush'\n\\item 'bush'\n\\item 'bush'\n\\item 'abort'\n\\item 'bush'\n\\item 'bush'\n\\item 'bush'\n\\item 'bush'\n\\item 'bush'\n\\item 'sai'\n\\item 'bush'\n\\item 'clinton'\n\\item 'abort'\n\\item 'bush'\n\\item 'bush'\n\\item 'clinton'\n\\item 'bush'\n\\item 'clinton'\n\\item 'abort'\n\\item 'bush'\n\\item 'bush'\n\\item 'sai'\n\\item 'bush'\n\\item 'bush'\n\\item 'bush'\n\\item 'bush'\n\\item 'bush'\n\\item 'bush'\n\\item 'bush'\n\\item 'clinton'\n\\item 'bush'\n\\item 'bush'\n\\item 'abort'\n\\item 'bush'\n\\item 'clinton'\n\\item 'bush'\n\\item 'clinton'\n\\item 'bush'\n\\item 'bush'\n\\item 'clinton'\n\\item 'sai'\n\\item 'bush'\n\\item 'bush'\n\\item 'clinton'\n\\item 'bush'\n\\item 'bush'\n\\item 'bush'\n\\item 'bush'\n\\item 'bush'\n\\item 'bush'\n\\item 'bush'\n\\item 'bush'\n\\item 'bush'\n\\item 'bush'\n\\item 'bush'\n\\item 'bush'\n\\item 'bush'\n\\item 'bush'\n\\item 'bush'\n\\item 'bush'\n\\item 'bush'\n\\item 'clinton'\n\\item 'give'\n\\item 'bush'\n\\item 'abort'\n\\item 'bush'\n\\item 'sai'\n\\item 'bush'\n\\item 'bush'\n\\item 'sai'\n\\item 'bush'\n\\item 'bush'\n\\item 'clinton'\n\\item 'bush'\n\\item 'bush'\n\\item 'bush'\n\\item 'give'\n\\item 'bush'\n\\item 'clinton'\n\\item 'bush'\n\\item 'bush'\n\\item 'bush'\n\\item 'bush'\n\\item 'bush'\n\\item 'clinton'\n\\item 'bush'\n\\item 'bush'\n\\item 'sai'\n\\item 'bush'\n\\item 'sai'\n\\item 'bush'\n\\item 'bush'\n\\item 'bush'\n\\item 'bush'\n\\item 'bush'\n\\item 'abort'\n\\item 'bush'\n\\item 'sai'\n\\item 'bush'\n\\item 'bush'\n\\item 'bush'\n\\item 'bush'\n\\item 'bush'\n\\item 'bush'\n\\item 'bush'\n\\item 'bush'\n\\item 'bush'\n\\item 'bush'\n\\item 'bush'\n\\item 'bush'\n\\item 'bush'\n\\item 'clinton'\n\\item 'bush'\n\\item 'bush'\n\\item 'bush'\n\\item 'bush'\n\\item 'bush'\n\\item 'clinton'\n\\item 'bush'\n\\item 'bush'\n\\item 'clinton'\n\\item 'abort'\n\\item 'bush'\n\\item 'clinton'\n\\item 'bush'\n\\item 'sai'\n\\item 'bush'\n\\item 'bush'\n\\item 'bush'\n\\item 'sai'\n\\item 'sai'\n\\item 'bush'\n\\item 'bush'\n\\item 'bush'\n\\item 'bush'\n\\item 'bush'\n\\item 'bush'\n\\item 'bush'\n\\item 'bush'\n\\item 'bush'\n\\item 'bush'\n\\item 'bush'\n\\item 'bush'\n\\item 'bush'\n\\item 'bush'\n\\item 'bush'\n\\item 'bush'\n\\item 'sai'\n\\item 'bush'\n\\item 'bush'\n\\item 'clinton'\n\\item 'clinton'\n\\item 'clinton'\n\\item 'bush'\n\\item 'bush'\n\\item 'bush'\n\\item 'bush'\n\\item 'bush'\n\\item 'bush'\n\\item 'bush'\n\\item 'bush'\n\\item 'bush'\n\\item 'bush'\n\\item 'bush'\n\\item 'bush'\n\\item 'bush'\n\\item 'bush'\n\\item 'sai'\n\\item 'bush'\n\\item 'bush'\n\\item 'bush'\n\\item 'bush'\n\\end{enumerate*}\n",
            "text/plain": [
              "   [1] \"bush\"    \"bush\"    \"bush\"    \"support\" \"sai\"     \"bush\"    \"bush\"   \n",
              "   [8] \"bush\"    \"clinton\" \"clinton\" \"bush\"    \"bush\"    \"abort\"   \"bush\"   \n",
              "  [15] \"bush\"    \"bush\"    \"bush\"    \"bush\"    \"bush\"    \"bush\"    \"bush\"   \n",
              "  [22] \"bush\"    \"bush\"    \"sai\"     \"bush\"    \"bush\"    \"bush\"    \"bush\"   \n",
              "  [29] \"bush\"    \"bush\"    \"bush\"    \"bush\"    \"bush\"    \"bush\"    \"bush\"   \n",
              "  [36] \"bush\"    \"give\"    \"bush\"    \"bush\"    \"bush\"    \"bush\"    \"bush\"   \n",
              "  [43] \"bush\"    \"bush\"    \"bush\"    \"bush\"    \"bush\"    \"bush\"    \"bush\"   \n",
              "  [50] \"bush\"    \"give\"    \"bush\"    \"bush\"    \"bush\"    \"clinton\" \"bush\"   \n",
              "  [57] \"bush\"    \"bush\"    \"bush\"    \"bush\"    \"bush\"    \"bush\"    \"bush\"   \n",
              "  [64] \"sai\"     \"bush\"    \"bush\"    \"bush\"    \"bush\"    \"bush\"    \"bush\"   \n",
              "  [71] \"bush\"    \"bush\"    \"bush\"    \"bush\"    \"bush\"    \"bush\"    \"bush\"   \n",
              "  [78] \"bush\"    \"clinton\" \"bush\"    \"bush\"    \"bush\"    \"bush\"    \"bush\"   \n",
              "  [85] \"bush\"    \"bush\"    \"bush\"    \"bush\"    \"bush\"    \"bush\"    \"bush\"   \n",
              "  [92] \"bush\"    \"bush\"    \"bush\"    \"bush\"    \"clinton\" \"bush\"    \"bush\"   \n",
              "  [99] \"bush\"    \"bush\"    \"bush\"    \"bush\"    \"bush\"    \"bush\"    \"bush\"   \n",
              " [106] \"bush\"    \"bush\"    \"bush\"    \"bush\"    \"bush\"    \"bush\"    \"bush\"   \n",
              " [113] \"bush\"    \"bush\"    \"bush\"    \"bush\"    \"sai\"     \"bush\"    \"bush\"   \n",
              " [120] \"bush\"    \"bush\"    \"bush\"    \"bush\"    \"bush\"    \"bush\"    \"bush\"   \n",
              " [127] \"bush\"    \"bush\"    \"bush\"    \"bush\"    \"bush\"    \"bush\"    \"clinton\"\n",
              " [134] \"bush\"    \"bush\"    \"sai\"     \"bush\"    \"bush\"    \"sai\"     \"clinton\"\n",
              " [141] \"bush\"    \"bush\"    \"bush\"    \"bush\"    \"bush\"    \"bush\"    \"bush\"   \n",
              " [148] \"bush\"    \"bush\"    \"bush\"    \"bush\"    \"clinton\" \"bush\"    \"bush\"   \n",
              " [155] \"bush\"    \"bush\"    \"bush\"    \"bush\"    \"clinton\" \"bush\"    \"bush\"   \n",
              " [162] \"bush\"    \"bush\"    \"bush\"    \"bush\"    \"bush\"    \"bush\"    \"bush\"   \n",
              " [169] \"bush\"    \"bush\"    \"bush\"    \"bush\"    \"clinton\" \"bush\"    \"bush\"   \n",
              " [176] \"bush\"    \"sai\"     \"give\"    \"bush\"    \"bush\"    \"bush\"    \"bush\"   \n",
              " [183] \"sai\"     \"sai\"     \"bush\"    \"bush\"    \"bush\"    \"abort\"   \"bush\"   \n",
              " [190] \"bush\"    \"bush\"    \"clinton\" \"bush\"    \"bush\"    \"abort\"   \"bush\"   \n",
              " [197] \"clinton\" \"bush\"    \"bush\"    \"bush\"    \"sai\"     \"bush\"    \"bush\"   \n",
              " [204] \"bush\"    \"bush\"    \"bush\"    \"bush\"    \"bush\"    \"abort\"   \"bush\"   \n",
              " [211] \"bush\"    \"bush\"    \"sai\"     \"bush\"    \"bush\"    \"bush\"    \"bush\"   \n",
              " [218] \"support\" \"bush\"    \"bush\"    \"bush\"    \"bush\"    \"give\"    \"bush\"   \n",
              " [225] \"bush\"    \"bush\"    \"bush\"    \"clinton\" \"bush\"    \"bush\"    \"bush\"   \n",
              " [232] \"bush\"    \"bush\"    \"bush\"    \"bush\"    \"bush\"    \"bush\"    \"sai\"    \n",
              " [239] \"sai\"     \"clinton\" \"bush\"    \"bush\"    \"bush\"    \"bush\"    \"bush\"   \n",
              " [246] \"bush\"    \"bush\"    \"clinton\" \"bush\"    \"bush\"    \"bush\"    \"bush\"   \n",
              " [253] \"bush\"    \"clinton\" \"bush\"    \"bush\"    \"bush\"    \"bush\"    \"bush\"   \n",
              " [260] \"clinton\" \"bush\"    \"bush\"    \"bush\"    \"bush\"    \"clinton\" \"bush\"   \n",
              " [267] \"bush\"    \"bush\"    \"bush\"    \"abort\"   \"bush\"    \"bush\"    \"bush\"   \n",
              " [274] \"bush\"    \"clinton\" \"bush\"    \"sai\"     \"bush\"    \"bush\"    \"bush\"   \n",
              " [281] \"bush\"    \"bush\"    \"clinton\" \"bush\"    \"bush\"    \"bush\"    \"bush\"   \n",
              " [288] \"clinton\" \"bush\"    \"clinton\" \"bush\"    \"sai\"     \"bush\"    \"bush\"   \n",
              " [295] \"bush\"    \"bush\"    \"bush\"    \"bush\"    \"bush\"    \"bush\"    \"sai\"    \n",
              " [302] \"bush\"    \"bush\"    \"bush\"    \"bush\"    \"bush\"    \"sai\"     \"bush\"   \n",
              " [309] \"bush\"    \"bush\"    \"bush\"    \"bush\"    \"bush\"    \"bush\"    \"bush\"   \n",
              " [316] \"bush\"    \"bush\"    \"clinton\" \"clinton\" \"bush\"    \"bush\"    \"abort\"  \n",
              " [323] \"bush\"    \"bush\"    \"bush\"    \"bush\"    \"bush\"    \"bush\"    \"sai\"    \n",
              " [330] \"bush\"    \"bush\"    \"bush\"    \"bush\"    \"bush\"    \"bush\"    \"bush\"   \n",
              " [337] \"bush\"    \"bush\"    \"bush\"    \"bush\"    \"bush\"    \"bush\"    \"bush\"   \n",
              " [344] \"bush\"    \"sai\"     \"bush\"    \"bush\"    \"bush\"    \"give\"    \"bush\"   \n",
              " [351] \"bush\"    \"bush\"    \"clinton\" \"bush\"    \"bush\"    \"bush\"    \"bush\"   \n",
              " [358] \"clinton\" \"clinton\" \"bush\"    \"bush\"    \"clinton\" \"bush\"    \"bush\"   \n",
              " [365] \"bush\"    \"bush\"    \"bush\"    \"clinton\" \"bush\"    \"bush\"    \"bush\"   \n",
              " [372] \"bush\"    \"bush\"    \"sai\"     \"bush\"    \"sai\"     \"bush\"    \"clinton\"\n",
              " [379] \"bush\"    \"bush\"    \"clinton\" \"bush\"    \"bush\"    \"clinton\" \"clinton\"\n",
              " [386] \"clinton\" \"bush\"    \"bush\"    \"clinton\" \"bush\"    \"bush\"    \"bush\"   \n",
              " [393] \"bush\"    \"bush\"    \"clinton\" \"bush\"    \"bush\"    \"clinton\" \"sai\"    \n",
              " [400] \"bush\"    \"bush\"    \"bush\"    \"bush\"    \"give\"    \"bush\"    \"bush\"   \n",
              " [407] \"bush\"    \"bush\"    \"bush\"    \"bush\"    \"bush\"    \"sai\"     \"bush\"   \n",
              " [414] \"bush\"    \"bush\"    \"bush\"    \"bush\"    \"bush\"    \"abort\"   \"bush\"   \n",
              " [421] \"bush\"    \"bush\"    \"clinton\" \"bush\"    \"bush\"    \"bush\"    \"bush\"   \n",
              " [428] \"bush\"    \"bush\"    \"bush\"    \"bush\"    \"bush\"    \"bush\"    \"clinton\"\n",
              " [435] \"bush\"    \"bush\"    \"bush\"    \"bush\"    \"bush\"    \"bush\"    \"bush\"   \n",
              " [442] \"bush\"    \"clinton\" \"bush\"    \"bush\"    \"bush\"    \"bush\"    \"bush\"   \n",
              " [449] \"bush\"    \"bush\"    \"bush\"    \"bush\"    \"bush\"    \"clinton\" \"bush\"   \n",
              " [456] \"bush\"    \"bush\"    \"bush\"    \"bush\"    \"bush\"    \"bush\"    \"bush\"   \n",
              " [463] \"bush\"    \"bush\"    \"bush\"    \"bush\"    \"bush\"    \"bush\"    \"bush\"   \n",
              " [470] \"bush\"    \"bush\"    \"bush\"    \"clinton\" \"bush\"    \"bush\"    \"bush\"   \n",
              " [477] \"bush\"    \"bush\"    \"bush\"    \"bush\"    \"bush\"    \"bush\"    \"bush\"   \n",
              " [484] \"bush\"    \"sai\"     \"bush\"    \"bush\"    \"bush\"    \"bush\"    \"bush\"   \n",
              " [491] \"bush\"    \"clinton\" \"sai\"     \"bush\"    \"bush\"    \"bush\"    \"bush\"   \n",
              " [498] \"bush\"    \"abort\"   \"bush\"    \"bush\"    \"bush\"    \"abort\"   \"bush\"   \n",
              " [505] \"bush\"    \"bush\"    \"clinton\" \"bush\"    \"bush\"    \"abort\"   \"bush\"   \n",
              " [512] \"bush\"    \"clinton\" \"bush\"    \"bush\"    \"bush\"    \"give\"    \"abort\"  \n",
              " [519] \"bush\"    \"clinton\" \"sai\"     \"abort\"   \"bush\"    \"clinton\" \"bush\"   \n",
              " [526] \"bush\"    \"bush\"    \"bush\"    \"bush\"    \"bush\"    \"bush\"    \"bush\"   \n",
              " [533] \"bush\"    \"bush\"    \"bush\"    \"bush\"    \"bush\"    \"bush\"    \"bush\"   \n",
              " [540] \"bush\"    \"bush\"    \"bush\"    \"bush\"    \"bush\"    \"bush\"    \"bush\"   \n",
              " [547] \"bush\"    \"bush\"    \"bush\"    \"clinton\" \"support\" \"bush\"    \"bush\"   \n",
              " [554] \"bush\"    \"clinton\" \"bush\"    \"bush\"    \"bush\"    \"bush\"    \"bush\"   \n",
              " [561] \"bush\"    \"bush\"    \"bush\"    \"bush\"    \"bush\"    \"bush\"    \"bush\"   \n",
              " [568] \"bush\"    \"bush\"    \"bush\"    \"bush\"    \"sai\"     \"bush\"    \"bush\"   \n",
              " [575] \"clinton\" \"bush\"    \"bush\"    \"bush\"    \"bush\"    \"bush\"    \"bush\"   \n",
              " [582] \"bush\"    \"bush\"    \"bush\"    \"bush\"    \"bush\"    \"bush\"    \"bush\"   \n",
              " [589] \"bush\"    \"sai\"     \"bush\"    \"bush\"    \"bush\"    \"bush\"    \"bush\"   \n",
              " [596] \"bush\"    \"bush\"    \"sai\"     \"bush\"    \"bush\"    \"bush\"    \"bush\"   \n",
              " [603] \"bush\"    \"bush\"    \"abort\"   \"bush\"    \"bush\"    \"bush\"    \"bush\"   \n",
              " [610] \"bush\"    \"bush\"    \"give\"    \"bush\"    \"give\"    \"bush\"    \"bush\"   \n",
              " [617] \"bush\"    \"bush\"    \"bush\"    \"bush\"    \"bush\"    \"bush\"    \"bush\"   \n",
              " [624] \"bush\"    \"bush\"    \"sai\"     \"bush\"    \"bush\"    \"bush\"    \"bush\"   \n",
              " [631] \"bush\"    \"bush\"    \"bush\"    \"bush\"    \"bush\"    \"bush\"    \"bush\"   \n",
              " [638] \"bush\"    \"bush\"    \"bush\"    \"clinton\" \"bush\"    \"bush\"    \"bush\"   \n",
              " [645] \"clinton\" \"bush\"    \"bush\"    \"abort\"   \"bush\"    \"bush\"    \"clinton\"\n",
              " [652] \"bush\"    \"bush\"    \"bush\"    \"bush\"    \"bush\"    \"bush\"    \"bush\"   \n",
              " [659] \"bush\"    \"bush\"    \"clinton\" \"bush\"    \"bush\"    \"abort\"   \"sai\"    \n",
              " [666] \"bush\"    \"bush\"    \"clinton\" \"abort\"   \"clinton\" \"bush\"    \"clinton\"\n",
              " [673] \"bush\"    \"abort\"   \"sai\"     \"bush\"    \"bush\"    \"clinton\" \"bush\"   \n",
              " [680] \"clinton\" \"bush\"    \"bush\"    \"bush\"    \"abort\"   \"bush\"    \"bush\"   \n",
              " [687] \"bush\"    \"bush\"    \"bush\"    \"bush\"    \"bush\"    \"bush\"    \"bush\"   \n",
              " [694] \"bush\"    \"bush\"    \"bush\"    \"bush\"    \"bush\"    \"bush\"    \"bush\"   \n",
              " [701] \"bush\"    \"bush\"    \"clinton\" \"bush\"    \"bush\"    \"bush\"    \"bush\"   \n",
              " [708] \"bush\"    \"bush\"    \"bush\"    \"bush\"    \"bush\"    \"bush\"    \"bush\"   \n",
              " [715] \"bush\"    \"give\"    \"sai\"     \"bush\"    \"bush\"    \"bush\"    \"clinton\"\n",
              " [722] \"bush\"    \"bush\"    \"bush\"    \"bush\"    \"bush\"    \"bush\"    \"bush\"   \n",
              " [729] \"clinton\" \"bush\"    \"bush\"    \"bush\"    \"bush\"    \"bush\"    \"bush\"   \n",
              " [736] \"bush\"    \"bush\"    \"abort\"   \"bush\"    \"bush\"    \"bush\"    \"bush\"   \n",
              " [743] \"bush\"    \"bush\"    \"bush\"    \"abort\"   \"bush\"    \"bush\"    \"bush\"   \n",
              " [750] \"bush\"    \"bush\"    \"bush\"    \"bush\"    \"sai\"     \"clinton\" \"sai\"    \n",
              " [757] \"bush\"    \"bush\"    \"sai\"     \"give\"    \"bush\"    \"bush\"    \"support\"\n",
              " [764] \"bush\"    \"bush\"    \"clinton\" \"bush\"    \"bush\"    \"bush\"    \"bush\"   \n",
              " [771] \"bush\"    \"bush\"    \"bush\"    \"bush\"    \"clinton\" \"bush\"    \"bush\"   \n",
              " [778] \"bush\"    \"bush\"    \"bush\"    \"bush\"    \"clinton\" \"clinton\" \"bush\"   \n",
              " [785] \"bush\"    \"bush\"    \"bush\"    \"bush\"    \"clinton\" \"bush\"    \"bush\"   \n",
              " [792] \"bush\"    \"bush\"    \"bush\"    \"bush\"    \"bush\"    \"bush\"    \"bush\"   \n",
              " [799] \"bush\"    \"bush\"    \"bush\"    \"bush\"    \"clinton\" \"bush\"    \"bush\"   \n",
              " [806] \"bush\"    \"bush\"    \"bush\"    \"bush\"    \"abort\"   \"bush\"    \"bush\"   \n",
              " [813] \"bush\"    \"bush\"    \"clinton\" \"clinton\" \"bush\"    \"bush\"    \"bush\"   \n",
              " [820] \"bush\"    \"bush\"    \"clinton\" \"bush\"    \"bush\"    \"sai\"     \"bush\"   \n",
              " [827] \"bush\"    \"bush\"    \"bush\"    \"bush\"    \"bush\"    \"bush\"    \"clinton\"\n",
              " [834] \"bush\"    \"bush\"    \"bush\"    \"abort\"   \"clinton\" \"bush\"    \"bush\"   \n",
              " [841] \"bush\"    \"bush\"    \"bush\"    \"bush\"    \"bush\"    \"bush\"    \"bush\"   \n",
              " [848] \"bush\"    \"bush\"    \"bush\"    \"bush\"    \"bush\"    \"bush\"    \"bush\"   \n",
              " [855] \"bush\"    \"bush\"    \"bush\"    \"bush\"    \"sai\"     \"bush\"    \"bush\"   \n",
              " [862] \"clinton\" \"bush\"    \"bush\"    \"bush\"    \"clinton\" \"sai\"     \"bush\"   \n",
              " [869] \"bush\"    \"bush\"    \"clinton\" \"bush\"    \"bush\"    \"clinton\" \"bush\"   \n",
              " [876] \"bush\"    \"bush\"    \"abort\"   \"sai\"     \"sai\"     \"bush\"    \"clinton\"\n",
              " [883] \"bush\"    \"bush\"    \"clinton\" \"bush\"    \"bush\"    \"bush\"    \"bush\"   \n",
              " [890] \"bush\"    \"abort\"   \"bush\"    \"bush\"    \"bush\"    \"clinton\" \"bush\"   \n",
              " [897] \"bush\"    \"bush\"    \"bush\"    \"bush\"    \"bush\"    \"bush\"    \"bush\"   \n",
              " [904] \"bush\"    \"bush\"    \"bush\"    \"give\"    \"bush\"    \"bush\"    \"bush\"   \n",
              " [911] \"clinton\" \"bush\"    \"bush\"    \"bush\"    \"bush\"    \"bush\"    \"bush\"   \n",
              " [918] \"bush\"    \"bush\"    \"bush\"    \"bush\"    \"bush\"    \"bush\"    \"bush\"   \n",
              " [925] \"bush\"    \"bush\"    \"bush\"    \"bush\"    \"sai\"     \"bush\"    \"sai\"    \n",
              " [932] \"bush\"    \"bush\"    \"bush\"    \"clinton\" \"bush\"    \"bush\"    \"clinton\"\n",
              " [939] \"bush\"    \"bush\"    \"clinton\" \"bush\"    \"bush\"    \"bush\"    \"bush\"   \n",
              " [946] \"clinton\" \"bush\"    \"bush\"    \"bush\"    \"bush\"    \"bush\"    \"bush\"   \n",
              " [953] \"bush\"    \"bush\"    \"bush\"    \"bush\"    \"abort\"   \"bush\"    \"bush\"   \n",
              " [960] \"bush\"    \"bush\"    \"bush\"    \"bush\"    \"bush\"    \"bush\"    \"sai\"    \n",
              " [967] \"bush\"    \"bush\"    \"bush\"    \"bush\"    \"bush\"    \"bush\"    \"bush\"   \n",
              " [974] \"bush\"    \"bush\"    \"sai\"     \"bush\"    \"bush\"    \"bush\"    \"bush\"   \n",
              " [981] \"abort\"   \"bush\"    \"bush\"    \"sai\"     \"bush\"    \"bush\"    \"sai\"    \n",
              " [988] \"bush\"    \"bush\"    \"bush\"    \"bush\"    \"abort\"   \"bush\"    \"bush\"   \n",
              " [995] \"bush\"    \"bush\"    \"bush\"    \"bush\"    \"bush\"    \"sai\"     \"bush\"   \n",
              "[1002] \"bush\"    \"bush\"    \"bush\"    \"bush\"    \"sai\"     \"bush\"    \"clinton\"\n",
              "[1009] \"bush\"    \"bush\"    \"abort\"   \"bush\"    \"bush\"    \"bush\"    \"bush\"   \n",
              "[1016] \"bush\"    \"bush\"    \"bush\"    \"bush\"    \"clinton\" \"bush\"    \"bush\"   \n",
              "[1023] \"bush\"    \"bush\"    \"bush\"    \"bush\"    \"bush\"    \"bush\"    \"bush\"   \n",
              "[1030] \"bush\"    \"clinton\" \"bush\"    \"sai\"     \"bush\"    \"bush\"    \"bush\"   \n",
              "[1037] \"bush\"    \"abort\"   \"bush\"    \"bush\"    \"bush\"    \"abort\"   \"bush\"   \n",
              "[1044] \"bush\"    \"clinton\" \"bush\"    \"bush\"    \"bush\"    \"bush\"    \"bush\"   \n",
              "[1051] \"sai\"     \"clinton\" \"clinton\" \"bush\"    \"bush\"    \"bush\"    \"bush\"   \n",
              "[1058] \"clinton\" \"bush\"    \"bush\"    \"clinton\" \"bush\"    \"bush\"    \"bush\"   \n",
              "[1065] \"bush\"    \"bush\"    \"bush\"    \"bush\"    \"bush\"    \"clinton\" \"clinton\"\n",
              "[1072] \"bush\"    \"bush\"    \"bush\"    \"bush\"    \"bush\"    \"bush\"    \"bush\"   \n",
              "[1079] \"bush\"    \"bush\"    \"bush\"    \"clinton\" \"bush\"    \"bush\"    \"bush\"   \n",
              "[1086] \"bush\"    \"bush\"    \"bush\"    \"bush\"    \"bush\"    \"bush\"    \"bush\"   \n",
              "[1093] \"bush\"    \"support\" \"bush\"    \"bush\"    \"bush\"    \"bush\"    \"bush\"   \n",
              "[1100] \"bush\"    \"bush\"    \"bush\"    \"bush\"    \"bush\"    \"give\"    \"bush\"   \n",
              "[1107] \"bush\"    \"bush\"    \"bush\"    \"bush\"    \"bush\"    \"bush\"    \"bush\"   \n",
              "[1114] \"bush\"    \"clinton\" \"bush\"    \"bush\"    \"bush\"    \"sai\"     \"bush\"   \n",
              "[1121] \"bush\"    \"clinton\" \"sai\"     \"bush\"    \"bush\"    \"bush\"    \"sai\"    \n",
              "[1128] \"bush\"    \"bush\"    \"bush\"    \"bush\"    \"bush\"    \"clinton\" \"bush\"   \n",
              "[1135] \"bush\"    \"bush\"    \"bush\"    \"bush\"    \"give\"    \"bush\"    \"bush\"   \n",
              "[1142] \"bush\"    \"bush\"    \"bush\"    \"bush\"    \"bush\"    \"bush\"    \"bush\"   \n",
              "[1149] \"sai\"     \"bush\"    \"bush\"    \"sai\"     \"bush\"    \"bush\"    \"clinton\"\n",
              "[1156] \"bush\"    \"bush\"    \"abort\"   \"sai\"     \"bush\"    \"bush\"    \"bush\"   \n",
              "[1163] \"bush\"    \"bush\"    \"bush\"    \"bush\"    \"bush\"    \"bush\"    \"bush\"   \n",
              "[1170] \"clinton\" \"abort\"   \"bush\"    \"bush\"    \"bush\"    \"bush\"    \"bush\"   \n",
              "[1177] \"clinton\" \"bush\"    \"bush\"    \"bush\"    \"bush\"    \"bush\"    \"bush\"   \n",
              "[1184] \"bush\"    \"bush\"    \"sai\"     \"bush\"    \"clinton\" \"bush\"    \"bush\"   \n",
              "[1191] \"bush\"    \"clinton\" \"bush\"    \"bush\"    \"bush\"    \"bush\"    \"bush\"   \n",
              "[1198] \"bush\"    \"bush\"    \"bush\"    \"bush\"    \"bush\"    \"bush\"    \"bush\"   \n",
              "[1205] \"bush\"    \"bush\"    \"sai\"     \"bush\"    \"bush\"    \"bush\"    \"bush\"   \n",
              "[1212] \"clinton\" \"bush\"    \"bush\"    \"bush\"    \"bush\"    \"bush\"    \"bush\"   \n",
              "[1219] \"bush\"    \"abort\"   \"bush\"    \"bush\"    \"bush\"    \"sai\"     \"bush\"   \n",
              "[1226] \"bush\"    \"bush\"    \"bush\"    \"clinton\" \"bush\"    \"clinton\" \"bush\"   \n",
              "[1233] \"bush\"    \"bush\"    \"bush\"    \"clinton\" \"bush\"    \"bush\"    \"bush\"   \n",
              "[1240] \"bush\"    \"bush\"    \"bush\"    \"bush\"    \"clinton\" \"bush\"    \"clinton\"\n",
              "[1247] \"bush\"    \"bush\"    \"bush\"    \"bush\"    \"bush\"    \"clinton\" \"bush\"   \n",
              "[1254] \"sai\"     \"clinton\" \"bush\"    \"bush\"    \"bush\"    \"bush\"    \"bush\"   \n",
              "[1261] \"bush\"    \"bush\"    \"bush\"    \"bush\"    \"bush\"    \"bush\"    \"sai\"    \n",
              "[1268] \"bush\"    \"clinton\" \"bush\"    \"bush\"    \"bush\"    \"clinton\" \"bush\"   \n",
              "[1275] \"bush\"    \"bush\"    \"bush\"    \"bush\"    \"bush\"    \"bush\"    \"clinton\"\n",
              "[1282] \"clinton\" \"bush\"    \"bush\"    \"bush\"    \"bush\"    \"bush\"    \"bush\"   \n",
              "[1289] \"bush\"    \"bush\"    \"clinton\" \"bush\"    \"bush\"    \"clinton\" \"bush\"   \n",
              "[1296] \"bush\"    \"abort\"   \"bush\"    \"bush\"    \"clinton\" \"bush\"    \"bush\"   \n",
              "[1303] \"bush\"    \"bush\"    \"bush\"    \"clinton\" \"bush\"    \"bush\"    \"bush\"   \n",
              "[1310] \"bush\"    \"clinton\" \"bush\"    \"bush\"    \"bush\"    \"bush\"    \"bush\"   \n",
              "[1317] \"bush\"    \"bush\"    \"bush\"    \"bush\"    \"bush\"    \"bush\"    \"bush\"   \n",
              "[1324] \"bush\"    \"sai\"     \"clinton\" \"bush\"    \"bush\"    \"bush\"    \"bush\"   \n",
              "[1331] \"bush\"    \"bush\"    \"bush\"    \"bush\"    \"bush\"    \"bush\"    \"bush\"   \n",
              "[1338] \"bush\"    \"sai\"     \"bush\"    \"bush\"    \"bush\"    \"bush\"    \"bush\"   \n",
              "[1345] \"bush\"    \"bush\"    \"bush\"    \"bush\"    \"bush\"    \"bush\"    \"bush\"   \n",
              "[1352] \"clinton\" \"bush\"    \"bush\"    \"bush\"    \"abort\"   \"clinton\" \"bush\"   \n",
              "[1359] \"bush\"    \"bush\"    \"bush\"    \"bush\"    \"clinton\" \"sai\"     \"clinton\"\n",
              "[1366] \"bush\"    \"sai\"     \"bush\"    \"bush\"    \"bush\"    \"bush\"    \"clinton\"\n",
              "[1373] \"bush\"    \"bush\"    \"bush\"    \"bush\"    \"bush\"    \"bush\"    \"bush\"   \n",
              "[1380] \"support\" \"bush\"    \"bush\"    \"bush\"    \"bush\"    \"bush\"    \"bush\"   \n",
              "[1387] \"clinton\" \"bush\"    \"bush\"    \"bush\"    \"bush\"    \"bush\"    \"bush\"   \n",
              "[1394] \"bush\"    \"bush\"    \"bush\"    \"bush\"    \"bush\"    \"bush\"    \"bush\"   \n",
              "[1401] \"bush\"    \"bush\"    \"bush\"    \"bush\"    \"clinton\" \"bush\"    \"bush\"   \n",
              "[1408] \"bush\"    \"bush\"    \"sai\"     \"bush\"    \"bush\"    \"bush\"    \"sai\"    \n",
              "[1415] \"sai\"     \"bush\"    \"bush\"    \"give\"    \"bush\"    \"bush\"    \"bush\"   \n",
              "[1422] \"sai\"     \"bush\"    \"bush\"    \"bush\"    \"bush\"    \"bush\"    \"bush\"   \n",
              "[1429] \"sai\"     \"bush\"    \"bush\"    \"bush\"    \"bush\"    \"bush\"    \"bush\"   \n",
              "[1436] \"bush\"    \"bush\"    \"bush\"    \"bush\"    \"bush\"    \"bush\"    \"clinton\"\n",
              "[1443] \"bush\"    \"bush\"    \"sai\"     \"bush\"    \"clinton\" \"bush\"    \"bush\"   \n",
              "[1450] \"give\"    \"clinton\" \"bush\"    \"bush\"    \"bush\"    \"bush\"    \"bush\"   \n",
              "[1457] \"abort\"   \"bush\"    \"clinton\" \"bush\"    \"bush\"    \"bush\"    \"clinton\"\n",
              "[1464] \"bush\"    \"bush\"    \"bush\"    \"bush\"    \"bush\"    \"bush\"    \"bush\"   \n",
              "[1471] \"bush\"    \"bush\"    \"clinton\" \"sai\"     \"bush\"    \"bush\"    \"bush\"   \n",
              "[1478] \"bush\"    \"bush\"    \"clinton\" \"bush\"    \"bush\"    \"bush\"    \"bush\"   \n",
              "[1485] \"bush\"    \"bush\"    \"sai\"     \"bush\"    \"sai\"     \"bush\"    \"bush\"   \n",
              "[1492] \"bush\"    \"bush\"    \"bush\"    \"bush\"    \"bush\"    \"bush\"    \"bush\"   \n",
              "[1499] \"bush\"    \"bush\"    \"bush\"    \"clinton\" \"bush\"    \"bush\"    \"bush\"   \n",
              "[1506] \"bush\"    \"bush\"    \"bush\"    \"bush\"    \"bush\"    \"bush\"    \"bush\"   \n",
              "[1513] \"sai\"     \"clinton\" \"bush\"    \"bush\"    \"bush\"    \"clinton\" \"bush\"   \n",
              "[1520] \"bush\"    \"bush\"    \"bush\"    \"bush\"    \"give\"    \"clinton\" \"bush\"   \n",
              "[1527] \"bush\"    \"bush\"    \"bush\"    \"bush\"    \"bush\"    \"bush\"    \"bush\"   \n",
              "[1534] \"bush\"    \"bush\"    \"bush\"    \"bush\"    \"bush\"    \"clinton\" \"bush\"   \n",
              "[1541] \"bush\"    \"clinton\" \"bush\"    \"bush\"    \"bush\"    \"bush\"    \"bush\"   \n",
              "[1548] \"bush\"    \"bush\"    \"bush\"    \"bush\"    \"bush\"    \"bush\"    \"bush\"   \n",
              "[1555] \"bush\"    \"bush\"    \"bush\"    \"bush\"    \"bush\"    \"bush\"    \"bush\"   \n",
              "[1562] \"sai\"     \"bush\"    \"clinton\" \"bush\"    \"bush\"    \"bush\"    \"clinton\"\n",
              "[1569] \"bush\"    \"bush\"    \"clinton\" \"bush\"    \"bush\"    \"bush\"    \"bush\"   \n",
              "[1576] \"bush\"    \"bush\"    \"bush\"    \"abort\"   \"bush\"    \"bush\"    \"bush\"   \n",
              "[1583] \"bush\"    \"bush\"    \"bush\"    \"bush\"    \"clinton\" \"bush\"    \"bush\"   \n",
              "[1590] \"bush\"    \"clinton\" \"sai\"     \"bush\"    \"bush\"    \"bush\"    \"bush\"   \n",
              "[1597] \"clinton\" \"bush\"    \"bush\"    \"bush\"    \"bush\"    \"bush\"    \"bush\"   \n",
              "[1604] \"bush\"    \"bush\"    \"bush\"    \"bush\"    \"bush\"    \"bush\"    \"clinton\"\n",
              "[1611] \"bush\"    \"bush\"    \"sai\"     \"sai\"     \"bush\"    \"bush\"    \"bush\"   \n",
              "[1618] \"bush\"    \"bush\"    \"bush\"    \"bush\"    \"give\"    \"bush\"    \"bush\"   \n",
              "[1625] \"bush\"    \"clinton\" \"bush\"    \"bush\"    \"bush\"    \"bush\"    \"bush\"   \n",
              "[1632] \"bush\"    \"bush\"    \"bush\"    \"bush\"    \"bush\"    \"bush\"    \"bush\"   \n",
              "[1639] \"bush\"    \"bush\"    \"bush\"    \"sai\"     \"abort\"   \"bush\"    \"abort\"  \n",
              "[1646] \"bush\"    \"bush\"    \"bush\"    \"bush\"    \"bush\"    \"clinton\" \"bush\"   \n",
              "[1653] \"bush\"    \"bush\"    \"clinton\" \"clinton\" \"bush\"    \"bush\"    \"bush\"   \n",
              "[1660] \"bush\"    \"bush\"    \"bush\"    \"bush\"    \"bush\"    \"abort\"   \"bush\"   \n",
              "[1667] \"bush\"    \"bush\"    \"bush\"    \"clinton\" \"bush\"    \"abort\"   \"bush\"   \n",
              "[1674] \"bush\"    \"bush\"    \"bush\"    \"bush\"    \"bush\"    \"bush\"    \"bush\"   \n",
              "[1681] \"bush\"    \"bush\"    \"bush\"    \"bush\"    \"bush\"    \"bush\"    \"clinton\"\n",
              "[1688] \"bush\"    \"bush\"    \"bush\"    \"sai\"     \"bush\"    \"bush\"    \"bush\"   \n",
              "[1695] \"clinton\" \"bush\"    \"give\"    \"bush\"    \"bush\"    \"bush\"    \"bush\"   \n",
              "[1702] \"bush\"    \"bush\"    \"bush\"    \"clinton\" \"bush\"    \"clinton\" \"clinton\"\n",
              "[1709] \"sai\"     \"bush\"    \"bush\"    \"clinton\" \"bush\"    \"give\"    \"bush\"   \n",
              "[1716] \"bush\"    \"bush\"    \"bush\"    \"bush\"    \"bush\"    \"bush\"    \"give\"   \n",
              "[1723] \"abort\"   \"bush\"    \"sai\"     \"bush\"    \"bush\"    \"bush\"    \"bush\"   \n",
              "[1730] \"bush\"    \"bush\"    \"bush\"    \"bush\"    \"bush\"    \"bush\"    \"clinton\"\n",
              "[1737] \"bush\"    \"bush\"    \"bush\"    \"bush\"    \"bush\"    \"abort\"   \"bush\"   \n",
              "[1744] \"bush\"    \"bush\"    \"bush\"    \"bush\"    \"bush\"    \"bush\"    \"bush\"   \n",
              "[1751] \"clinton\" \"bush\"    \"bush\"    \"bush\"    \"bush\"    \"bush\"    \"bush\"   \n",
              "[1758] \"bush\"    \"bush\"    \"bush\"    \"bush\"    \"bush\"    \"bush\"    \"bush\"   \n",
              "[1765] \"bush\"    \"bush\"    \"bush\"    \"bush\"    \"sai\"     \"bush\"    \"bush\"   \n",
              "[1772] \"bush\"    \"bush\"    \"bush\"    \"bush\"    \"bush\"    \"sai\"     \"bush\"   \n",
              "[1779] \"bush\"    \"bush\"    \"bush\"    \"bush\"    \"bush\"    \"bush\"    \"abort\"  \n",
              "[1786] \"bush\"    \"bush\"    \"bush\"    \"bush\"    \"bush\"    \"bush\"    \"bush\"   \n",
              "[1793] \"bush\"    \"bush\"    \"bush\"    \"bush\"    \"bush\"    \"bush\"    \"bush\"   \n",
              "[1800] \"bush\"    \"clinton\" \"bush\"    \"bush\"    \"clinton\" \"bush\"    \"bush\"   \n",
              "[1807] \"bush\"    \"bush\"    \"clinton\" \"bush\"    \"give\"    \"bush\"    \"bush\"   \n",
              "[1814] \"bush\"    \"bush\"    \"bush\"    \"bush\"    \"bush\"    \"bush\"    \"bush\"   \n",
              "[1821] \"bush\"    \"bush\"    \"bush\"    \"bush\"    \"bush\"    \"bush\"    \"bush\"   \n",
              "[1828] \"clinton\" \"bush\"    \"bush\"    \"bush\"    \"bush\"    \"sai\"     \"bush\"   \n",
              "[1835] \"bush\"    \"bush\"    \"bush\"    \"bush\"    \"bush\"    \"bush\"    \"abort\"  \n",
              "[1842] \"bush\"    \"bush\"    \"abort\"   \"bush\"    \"bush\"    \"bush\"    \"bush\"   \n",
              "[1849] \"bush\"    \"bush\"    \"bush\"    \"bush\"    \"bush\"    \"bush\"    \"bush\"   \n",
              "[1856] \"bush\"    \"bush\"    \"bush\"    \"bush\"    \"bush\"    \"bush\"    \"bush\"   \n",
              "[1863] \"clinton\" \"bush\"    \"bush\"    \"bush\"    \"bush\"    \"bush\"    \"bush\"   \n",
              "[1870] \"bush\"    \"bush\"    \"support\" \"bush\"    \"support\" \"abort\"   \"bush\"   \n",
              "[1877] \"bush\"    \"bush\"    \"bush\"    \"bush\"    \"bush\"    \"bush\"    \"bush\"   \n",
              "[1884] \"clinton\" \"bush\"    \"bush\"    \"bush\"    \"bush\"    \"bush\"    \"bush\"   \n",
              "[1891] \"bush\"    \"sai\"     \"bush\"    \"bush\"    \"bush\"    \"bush\"    \"bush\"   \n",
              "[1898] \"bush\"    \"bush\"    \"bush\"    \"bush\"    \"sai\"     \"bush\"    \"bush\"   \n",
              "[1905] \"bush\"    \"bush\"    \"bush\"    \"bush\"    \"clinton\" \"sai\"     \"bush\"   \n",
              "[1912] \"clinton\" \"abort\"   \"bush\"    \"bush\"    \"bush\"    \"bush\"    \"bush\"   \n",
              "[1919] \"bush\"    \"bush\"    \"bush\"    \"bush\"    \"bush\"    \"bush\"    \"clinton\"\n",
              "[1926] \"bush\"    \"bush\"    \"clinton\" \"bush\"    \"bush\"    \"bush\"    \"bush\"   \n",
              "[1933] \"clinton\" \"bush\"    \"sai\"     \"bush\"    \"bush\"    \"sai\"     \"abort\"  \n",
              "[1940] \"bush\"    \"bush\"    \"clinton\" \"bush\"    \"bush\"    \"bush\"    \"bush\"   \n",
              "[1947] \"bush\"    \"bush\"    \"sai\"     \"bush\"    \"bush\"    \"sai\"     \"bush\"   \n",
              "[1954] \"clinton\" \"bush\"    \"bush\"    \"bush\"    \"bush\"    \"bush\"    \"bush\"   \n",
              "[1961] \"clinton\" \"bush\"    \"clinton\" \"bush\"    \"bush\"    \"bush\"    \"bush\"   \n",
              "[1968] \"bush\"    \"sai\"     \"bush\"    \"bush\"    \"bush\"    \"clinton\" \"sai\"    \n",
              "[1975] \"bush\"    \"bush\"    \"clinton\" \"bush\"    \"bush\"    \"bush\"    \"bush\"   \n",
              "[1982] \"bush\"    \"bush\"    \"bush\"    \"bush\"    \"bush\"    \"bush\"    \"bush\"   \n",
              "[1989] \"bush\"    \"bush\"    \"bush\"    \"bush\"    \"clinton\" \"bush\"    \"bush\"   \n",
              "[1996] \"bush\"    \"bush\"    \"bush\"    \"bush\"    \"bush\"    \"bush\"    \"bush\"   \n",
              "[2003] \"bush\"    \"bush\"    \"bush\"    \"bush\"    \"sai\"     \"abort\"   \"bush\"   \n",
              "[2010] \"bush\"    \"bush\"    \"bush\"    \"sai\"     \"bush\"    \"bush\"    \"bush\"   \n",
              "[2017] \"bush\"    \"bush\"    \"bush\"    \"bush\"    \"bush\"    \"abort\"   \"bush\"   \n",
              "[2024] \"bush\"    \"bush\"    \"bush\"    \"bush\"    \"abort\"   \"bush\"    \"bush\"   \n",
              "[2031] \"bush\"    \"bush\"    \"bush\"    \"bush\"    \"bush\"    \"bush\"    \"sai\"    \n",
              "[2038] \"bush\"    \"bush\"    \"bush\"    \"bush\"    \"bush\"    \"bush\"    \"bush\"   \n",
              "[2045] \"bush\"    \"bush\"    \"bush\"    \"bush\"    \"bush\"    \"bush\"    \"bush\"   \n",
              "[2052] \"bush\"    \"bush\"    \"bush\"    \"bush\"    \"bush\"    \"bush\"    \"bush\"   \n",
              "[2059] \"bush\"    \"clinton\" \"bush\"    \"bush\"    \"bush\"    \"bush\"    \"bush\"   \n",
              "[2066] \"bush\"    \"bush\"    \"bush\"    \"bush\"    \"sai\"     \"bush\"    \"bush\"   \n",
              "[2073] \"bush\"    \"bush\"    \"bush\"    \"bush\"    \"bush\"    \"bush\"    \"bush\"   \n",
              "[2080] \"bush\"    \"bush\"    \"bush\"    \"sai\"     \"bush\"    \"bush\"    \"bush\"   \n",
              "[2087] \"bush\"    \"bush\"    \"abort\"   \"bush\"    \"bush\"    \"clinton\" \"bush\"   \n",
              "[2094] \"bush\"    \"bush\"    \"bush\"    \"bush\"    \"bush\"    \"bush\"    \"bush\"   \n",
              "[2101] \"bush\"    \"bush\"    \"bush\"    \"bush\"    \"bush\"    \"bush\"    \"bush\"   \n",
              "[2108] \"clinton\" \"bush\"    \"bush\"    \"bush\"    \"bush\"    \"bush\"    \"bush\"   \n",
              "[2115] \"bush\"    \"bush\"    \"bush\"    \"bush\"    \"bush\"    \"clinton\" \"bush\"   \n",
              "[2122] \"bush\"    \"bush\"    \"bush\"    \"bush\"    \"bush\"    \"bush\"    \"bush\"   \n",
              "[2129] \"bush\"    \"bush\"    \"bush\"    \"bush\"    \"bush\"    \"bush\"    \"bush\"   \n",
              "[2136] \"bush\"    \"bush\"    \"bush\"    \"sai\"     \"clinton\" \"bush\"    \"bush\"   \n",
              "[2143] \"bush\"    \"bush\"    \"bush\"    \"bush\"    \"bush\"    \"bush\"    \"bush\"   \n",
              "[2150] \"bush\"    \"bush\"    \"bush\"    \"bush\"    \"bush\"    \"bush\"    \"bush\"   \n",
              "[2157] \"bush\"    \"bush\"    \"bush\"    \"clinton\" \"bush\"    \"bush\"    \"bush\"   \n",
              "[2164] \"bush\"    \"bush\"    \"bush\"    \"clinton\" \"bush\"    \"bush\"    \"bush\"   \n",
              "[2171] \"bush\"    \"bush\"    \"bush\"    \"bush\"    \"bush\"    \"bush\"    \"bush\"   \n",
              "[2178] \"clinton\" \"bush\"    \"abort\"   \"bush\"    \"bush\"    \"bush\"    \"bush\"   \n",
              "[2185] \"bush\"    \"bush\"    \"bush\"    \"bush\"    \"bush\"    \"bush\"    \"clinton\"\n",
              "[2192] \"clinton\" \"bush\"    \"bush\"    \"bush\"    \"bush\"    \"bush\"    \"bush\"   \n",
              "[2199] \"clinton\" \"abort\"   \"bush\"    \"bush\"    \"bush\"    \"bush\"    \"bush\"   \n",
              "[2206] \"bush\"    \"bush\"    \"bush\"    \"give\"    \"clinton\" \"sai\"     \"bush\"   \n",
              "[2213] \"bush\"    \"bush\"    \"bush\"    \"bush\"    \"give\"    \"bush\"    \"bush\"   \n",
              "[2220] \"bush\"    \"bush\"    \"bush\"    \"clinton\" \"bush\"    \"give\"    \"bush\"   \n",
              "[2227] \"bush\"    \"bush\"    \"bush\"    \"bush\"    \"bush\"    \"bush\"    \"bush\"   \n",
              "[2234] \"bush\"    \"bush\"    \"bush\"    \"bush\"    \"bush\"    \"clinton\" \"bush\"   \n",
              "[2241] \"bush\"    \"bush\"    \"bush\"    \"bush\"    \"bush\"    \"bush\"    \"bush\"   \n",
              "[2248] \"bush\"    \"clinton\" \"bush\"    \"bush\"    \"clinton\" \"abort\"   \"bush\"   \n",
              "[2255] \"bush\"    \"bush\"    \"clinton\" \"bush\"    \"bush\"    \"bush\"    \"bush\"   \n",
              "[2262] \"bush\"    \"bush\"    \"bush\"    \"bush\"    \"bush\"    \"bush\"    \"bush\"   \n",
              "[2269] \"bush\"    \"sai\"     \"bush\"    \"bush\"    \"bush\"    \"bush\"    \"bush\"   \n",
              "[2276] \"bush\"    \"clinton\" \"bush\"    \"clinton\" \"bush\"    \"bush\"    \"bush\"   \n",
              "[2283] \"bush\"    \"sai\"     \"bush\"    \"bush\"    \"bush\"    \"bush\"    \"bush\"   \n",
              "[2290] \"bush\"    \"bush\"    \"bush\"    \"bush\"    \"bush\"    \"sai\"     \"bush\"   \n",
              "[2297] \"bush\"    \"clinton\" \"clinton\" \"clinton\" \"bush\"    \"bush\"    \"bush\"   \n",
              "[2304] \"bush\"    \"sai\"     \"bush\"    \"clinton\" \"bush\"    \"bush\"    \"bush\"   \n",
              "[2311] \"clinton\" \"sai\"     \"bush\"    \"abort\"   \"bush\"    \"bush\"    \"clinton\"\n",
              "[2318] \"bush\"    \"bush\"    \"bush\"    \"bush\"    \"give\"    \"bush\"    \"bush\"   \n",
              "[2325] \"bush\"    \"bush\"    \"bush\"    \"clinton\" \"bush\"    \"bush\"    \"bush\"   \n",
              "[2332] \"bush\"    \"clinton\" \"bush\"    \"bush\"    \"bush\"    \"bush\"    \"bush\"   \n",
              "[2339] \"sai\"     \"bush\"    \"clinton\" \"bush\"    \"bush\"    \"sai\"     \"bush\"   \n",
              "[2346] \"bush\"    \"bush\"    \"bush\"    \"bush\"    \"clinton\" \"bush\"    \"bush\"   \n",
              "[2353] \"bush\"    \"bush\"    \"bush\"    \"bush\"    \"give\"    \"bush\"    \"bush\"   \n",
              "[2360] \"bush\"    \"bush\"    \"bush\"    \"bush\"    \"clinton\" \"bush\"    \"bush\"   \n",
              "[2367] \"bush\"    \"bush\"    \"bush\"    \"bush\"    \"bush\"    \"clinton\" \"bush\"   \n",
              "[2374] \"sai\"     \"bush\"    \"bush\"    \"bush\"    \"bush\"    \"bush\"    \"bush\"   \n",
              "[2381] \"bush\"    \"bush\"    \"bush\"    \"bush\"    \"bush\"    \"bush\"    \"bush\"   \n",
              "[2388] \"bush\"    \"bush\"    \"bush\"    \"bush\"    \"bush\"    \"bush\"    \"bush\"   \n",
              "[2395] \"bush\"    \"bush\"    \"bush\"    \"bush\"    \"bush\"    \"bush\"    \"bush\"   \n",
              "[2402] \"bush\"    \"bush\"    \"bush\"    \"bush\"    \"bush\"    \"bush\"    \"bush\"   \n",
              "[2409] \"bush\"    \"bush\"    \"bush\"    \"bush\"    \"clinton\" \"clinton\" \"bush\"   \n",
              "[2416] \"bush\"    \"sai\"     \"bush\"    \"bush\"    \"bush\"    \"bush\"    \"bush\"   \n",
              "[2423] \"clinton\" \"bush\"    \"clinton\" \"clinton\" \"bush\"    \"bush\"    \"bush\"   \n",
              "[2430] \"bush\"    \"bush\"    \"bush\"    \"bush\"    \"bush\"    \"bush\"    \"bush\"   \n",
              "[2437] \"bush\"    \"bush\"    \"bush\"    \"bush\"    \"bush\"    \"bush\"    \"bush\"   \n",
              "[2444] \"bush\"    \"bush\"    \"bush\"    \"bush\"    \"bush\"    \"bush\"    \"bush\"   \n",
              "[2451] \"bush\"    \"bush\"    \"bush\"    \"sai\"     \"bush\"    \"bush\"    \"bush\"   \n",
              "[2458] \"bush\"    \"bush\"    \"bush\"    \"clinton\" \"bush\"    \"bush\"    \"bush\"   \n",
              "[2465] \"bush\"    \"bush\"    \"bush\"    \"clinton\" \"bush\"    \"bush\"    \"bush\"   \n",
              "[2472] \"bush\"    \"bush\"    \"bush\"    \"bush\"    \"bush\"    \"bush\"    \"clinton\"\n",
              "[2479] \"bush\"    \"bush\"    \"bush\"    \"bush\"    \"bush\"    \"bush\"    \"bush\"   \n",
              "[2486] \"bush\"    \"bush\"    \"bush\"    \"bush\"    \"bush\"    \"bush\"    \"bush\"   \n",
              "[2493] \"bush\"    \"bush\"    \"bush\"    \"bush\"    \"abort\"   \"clinton\" \"bush\"   \n",
              "[2500] \"bush\"    \"bush\"    \"clinton\" \"bush\"    \"bush\"    \"bush\"    \"bush\"   \n",
              "[2507] \"bush\"    \"give\"    \"bush\"    \"bush\"    \"bush\"    \"bush\"    \"clinton\"\n",
              "[2514] \"clinton\" \"bush\"    \"bush\"    \"clinton\" \"bush\"    \"bush\"    \"bush\"   \n",
              "[2521] \"bush\"    \"bush\"    \"bush\"    \"bush\"    \"bush\"    \"clinton\" \"clinton\"\n",
              "[2528] \"clinton\" \"bush\"    \"bush\"    \"bush\"    \"bush\"    \"bush\"    \"bush\"   \n",
              "[2535] \"clinton\" \"bush\"    \"bush\"    \"bush\"    \"bush\"    \"abort\"   \"bush\"   \n",
              "[2542] \"bush\"    \"bush\"    \"bush\"    \"bush\"    \"bush\"    \"bush\"    \"bush\"   \n",
              "[2549] \"clinton\" \"clinton\" \"bush\"    \"bush\"    \"sai\"     \"bush\"    \"sai\"    \n",
              "[2556] \"bush\"    \"bush\"    \"clinton\" \"bush\"    \"bush\"    \"bush\"    \"clinton\"\n",
              "[2563] \"abort\"   \"bush\"    \"clinton\" \"support\" \"bush\"    \"bush\"    \"bush\"   \n",
              "[2570] \"bush\"    \"bush\"    \"bush\"    \"bush\"    \"bush\"    \"bush\"    \"bush\"   \n",
              "[2577] \"bush\"    \"clinton\" \"clinton\" \"bush\"    \"bush\"    \"bush\"    \"clinton\"\n",
              "[2584] \"bush\"    \"clinton\" \"give\"    \"bush\"    \"clinton\" \"bush\"    \"bush\"   \n",
              "[2591] \"clinton\" \"bush\"    \"bush\"    \"bush\"    \"bush\"    \"bush\"    \"bush\"   \n",
              "[2598] \"bush\"    \"bush\"    \"bush\"    \"bush\"    \"bush\"    \"bush\"    \"bush\"   \n",
              "[2605] \"bush\"    \"bush\"    \"bush\"    \"bush\"    \"bush\"    \"bush\"    \"bush\"   \n",
              "[2612] \"bush\"    \"give\"    \"bush\"    \"bush\"    \"bush\"    \"clinton\" \"bush\"   \n",
              "[2619] \"clinton\" \"clinton\" \"bush\"    \"bush\"    \"bush\"    \"bush\"    \"bush\"   \n",
              "[2626] \"bush\"    \"bush\"    \"bush\"    \"bush\"    \"bush\"    \"clinton\" \"sai\"    \n",
              "[2633] \"bush\"    \"bush\"    \"bush\"    \"clinton\" \"bush\"    \"bush\"    \"bush\"   \n",
              "[2640] \"abort\"   \"bush\"    \"bush\"    \"bush\"    \"bush\"    \"bush\"    \"abort\"  \n",
              "[2647] \"bush\"    \"bush\"    \"clinton\" \"bush\"    \"clinton\" \"bush\"    \"bush\"   \n",
              "[2654] \"abort\"   \"bush\"    \"bush\"    \"bush\"    \"give\"    \"bush\"    \"bush\"   \n",
              "[2661] \"bush\"    \"sai\"     \"clinton\" \"bush\"    \"abort\"   \"give\"    \"bush\"   \n",
              "[2668] \"clinton\" \"bush\"    \"abort\"   \"clinton\" \"bush\"    \"bush\"    \"bush\"   \n",
              "[2675] \"bush\"    \"bush\"    \"bush\"    \"bush\"    \"bush\"    \"bush\"    \"bush\"   \n",
              "[2682] \"bush\"    \"sai\"     \"clinton\" \"bush\"    \"bush\"    \"bush\"    \"bush\"   \n",
              "[2689] \"sai\"     \"bush\"    \"bush\"    \"bush\"    \"bush\"    \"give\"    \"sai\"    \n",
              "[2696] \"clinton\" \"sai\"     \"bush\"    \"bush\"    \"clinton\" \"bush\"    \"bush\"   \n",
              "[2703] \"bush\"    \"bush\"    \"bush\"    \"clinton\" \"bush\"    \"bush\"    \"sai\"    \n",
              "[2710] \"bush\"    \"bush\"    \"clinton\" \"bush\"    \"clinton\" \"bush\"    \"bush\"   \n",
              "[2717] \"bush\"    \"bush\"    \"bush\"    \"bush\"    \"bush\"    \"bush\"    \"sai\"    \n",
              "[2724] \"bush\"    \"bush\"    \"bush\"    \"bush\"    \"bush\"    \"bush\"    \"bush\"   \n",
              "[2731] \"sai\"     \"abort\"   \"bush\"    \"bush\"    \"bush\"    \"bush\"    \"bush\"   \n",
              "[2738] \"bush\"    \"bush\"    \"bush\"    \"bush\"    \"bush\"    \"sai\"     \"bush\"   \n",
              "[2745] \"bush\"    \"bush\"    \"bush\"    \"bush\"    \"bush\"    \"bush\"    \"bush\"   \n",
              "[2752] \"bush\"    \"bush\"    \"bush\"    \"bush\"    \"sai\"     \"bush\"    \"bush\"   \n",
              "[2759] \"bush\"    \"bush\"    \"bush\"    \"bush\"    \"bush\"    \"bush\"    \"bush\"   \n",
              "[2766] \"bush\"    \"bush\"    \"bush\"    \"sai\"     \"bush\"    \"bush\"    \"bush\"   \n",
              "[2773] \"bush\"    \"bush\"    \"bush\"    \"bush\"    \"bush\"    \"bush\"    \"bush\"   \n",
              "[2780] \"bush\"    \"bush\"    \"bush\"    \"bush\"    \"bush\"    \"bush\"    \"bush\"   \n",
              "[2787] \"bush\"    \"bush\"    \"bush\"    \"bush\"    \"bush\"    \"bush\"    \"bush\"   \n",
              "[2794] \"bush\"    \"bush\"    \"bush\"    \"bush\"    \"bush\"    \"clinton\" \"clinton\"\n",
              "[2801] \"sai\"     \"bush\"    \"bush\"    \"sai\"     \"bush\"    \"bush\"    \"bush\"   \n",
              "[2808] \"bush\"    \"bush\"    \"sai\"     \"bush\"    \"bush\"    \"bush\"    \"bush\"   \n",
              "[2815] \"clinton\" \"abort\"   \"bush\"    \"bush\"    \"bush\"    \"bush\"    \"bush\"   \n",
              "[2822] \"bush\"    \"bush\"    \"bush\"    \"bush\"    \"bush\"    \"abort\"   \"bush\"   \n",
              "[2829] \"bush\"    \"bush\"    \"bush\"    \"bush\"    \"bush\"    \"bush\"    \"abort\"  \n",
              "[2836] \"bush\"    \"bush\"    \"bush\"    \"bush\"    \"bush\"    \"bush\"    \"bush\"   \n",
              "[2843] \"bush\"    \"bush\"    \"bush\"    \"bush\"    \"bush\"    \"bush\"    \"bush\"   \n",
              "[2850] \"bush\"    \"bush\"    \"bush\"    \"clinton\" \"bush\"    \"bush\"    \"clinton\"\n",
              "[2857] \"bush\"    \"abort\"   \"clinton\" \"bush\"    \"bush\"    \"bush\"    \"give\"   \n",
              "[2864] \"bush\"    \"bush\"    \"clinton\" \"bush\"    \"bush\"    \"bush\"    \"clinton\"\n",
              "[2871] \"bush\"    \"bush\"    \"clinton\" \"clinton\" \"bush\"    \"bush\"    \"bush\"   \n",
              "[2878] \"bush\"    \"bush\"    \"bush\"    \"clinton\" \"bush\"    \"bush\"    \"bush\"   \n",
              "[2885] \"clinton\" \"bush\"    \"bush\"    \"bush\"    \"bush\"    \"bush\"    \"bush\"   \n",
              "[2892] \"bush\"    \"bush\"    \"bush\"    \"bush\"    \"bush\"    \"bush\"    \"sai\"    \n",
              "[2899] \"bush\"    \"bush\"    \"bush\"    \"abort\"   \"bush\"    \"bush\"    \"bush\"   \n",
              "[2906] \"bush\"    \"bush\"    \"sai\"     \"bush\"    \"clinton\" \"abort\"   \"bush\"   \n",
              "[2913] \"bush\"    \"clinton\" \"bush\"    \"clinton\" \"abort\"   \"bush\"    \"bush\"   \n",
              "[2920] \"sai\"     \"bush\"    \"bush\"    \"bush\"    \"bush\"    \"bush\"    \"bush\"   \n",
              "[2927] \"bush\"    \"clinton\" \"bush\"    \"bush\"    \"abort\"   \"bush\"    \"clinton\"\n",
              "[2934] \"bush\"    \"clinton\" \"bush\"    \"bush\"    \"clinton\" \"sai\"     \"bush\"   \n",
              "[2941] \"bush\"    \"clinton\" \"bush\"    \"bush\"    \"bush\"    \"bush\"    \"bush\"   \n",
              "[2948] \"bush\"    \"bush\"    \"bush\"    \"bush\"    \"bush\"    \"bush\"    \"bush\"   \n",
              "[2955] \"bush\"    \"bush\"    \"bush\"    \"bush\"    \"bush\"    \"clinton\" \"give\"   \n",
              "[2962] \"bush\"    \"abort\"   \"bush\"    \"sai\"     \"bush\"    \"bush\"    \"sai\"    \n",
              "[2969] \"bush\"    \"bush\"    \"clinton\" \"bush\"    \"bush\"    \"bush\"    \"give\"   \n",
              "[2976] \"bush\"    \"clinton\" \"bush\"    \"bush\"    \"bush\"    \"bush\"    \"bush\"   \n",
              "[2983] \"clinton\" \"bush\"    \"bush\"    \"sai\"     \"bush\"    \"sai\"     \"bush\"   \n",
              "[2990] \"bush\"    \"bush\"    \"bush\"    \"bush\"    \"abort\"   \"bush\"    \"sai\"    \n",
              "[2997] \"bush\"    \"bush\"    \"bush\"    \"bush\"    \"bush\"    \"bush\"    \"bush\"   \n",
              "[3004] \"bush\"    \"bush\"    \"bush\"    \"bush\"    \"bush\"    \"bush\"    \"clinton\"\n",
              "[3011] \"bush\"    \"bush\"    \"bush\"    \"bush\"    \"bush\"    \"clinton\" \"bush\"   \n",
              "[3018] \"bush\"    \"clinton\" \"abort\"   \"bush\"    \"clinton\" \"bush\"    \"sai\"    \n",
              "[3025] \"bush\"    \"bush\"    \"bush\"    \"sai\"     \"sai\"     \"bush\"    \"bush\"   \n",
              "[3032] \"bush\"    \"bush\"    \"bush\"    \"bush\"    \"bush\"    \"bush\"    \"bush\"   \n",
              "[3039] \"bush\"    \"bush\"    \"bush\"    \"bush\"    \"bush\"    \"bush\"    \"bush\"   \n",
              "[3046] \"sai\"     \"bush\"    \"bush\"    \"clinton\" \"clinton\" \"clinton\" \"bush\"   \n",
              "[3053] \"bush\"    \"bush\"    \"bush\"    \"bush\"    \"bush\"    \"bush\"    \"bush\"   \n",
              "[3060] \"bush\"    \"bush\"    \"bush\"    \"bush\"    \"bush\"    \"bush\"    \"sai\"    \n",
              "[3067] \"bush\"    \"bush\"    \"bush\"    \"bush\"   "
            ]
          },
          "metadata": {}
        }
      ]
    },
    {
      "cell_type": "code",
      "source": [
        "# Calculate accuracy\n",
        "accuracy <- sum(Y_test_pred == Y_test) / length(Y_test)\n",
        "accuracy\n"
      ],
      "metadata": {
        "colab": {
          "base_uri": "https://localhost:8080/",
          "height": 34
        },
        "id": "4AvH8WERZFCB",
        "outputId": "ee5a2db2-e857-4e4c-ef94-3122b8ac908c"
      },
      "execution_count": null,
      "outputs": [
        {
          "output_type": "display_data",
          "data": {
            "text/html": [
              "0"
            ],
            "text/markdown": "0",
            "text/latex": "0",
            "text/plain": [
              "[1] 0"
            ]
          },
          "metadata": {}
        }
      ]
    },
    {
      "cell_type": "markdown",
      "source": [
        "## **3.2 - R Package e1071**"
      ],
      "metadata": {
        "id": "9x4rbYSfR7eq"
      }
    },
    {
      "cell_type": "code",
      "source": [
        "convert_counts <- function(x){x <- ifelse(x>0,\"Yes\",\"No\") }\n",
        "x_train <-  apply(X_train ,  MARGIN = 2,convert_counts)\n",
        "x_test  <-  apply(X_test  ,  MARGIN = 2,convert_counts)"
      ],
      "metadata": {
        "id": "xjpmZ_b2h2Wa"
      },
      "execution_count": 227,
      "outputs": []
    },
    {
      "cell_type": "code",
      "source": [
        "NBC <- naiveBayes(x_train, Y_train) #Navive Bayesian Classifer\n",
        "\n",
        "Y_train_pred <- predict(NBC, x_train)\n",
        "Y_pred       <- predict(NBC, x_test)"
      ],
      "metadata": {
        "id": "kOYbtdvgh4Om"
      },
      "execution_count": 228,
      "outputs": []
    },
    {
      "cell_type": "code",
      "source": [
        "table_train <- table(Y_train_pred, Y_train)\n",
        "table_train\n",
        "\n",
        "# Calculate train accuracy\n",
        "train_accuracy <- sum(diag(table_train)) / sum(table_train)\n",
        "\n",
        "# Calculate test accuracy\n",
        "table_test <- table(Y_pred, Y_test)\n",
        "test_accuracy <- sum(diag(table_test)) / sum(table_test)\n",
        "\n",
        "cat(\"Train accuracy:\", train_accuracy)\n",
        "cat(\"\\nTest accuracy:\", test_accuracy)\n"
      ],
      "metadata": {
        "colab": {
          "base_uri": "https://localhost:8080/",
          "height": 191
        },
        "id": "yPoRrm5Uh76f",
        "outputId": "3ee9096d-eb77-46d5-b818-f5358dc9bb03"
      },
      "execution_count": 229,
      "outputs": [
        {
          "output_type": "display_data",
          "data": {
            "text/plain": [
              "            Y_train\n",
              "Y_train_pred   0   1   2   3   4   5\n",
              "           0  91  69  62  52  45  34\n",
              "           1 201 551 290 334 285 236\n",
              "           2  95 175 306 177 140 111\n",
              "           3  85 211 174 423 218 171\n",
              "           4  66 234 217 304 488 304\n",
              "           5  56 150 119 180 198 318"
            ]
          },
          "metadata": {}
        },
        {
          "output_type": "stream",
          "name": "stdout",
          "text": [
            "Train accuracy: 0.3036262\n",
            "Test accuracy: 0.2410423"
          ]
        }
      ]
    },
    {
      "cell_type": "markdown",
      "source": [
        "# NaiveBayes classifer from fastnaive library"
      ],
      "metadata": {
        "id": "ZoqtReCyiAjH"
      }
    },
    {
      "cell_type": "code",
      "source": [
        "# Install and load the required package\n",
        "install.packages(\"fastNaiveBayes\")\n",
        "library(fastNaiveBayes)\n",
        "\n",
        "# Train the model\n",
        "fast.NBC <- fnb.multinomial(X_train, Y_train)\n",
        "\n",
        "# Make predictions on the training and test sets\n",
        "Y_train_pred <- predict(fast.NBC, X_train)\n",
        "Y_pred <- predict(fast.NBC, X_test)\n",
        "\n",
        "# Calculate train accuracy\n",
        "train_accuracy <- sum(Y_train_pred == Y_train) / length(Y_train)\n",
        "\n",
        "# Calculate test accuracy\n",
        "test_accuracy <- sum(Y_pred == Y_test) / length(Y_test)\n",
        "\n",
        "cat(\"Train accuracy:\", train_accuracy)\n",
        "cat(\"\\nTest accuracy:\", test_accuracy)\n",
        "\n"
      ],
      "metadata": {
        "colab": {
          "base_uri": "https://localhost:8080/"
        },
        "id": "lr5BeAqmiB99",
        "outputId": "9c70079f-1159-4665-ebab-2a5c5a1e443e"
      },
      "execution_count": 230,
      "outputs": [
        {
          "output_type": "stream",
          "name": "stderr",
          "text": [
            "Installing package into ‘/usr/local/lib/R/site-library’\n",
            "(as ‘lib’ is unspecified)\n",
            "\n"
          ]
        },
        {
          "output_type": "stream",
          "name": "stdout",
          "text": [
            "Train accuracy: 0.292887\n",
            "Test accuracy: 0.2270358"
          ]
        }
      ]
    },
    {
      "cell_type": "code",
      "source": [
        "#nbc_model <- naiveBayes(X_train, Y_train)"
      ],
      "metadata": {
        "id": "3biDCr9NkE-R"
      },
      "execution_count": null,
      "outputs": []
    },
    {
      "cell_type": "code",
      "source": [
        "# TEST\n",
        "#predictions_test <- predict(nbc_model, X_test)\n",
        "#accuracy_test    <- sum(predictions_test == Y_test) / length(predictions_test)\n",
        "#cat(\"Accuracy on the test set:\", accuracy_test, \"\\n\")"
      ],
      "metadata": {
        "id": "GIt-DS9VkG3J"
      },
      "execution_count": null,
      "outputs": []
    },
    {
      "cell_type": "code",
      "source": [
        "#label_accuracy <- sapply(unique(Y_test), function(label) {\n",
        "#  true_indices <- Y_test == label\n",
        "#  predicted_labels <- predictions_test[true_indices]\n",
        "#  true_labels <- Y_test[true_indices]\n",
        "#  accuracy <- sum(predicted_labels == true_labels) / length(predicted_labels)\n",
        "#  accuracy\n",
        "#})\n",
        "\n",
        "# Print the accuracy for each label\n",
        "#cat(\"Accuracy for each label in the test set:\\n\")\n",
        "#for (i in 1:length(unique(Y_test))) {\n",
        "#  cat(\"Label\", i, \": \", label_accuracy[i], \"\\n\")\n",
        "#}"
      ],
      "metadata": {
        "id": "wCQBsF6CDicB"
      },
      "execution_count": null,
      "outputs": []
    },
    {
      "cell_type": "markdown",
      "source": [
        "# **4 - Part 2: Bionominal & Continuous**"
      ],
      "metadata": {
        "id": "4e0YE-d4zGKd"
      }
    },
    {
      "cell_type": "markdown",
      "source": [
        "\n",
        "##4.1Bionominal & Continuous**"
      ],
      "metadata": {
        "id": "Uh0TvcNUjNWz"
      }
    },
    {
      "cell_type": "code",
      "source": [
        "DF <- read.csv(\"train.csv\")"
      ],
      "metadata": {
        "id": "YbP1S0haiU--"
      },
      "execution_count": 223,
      "outputs": []
    },
    {
      "cell_type": "code",
      "source": [
        "#=======filtering the dataset keeping just the label 5:true and 1:false========#\n",
        "\n",
        "label.list <- c(1,5)   #the labels:0,1,2,3,4,5\n",
        "\n",
        "#==============================================================================#\n",
        "\n",
        "options(repr.plot.width=5, repr.plot.height =3)    #changing size of plots\n",
        "df <- DF[DF$Labels %in% label.list, ] #the labels:0,1,2,3,4,5\n",
        "cat(\"filtered dataset size:\", nrow(df))\n",
        "hm <- hist(df$Labels, plot = FALSE)  #saving for later use in the predictor function\n"
      ],
      "metadata": {
        "colab": {
          "base_uri": "https://localhost:8080/"
        },
        "id": "wRYffDlEiXAO",
        "outputId": "923d35b9-5b25-4702-ae7b-0343a0134ab2"
      },
      "execution_count": 231,
      "outputs": [
        {
          "output_type": "stream",
          "name": "stdout",
          "text": [
            "filtered dataset size: 3671"
          ]
        }
      ]
    },
    {
      "cell_type": "code",
      "source": [
        "install.packages(\"gmodels\")\n",
        "\n",
        "library(gmodels)"
      ],
      "metadata": {
        "colab": {
          "base_uri": "https://localhost:8080/"
        },
        "id": "ooVKzHV7kRnH",
        "outputId": "ee80a0ed-0f41-42f6-e50a-aa358ec34dde"
      },
      "execution_count": 232,
      "outputs": [
        {
          "output_type": "stream",
          "name": "stderr",
          "text": [
            "Installing package into ‘/usr/local/lib/R/site-library’\n",
            "(as ‘lib’ is unspecified)\n",
            "\n"
          ]
        }
      ]
    },
    {
      "cell_type": "code",
      "source": [
        "# Define or load the necessary function df_cleaner()\n",
        "df_cleaner <- function(df, threshold, minfreq, binom) {\n",
        "  # Implementation of df_cleaner function\n",
        "  cleaned_df <- df  # Placeholder, replace with actual cleaning logic\n",
        "  # ...\n",
        "  # Return the cleaned dataframe\n",
        "  return(cleaned_df)\n",
        "}\n",
        "\n",
        "# Define or load the necessary functions for train/test splitting, training, and prediction\n",
        "train_test_splitter <- function(data, test_ratio, SEED) {\n",
        "  # Set the seed for reproducibility\n",
        "  set.seed(SEED)\n",
        "\n",
        "  # Generate random indices for train and test split\n",
        "  indices <- sample(nrow(data), size = floor(test_ratio * nrow(data)))\n",
        "\n",
        "  # Split the data into train and test sets\n",
        "  train_set <- data[-indices, ]\n",
        "  test_set <- data[indices, ]\n",
        "\n",
        "  # Split the features and labels\n",
        "  X_train <- train_set[, -ncol(train_set)]\n",
        "  Y_train <- train_set[, ncol(train_set)]\n",
        "  X_test <- test_set[, -ncol(test_set)]\n",
        "  Y_test <- test_set[, ncol(test_set)]\n",
        "\n",
        "  # Return the train and test datasets\n",
        "  return(list(X_train, X_test, Y_train, Y_test))\n",
        "}\n",
        "\n",
        "Train <- function(X_train, Y_train) {\n",
        "  # Implementation of the training function\n",
        "  # Train the Naive Bayes model using X_train and Y_train\n",
        "  model <- naiveBayes(X_train, Y_train)\n",
        "  # Return the trained model\n",
        "  return(model)\n",
        "}\n",
        "\n",
        "Predict <- function(model, data) {\n",
        "  # Implementation of the prediction function\n",
        "  # Predict labels using the Naive Bayes model\n",
        "  predicted_labels <- predict(model, newdata = data)\n",
        "  # Return the predicted labels\n",
        "  return(predicted_labels)\n",
        "}\n",
        "\n",
        "# Clean the dataframe\n",
        "df_dtm <- df_cleaner(df, threshold = 0.3, minfreq = 10, binom = TRUE)\n",
        "\n",
        "# Split the data into train and test sets\n",
        "data_splits <- train_test_splitter(df_dtm, test_ratio = 0.15, SEED = 5)\n",
        "X_train <- data_splits[[1]]\n",
        "X_test <- data_splits[[2]]\n",
        "Y_train <- data_splits[[3]]\n",
        "Y_test <- data_splits[[4]]\n",
        "\n",
        "# Train the Naive Bayes classifier\n",
        "nbc <- Train(X_train, Y_train)\n",
        "\n",
        "# Make predictions on the training and test sets\n",
        "Y_pred_train <- Predict(nbc, X_train)\n",
        "Y_pred <- Predict(nbc, X_test)\n"
      ],
      "metadata": {
        "id": "3q5LZZrtioOV"
      },
      "execution_count": 233,
      "outputs": []
    },
    {
      "cell_type": "code",
      "source": [
        "# Calculate accuracy\n",
        "train_accuracy <- sum(Y_train == Y_pred_train) / length(Y_train)\n",
        "test_accuracy <- sum(Y_test == Y_pred) / length(Y_test)\n",
        "\n",
        "# Print accuracy\n",
        "cat(\"Train accuracy:\", train_accuracy)\n",
        "cat(\"\\nTest accuracy:\", test_accuracy)\n"
      ],
      "metadata": {
        "colab": {
          "base_uri": "https://localhost:8080/"
        },
        "id": "1iliPf-eitRt",
        "outputId": "0b7cb317-f9eb-46b2-b819-3bc9cf2bedbc"
      },
      "execution_count": 234,
      "outputs": [
        {
          "output_type": "stream",
          "name": "stdout",
          "text": [
            "Train accuracy: 0.08586991\n",
            "Test accuracy: 0.005454545"
          ]
        }
      ]
    },
    {
      "cell_type": "markdown",
      "source": [
        "# Conclusion\n",
        "In this project, our aim was to develop a Naive Bayes Classifier to differentiate between trustworthy and unreliable news articles. Initially, we implemented a multinomial classifier and created the training and prediction components. The training dataset was utilized to construct a model, which was then employed to test new samples using our predict function. While we observed some improvement when transitioning from a multinomial to a binomial scenario, the achieved accuracy in both cases was not satisfactorily high. We believe that obtaining a larger dataset would be beneficial to enhance the accuracy of the model by enabling more comprehensive training."
      ],
      "metadata": {
        "id": "jWskhOZvMDEQ"
      }
    },
    {
      "cell_type": "markdown",
      "source": [
        "# TEST"
      ],
      "metadata": {
        "id": "7iEjkiftNd7c"
      }
    }
  ],
  "metadata": {
    "colab": {
      "provenance": [],
      "collapsed_sections": [
        "_GBcYlrsz-Ry",
        "-LmC33XgUQ2K",
        "y6-JiESMSI7N",
        "Q-yvdDV4Y19T",
        "aUkvYesMkj4J"
      ],
      "include_colab_link": true
    },
    "kernelspec": {
      "display_name": "R",
      "name": "ir"
    },
    "language_info": {
      "name": "R"
    }
  },
  "nbformat": 4,
  "nbformat_minor": 0
}