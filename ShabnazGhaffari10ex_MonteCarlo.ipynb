{
 "cells": [
  {
   "cell_type": "markdown",
   "metadata": {},
   "source": [
    "1\\. **Radioactive decay chain**\n",
    "\n",
    "${\\rm Tl}^{208}$ decays to ${\\rm Pb}^{208}$ with a half-lieve of 3.052 minutes. Suppose to start with a sample of 1000 Thallium atoms and 0 of Lead atoms.\n",
    "\n",
    "* Take steps in time of 1 second and at each time-step decide whether each Tl atom has decayed or not, accordingly to the probability $p(t)=1-2^{-t/\\tau}$. Subtract the total number of Tl atoms that decayed at each step from the Tl sample and add them to the Lead one. Plot the evolution of the two sets as a function of time  \n",
    "* Repeat the exercise by means of the inverse transform method: draw 1000 random numbers from the non-uniform probability distribution $p(t)=2^{-t/\\tau}\\frac{\\ln 2}{\\tau}$ to represent the times of decay of the 1000 Tl atoms. Make a plot showing the number of atoms that have not decayed as a function of time"
   ]
  },
  {
   "cell_type": "code",
   "execution_count": 1,
   "metadata": {},
   "outputs": [],
   "source": [
    "import numpy as np\n",
    "import matplotlib.pyplot as plt\n",
    "import numpy.random as rnd"
   ]
  },
  {
   "cell_type": "code",
   "execution_count": 3,
   "metadata": {},
   "outputs": [
    {
     "data": {
      "text/plain": [
       "Text(0, 0.5, 'N')"
      ]
     },
     "execution_count": 3,
     "metadata": {},
     "output_type": "execute_result"
    },
    {
     "data": {
      "image/png": "[encoded data removed]",
      "text/plain": [
       "<Figure size 432x288 with 1 Axes>"
      ]
     },
     "metadata": {
      "needs_background": "light"
     },
     "output_type": "display_data"
    }
   ],
   "source": [
    "time = 1500\n",
    "Tln = 1000\n",
    "Pbn = 0\n",
    "t = 1\n",
    "tau = 3.052*60 \n",
    "prob = 1 - 2**(-t/tau)\n",
    "\n",
    "\n",
    "\n",
    "Tl_ev = []\n",
    "Pb_ev = []\n",
    "times=[]\n",
    "for i in range(time):\n",
    "    Tl_ev.append(Tln)\n",
    "    Pb_ev.append(Pbn)\n",
    "    times.append(i)\n",
    "    Tl = np.random.uniform(0,1,size=Tln)\n",
    "    Tln = len( Tl[prob-Tl <= 0] )\n",
    "    Pbn= Pbn + len( Tl[prob -Tl> 0] )\n",
    "\n",
    "        \n",
    "labels = ['T l','Pb']\n",
    "plt.plot( times, Tl_ev )\n",
    "plt.plot( times, Pb_ev )\n",
    "plt.legend(labels)\n",
    "plt.xlabel('Time Step')\n",
    "plt.ylabel('N')\n"
   ]
  },
  {
   "cell_type": "code",
   "execution_count": 88,
   "metadata": {},
   "outputs": [
    {
     "data": {
      "text/plain": [
       "Text(0.5, 0, 'time step')"
      ]
     },
     "execution_count": 88,
     "metadata": {},
     "output_type": "execute_result"
    },
    {
     "data": {
      "image/png": "[encoded data removed]",
      "text/plain": [
       "<Figure size 432x288 with 1 Axes>"
      ]
     },
     "metadata": {
      "needs_background": "light"
     },
     "output_type": "display_data"
    }
   ],
   "source": [
    "def rev(p, mu=np.log(2)/tau):\n",
    "    return -np.log(1-p)/mu\n",
    "\n",
    "x = np.random.uniform(0, 1,1000)\n",
    "t=rev(x)\n",
    "plt.hist(t,bins=40,cumulative=-1)[2]\n",
    "plt.plot(times,Tl_ev,c=\"r\",label=\"First Method\")\n",
    "plt.ylabel('num Tl')\n",
    "plt.xlabel('time step')\n"
   ]
  },
  {
   "cell_type": "markdown",
   "metadata": {},
   "source": [
    "2\\. **Rutherford Scattering**\n",
    "\n",
    "The scattering angle $\\theta$ of $\\alpha$ particles hitting a positively charged nucleus of a Gold atom ($Z=79$) follows the rule:\n",
    "\n",
    "$$\n",
    "\\tan{\\frac{1}{2} \\theta} = \\frac{Z e^2} {2\\pi \\epsilon_0 E b}\n",
    "$$\n",
    "\n",
    "where $E=7.7$ MeV and $b$ beam is the impact parameter. The beam is represented by a 2D gaussian distribution with $\\sigma=a_0/100$ for both coordinates ($a_0$ being the Bohr radius). Assume 1 million $\\alpha$ particles are shot on the gold atom.\n",
    "\n",
    "Computing the fraction of particles that \"bounce back\",i.e. those particle whose scattering angle is greater than $\\pi/2$ (which set a condition on the impact parameter $b$)"
   ]
  },
  {
   "cell_type": "code",
   "execution_count": 30,
   "metadata": {},
   "outputs": [
    {
     "name": "stdout",
     "output_type": "stream",
     "text": [
      "Fraction greater than  𝜋/2:  0.001531\n"
     ]
    }
   ],
   "source": [
    "alpha=10**6\n",
    "Z=79\n",
    "e=1.60217*(10**-19)\n",
    "E=7.7*(10**6)*e\n",
    "epsilon_0=8.85419*(10**-12)\n",
    "a0=5.29177*(10**-11)\n",
    "n=np.random.rand(alpha)\n",
    "b=np.sqrt( (-2)*( a0/100 )**(2) * np.log( 1-n ) )\n",
    "angle=2*np.arctan( Z*e**2 / (2*np.pi*epsilon_0*E*b ) )\n",
    "f=sum(1 if a > np.pi/2 else 0 for a in angle)/alpha\n",
    "print('Fraction greater than  𝜋/2: ', f)"
   ]
  },
  {
   "cell_type": "markdown",
   "metadata": {},
   "source": [
    "3\\. **Monte Carlo integration: hit/miss vs mean value method**\n",
    "\n",
    "Consider the function \n",
    "\n",
    "$$f(x) =\\sin^2{\\frac{1}{x(2-x)}}$$\n",
    "\n",
    "* Compute the integral of $f(x)$ between 0 and 2 with the hit/miss method. Evaluate the error of your estimate\n",
    "* Repeat the integral with the mean value method. Evaluate the error and compare it with the previous one"
   ]
  },
  {
   "cell_type": "code",
   "execution_count": 55,
   "metadata": {},
   "outputs": [
    {
     "name": "stderr",
     "output_type": "stream",
     "text": [
      "/Users/roshana/anaconda3/lib/python3.7/site-packages/ipykernel_launcher.py:3: RuntimeWarning: divide by zero encountered in true_divide\n",
      "  This is separate from the ipykernel package so we can avoid doing imports until\n",
      "/Users/roshana/anaconda3/lib/python3.7/site-packages/ipykernel_launcher.py:3: RuntimeWarning: invalid value encountered in sin\n",
      "  This is separate from the ipykernel package so we can avoid doing imports until\n",
      "/Users/roshana/anaconda3/lib/python3.7/site-packages/ipykernel_launcher.py:8: IntegrationWarning: The occurrence of roundoff error is detected, which prevents \n",
      "  the requested tolerance from being achieved.  The error may be \n",
      "  underestimated.\n",
      "  \n"
     ]
    },
    {
     "name": "stdout",
     "output_type": "stream",
     "text": [
      "True value with scipy= 1.4514015822549398\n",
      "Value Monte Carlo integration= 1.451192\n",
      "Error Monte Carlo integration= 0.00020958225493972193\n",
      "Value mean value method= 1.4517163155584074\n",
      "Error mean value method= 0.0003147333034676514\n"
     ]
    },
    {
     "data": {
      "image/png": "[encoded data removed]",
      "text/plain": [
       "<Figure size 432x288 with 1 Axes>"
      ]
     },
     "metadata": {
      "needs_background": "light"
     },
     "output_type": "display_data"
    }
   ],
   "source": [
    "from scipy import integrate\n",
    "def f(x):\n",
    "    return (np.sin(1/(x*(2-x))))**2\n",
    "\n",
    "\n",
    "dx = np.linspace(0,2,100000) # dx=2/100000\n",
    "plt.plot(dx,f(dx),'r-')\n",
    "integral_real = integrate.quad( f, 0, 2, limit=100000 )[0]\n",
    "print(\"True value with scipy=\", integral_real )\n",
    "\n",
    "# Monte Carlo integration hit and miss\n",
    "\n",
    "N = 1000000\n",
    "c = 0\n",
    "for i in range(N):\n",
    "    x = 2*np.random.random()\n",
    "    if np.random.random() < f(x): c += 1\n",
    "value = 2*c/N\n",
    "print('Value Monte Carlo integration=', value )\n",
    "print('Error Monte Carlo integration=', abs(integral_real-value) )\n",
    "\n",
    "mean = 2 * f( 2*np.random.random(N) ).sum() / N\n",
    "print('Value mean value method=',mean)\n",
    "print('Error mean value method=',abs(integral_real-mean))"
   ]
  },
  {
   "cell_type": "markdown",
   "metadata": {},
   "source": [
    "4\\. **Monte Carlo integration in high dimension**\n",
    "\n",
    "* Start of by computing the area of a circle of unit radius, by integrating the function \n",
    "\n",
    "$$\n",
    "f(x,y)=\n",
    "\\left\\{\n",
    "\\begin{array}{ll}\n",
    "      1 & x^2+y^2\\le 1 \\\\\n",
    "      0 & {\\rm elsewhere}\n",
    "\\end{array} \n",
    "\\right.\n",
    "$$\n",
    "\n",
    "* Generalize the result for a 10D sphere\n",
    "\n"
   ]
  },
  {
   "cell_type": "code",
   "execution_count": 108,
   "metadata": {},
   "outputs": [
    {
     "name": "stdout",
     "output_type": "stream",
     "text": [
      "2D = 3.13912\n",
      "10D =  2.44736\n"
     ]
    }
   ],
   "source": [
    "def DD(p):\n",
    "    x,y = p\n",
    "    if x**2+y**2<1:\n",
    "        return 1\n",
    "    else:\n",
    "        return 0\n",
    "    \n",
    "N = 100000\n",
    "points = 2*np.random.random(size=(N, 2))-1\n",
    "c = 0\n",
    "for i in points:\n",
    "    c+=area(i)\n",
    "print(\"2D =\",(4*c/N))\n",
    "\n",
    "def D_10(p):\n",
    "    to_sum = p**2\n",
    "    if to_sum.sum()<1:\n",
    "        return 1\n",
    "    else:\n",
    "        return 0\n",
    "\n",
    "points = 2*np.random.random(size=(N, 10))-1\n",
    "c = 0\n",
    "for p in points:\n",
    "    c+=D_10(p)\n",
    "print(\"10D = \",(2**10*c/N))"
   ]
  },
  {
   "cell_type": "markdown",
   "metadata": {},
   "source": [
    "5\\. **Monte Carlo integration with importance sampling** \n",
    "\n",
    "Calculate the value of the integral:\n",
    "\n",
    "$$\n",
    "I=\\int_0^1 \\frac{x^{-1/2}}{e^x+1} dx\n",
    "$$\n",
    "\n",
    "using the importance sampling method with $w(x)=1/\\sqrt{x}$. You should get a result about 0.84"
   ]
  },
  {
   "cell_type": "code",
   "execution_count": 114,
   "metadata": {},
   "outputs": [
    {
     "name": "stdout",
     "output_type": "stream",
     "text": [
      "Result:  0.7591288849725943\n"
     ]
    }
   ],
   "source": [
    "def w(x):\n",
    "    return 1/np.sqrt(x)\n",
    "def f(x):\n",
    "    return 1/(np.sqrt(x)*(np.exp(x)+1))\n",
    "def integral(N, x1, x2):\n",
    "    sampling = integrate.quad(w,x1,x2)[0]\n",
    "    x = np.random.rand(N)\n",
    "    res = f(x)/w(x)\n",
    "    return res.sum()*sampling/N\n",
    "\n",
    "N = int(10**5)\n",
    "\n",
    "print(\"Result: \",integral(N,0,1))"
   ]
  },
  {
   "cell_type": "code",
   "execution_count": null,
   "metadata": {},
   "outputs": [],
   "source": []
  }
 ],
 "metadata": {
  "kernelspec": {
   "display_name": "Python 3",
   "language": "python",
   "name": "python3"
  },
  "language_info": {
   "codemirror_mode": {
    "name": "ipython",
    "version": 3
   },
   "file_extension": ".py",
   "mimetype": "text/x-python",
   "name": "python",
   "nbconvert_exporter": "python",
   "pygments_lexer": "ipython3",
   "version": "3.8.8"
  }
 },
 "nbformat": 4,
 "nbformat_minor": 2
}
